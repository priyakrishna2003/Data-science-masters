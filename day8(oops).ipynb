{
 "cells": [
  {
   "cell_type": "markdown",
   "id": "664c28ac-e2b8-4859-ac00-1961d36b962e",
   "metadata": {},
   "source": [
    "# oops"
   ]
  },
  {
   "cell_type": "code",
   "execution_count": 2,
   "id": "c17b4b96-1453-4801-9e20-8edf721eddd0",
   "metadata": {},
   "outputs": [
    {
     "name": "stdout",
     "output_type": "stream",
     "text": [
      "1\n"
     ]
    }
   ],
   "source": [
    "a=1\n",
    "print(a)"
   ]
  },
  {
   "cell_type": "code",
   "execution_count": 3,
   "id": "8815a26e-9cdf-4848-8ede-fbcd5ff58481",
   "metadata": {},
   "outputs": [
    {
     "name": "stdout",
     "output_type": "stream",
     "text": [
      "<class 'int'>\n"
     ]
    }
   ],
   "source": [
    "print(type(a))"
   ]
  },
  {
   "cell_type": "code",
   "execution_count": 5,
   "id": "1598754d-0d02-4a46-a03e-e79ae65da5ab",
   "metadata": {},
   "outputs": [
    {
     "name": "stdout",
     "output_type": "stream",
     "text": [
      "1 <class 'int'>\n"
     ]
    }
   ],
   "source": [
    "print(a ,type(a))"
   ]
  },
  {
   "cell_type": "code",
   "execution_count": 8,
   "id": "c3db179f-dda1-43b8-b657-9409b1956dda",
   "metadata": {},
   "outputs": [
    {
     "name": "stdout",
     "output_type": "stream",
     "text": [
      "<class 'str'>\n"
     ]
    }
   ],
   "source": [
    "print(type(\"PRIYA\"))"
   ]
  },
  {
   "cell_type": "code",
   "execution_count": 9,
   "id": "2e1f2d5d-c6bc-41eb-b87f-7460f19a6f01",
   "metadata": {},
   "outputs": [
    {
     "name": "stdout",
     "output_type": "stream",
     "text": [
      "<class 'list'>\n"
     ]
    }
   ],
   "source": [
    "l=[1,2,3]\n",
    "print(type(l))"
   ]
  },
  {
   "cell_type": "code",
   "execution_count": 10,
   "id": "f683f62f-8040-4566-9ae8-c8d684b9e0b3",
   "metadata": {},
   "outputs": [
    {
     "name": "stdout",
     "output_type": "stream",
     "text": [
      "<class 'tuple'>\n"
     ]
    }
   ],
   "source": [
    "l=(1,2,3)\n",
    "print(type(l))"
   ]
  },
  {
   "cell_type": "code",
   "execution_count": 11,
   "id": "7036e4ea-4d68-4409-bf61-114e0cde4c78",
   "metadata": {},
   "outputs": [],
   "source": [
    "class test:\n",
    "    pass"
   ]
  },
  {
   "cell_type": "code",
   "execution_count": 12,
   "id": "dd5ff78e-5995-457b-a355-361346b7085d",
   "metadata": {},
   "outputs": [],
   "source": [
    "a=test()    "
   ]
  },
  {
   "cell_type": "code",
   "execution_count": 14,
   "id": "3ae88fba-9dfc-46ab-8b15-b115f1fdd52c",
   "metadata": {},
   "outputs": [
    {
     "name": "stdout",
     "output_type": "stream",
     "text": [
      "<class '__main__.test'>\n"
     ]
    }
   ],
   "source": [
    "print(type(a))"
   ]
  },
  {
   "cell_type": "code",
   "execution_count": 17,
   "id": "f4c2885b-56b8-44ee-bf28-007218be992e",
   "metadata": {},
   "outputs": [],
   "source": [
    "class pwskills:\n",
    "    def welcome_msg(self):\n",
    "        print(\"Welcome to pw skills\")"
   ]
  },
  {
   "cell_type": "code",
   "execution_count": 18,
   "id": "dc5c5a5e-4cdb-49c8-ae40-1528d004282e",
   "metadata": {},
   "outputs": [],
   "source": [
    "rohan=pwskills()"
   ]
  },
  {
   "cell_type": "code",
   "execution_count": 20,
   "id": "6c3e8e91-cc81-4816-95e0-00613f545660",
   "metadata": {},
   "outputs": [
    {
     "name": "stdout",
     "output_type": "stream",
     "text": [
      "Welcome to pw skills\n"
     ]
    }
   ],
   "source": [
    "rohan.welcome_msg()"
   ]
  },
  {
   "cell_type": "code",
   "execution_count": 21,
   "id": "7a5444e7-044c-4dbc-aa09-2102c8659b0a",
   "metadata": {},
   "outputs": [],
   "source": [
    "sonu=pwskills()"
   ]
  },
  {
   "cell_type": "code",
   "execution_count": 22,
   "id": "08c052fe-b62d-4d7c-a7c1-0c83afe23c9b",
   "metadata": {},
   "outputs": [
    {
     "name": "stdout",
     "output_type": "stream",
     "text": [
      "Welcome to pw skills\n"
     ]
    }
   ],
   "source": [
    "sonu.welcome_msg()"
   ]
  },
  {
   "cell_type": "code",
   "execution_count": 23,
   "id": "1aedc629-f845-41b1-8daa-3e2a7053eeaa",
   "metadata": {},
   "outputs": [],
   "source": [
    "a=1"
   ]
  },
  {
   "cell_type": "code",
   "execution_count": 24,
   "id": "b4fe6d9e-2377-47c8-94d6-8a83dc122e38",
   "metadata": {},
   "outputs": [],
   "source": [
    "b=2"
   ]
  },
  {
   "cell_type": "code",
   "execution_count": 25,
   "id": "1eed31ee-2bba-4e58-8a2e-512e39661f97",
   "metadata": {},
   "outputs": [
    {
     "data": {
      "text/plain": [
       "1"
      ]
     },
     "execution_count": 25,
     "metadata": {},
     "output_type": "execute_result"
    }
   ],
   "source": [
    "a"
   ]
  },
  {
   "cell_type": "code",
   "execution_count": 26,
   "id": "6a593441-ba1a-4572-b87c-3f0af60eb0af",
   "metadata": {},
   "outputs": [
    {
     "data": {
      "text/plain": [
       "2"
      ]
     },
     "execution_count": 26,
     "metadata": {},
     "output_type": "execute_result"
    }
   ],
   "source": [
    "b"
   ]
  },
  {
   "cell_type": "code",
   "execution_count": 27,
   "id": "9fb2777f-7ee5-4663-b27d-08c903359ef5",
   "metadata": {},
   "outputs": [],
   "source": [
    "class pwskills1:\n",
    "    \n",
    "    def __init__(self,phone_number,email_id,student_id):\n",
    "        self.phone_number=phone_number\n",
    "        self.email_id=email_id\n",
    "        self.student_id=student_id\n",
    "    \n",
    "    def return_student_details(self):\n",
    "        return self.phone_number, self.email_id, self.student_id\n"
   ]
  },
  {
   "cell_type": "code",
   "execution_count": 28,
   "id": "f220b243-8d4e-400e-b015-048268faac00",
   "metadata": {},
   "outputs": [],
   "source": [
    "rohan=pwskills1(1234567890,\"hi@gmail.com\",101)"
   ]
  },
  {
   "cell_type": "code",
   "execution_count": 29,
   "id": "760eb6f4-22b2-4eff-bcc0-21fb81617643",
   "metadata": {},
   "outputs": [
    {
     "data": {
      "text/plain": [
       "1234567890"
      ]
     },
     "execution_count": 29,
     "metadata": {},
     "output_type": "execute_result"
    }
   ],
   "source": [
    "rohan.phone_number"
   ]
  },
  {
   "cell_type": "code",
   "execution_count": 31,
   "id": "f8d7bea1-7125-4d1b-a84e-92c187472a66",
   "metadata": {},
   "outputs": [
    {
     "data": {
      "text/plain": [
       "(1234567890, 'hi@gmail.com', 101)"
      ]
     },
     "execution_count": 31,
     "metadata": {},
     "output_type": "execute_result"
    }
   ],
   "source": [
    "rohan.return_student_details()"
   ]
  },
  {
   "cell_type": "code",
   "execution_count": 32,
   "id": "b0dbd302-1b44-407e-bf4b-ca89c8b14655",
   "metadata": {},
   "outputs": [
    {
     "data": {
      "text/plain": [
       "'hi@gmail.com'"
      ]
     },
     "execution_count": 32,
     "metadata": {},
     "output_type": "execute_result"
    }
   ],
   "source": [
    "rohan.email_id"
   ]
  },
  {
   "cell_type": "code",
   "execution_count": 33,
   "id": "5054327b-6af2-4cf9-b752-978eaf4b470e",
   "metadata": {},
   "outputs": [
    {
     "data": {
      "text/plain": [
       "101"
      ]
     },
     "execution_count": 33,
     "metadata": {},
     "output_type": "execute_result"
    }
   ],
   "source": [
    "rohan.student_id"
   ]
  },
  {
   "cell_type": "code",
   "execution_count": 36,
   "id": "b6c37f66-5f97-4c59-8d7f-52027cdce7e4",
   "metadata": {},
   "outputs": [],
   "source": [
    "sohan=pwskills1(9876543216,\"yu@gmail.com\",102)"
   ]
  },
  {
   "cell_type": "code",
   "execution_count": 37,
   "id": "ed153c0f-3e57-47f5-b5cd-4ba66d50bfe7",
   "metadata": {},
   "outputs": [
    {
     "data": {
      "text/plain": [
       "'yu@gmail.com'"
      ]
     },
     "execution_count": 37,
     "metadata": {},
     "output_type": "execute_result"
    }
   ],
   "source": [
    "sohan.email_id"
   ]
  },
  {
   "cell_type": "code",
   "execution_count": 38,
   "id": "30b5352c-7e9b-4f2b-bcb0-d8489ff94a86",
   "metadata": {},
   "outputs": [
    {
     "data": {
      "text/plain": [
       "9876543216"
      ]
     },
     "execution_count": 38,
     "metadata": {},
     "output_type": "execute_result"
    }
   ],
   "source": [
    "sohan.phone_number"
   ]
  },
  {
   "cell_type": "code",
   "execution_count": 39,
   "id": "b9113ea5-cd3c-4307-9c1e-9745d914c652",
   "metadata": {},
   "outputs": [
    {
     "data": {
      "text/plain": [
       "102"
      ]
     },
     "execution_count": 39,
     "metadata": {},
     "output_type": "execute_result"
    }
   ],
   "source": [
    "sohan.student_id"
   ]
  },
  {
   "cell_type": "code",
   "execution_count": 40,
   "id": "4e7c6a2f-6bca-44ff-930c-c40c1decff68",
   "metadata": {},
   "outputs": [
    {
     "data": {
      "text/plain": [
       "(9876543216, 'yu@gmail.com', 102)"
      ]
     },
     "execution_count": 40,
     "metadata": {},
     "output_type": "execute_result"
    }
   ],
   "source": [
    "sohan.return_student_details()"
   ]
  },
  {
   "cell_type": "code",
   "execution_count": 42,
   "id": "65fd1dae-add9-4977-876d-8c3b0029b85a",
   "metadata": {},
   "outputs": [],
   "source": [
    "class pwskills2:\n",
    "    \n",
    "    def __init__(pk,phone_number,email_id,student_id):\n",
    "        pk.phone_number=phone_number\n",
    "        pk.email_id=email_id\n",
    "        pk.student_id=student_id\n",
    "    \n",
    "    def return_student_details(pk):\n",
    "        return pk.phone_number, pk.email_id, pk.student_id\n"
   ]
  },
  {
   "cell_type": "code",
   "execution_count": 44,
   "id": "c9e000d0-946e-4dbc-92e2-a8c521f3c2e2",
   "metadata": {},
   "outputs": [],
   "source": [
    "rohan=pwskills2(9876500016,\"aa@gmail.com\",103)"
   ]
  },
  {
   "cell_type": "code",
   "execution_count": 45,
   "id": "74de4214-d40d-47a3-aecb-15e427df5255",
   "metadata": {},
   "outputs": [
    {
     "data": {
      "text/plain": [
       "'aa@gmail.com'"
      ]
     },
     "execution_count": 45,
     "metadata": {},
     "output_type": "execute_result"
    }
   ],
   "source": [
    "rohan.email_id"
   ]
  },
  {
   "cell_type": "code",
   "execution_count": 46,
   "id": "553ef270-fcbe-4cf2-bfd8-086093fbf525",
   "metadata": {},
   "outputs": [
    {
     "data": {
      "text/plain": [
       "9876500016"
      ]
     },
     "execution_count": 46,
     "metadata": {},
     "output_type": "execute_result"
    }
   ],
   "source": [
    "rohan.phone_number"
   ]
  },
  {
   "cell_type": "code",
   "execution_count": 47,
   "id": "23646ed0-7c4a-4038-96c1-193ac358c600",
   "metadata": {},
   "outputs": [
    {
     "data": {
      "text/plain": [
       "(9876500016, 'aa@gmail.com', 103)"
      ]
     },
     "execution_count": 47,
     "metadata": {},
     "output_type": "execute_result"
    }
   ],
   "source": [
    "rohan.return_student_details()"
   ]
  },
  {
   "cell_type": "code",
   "execution_count": 48,
   "id": "d1d3ccb4-01f8-4713-a5a0-39469e8afc89",
   "metadata": {},
   "outputs": [
    {
     "data": {
      "text/plain": [
       "103"
      ]
     },
     "execution_count": 48,
     "metadata": {},
     "output_type": "execute_result"
    }
   ],
   "source": [
    "rohan.student_id"
   ]
  },
  {
   "cell_type": "code",
   "execution_count": 50,
   "id": "4d9520ca-1afb-440c-98a2-29a40f5ba42d",
   "metadata": {},
   "outputs": [],
   "source": [
    "rohan=pwskills3(9806500016,\"ab@gmail.com\",104)"
   ]
  },
  {
   "cell_type": "code",
   "execution_count": 49,
   "id": "81ab6f11-9df5-44e8-b434-74b4bafac49f",
   "metadata": {},
   "outputs": [],
   "source": [
    "class pwskills3:\n",
    "    \n",
    "    def __init__(pk,phone_number,email_id,student_id):\n",
    "        pk.phone_number=phone_number\n",
    "        pk.email_id=email_id\n",
    "        pk.student_id=student_id\n",
    "    \n",
    "    def return_student_details(pk):\n",
    "        return pk.phone_number, pk.email_id, pk.student_id\n"
   ]
  },
  {
   "cell_type": "code",
   "execution_count": 51,
   "id": "cbaa3321-b8ed-45ed-b680-aea5df7f6229",
   "metadata": {},
   "outputs": [
    {
     "data": {
      "text/plain": [
       "9806500016"
      ]
     },
     "execution_count": 51,
     "metadata": {},
     "output_type": "execute_result"
    }
   ],
   "source": [
    "rohan.phone_number"
   ]
  },
  {
   "cell_type": "code",
   "execution_count": 58,
   "id": "d44d30b0-5021-4910-ae81-401819b177e5",
   "metadata": {},
   "outputs": [],
   "source": [
    "class pwskills4:\n",
    "    \n",
    "    def __init__(pk,phone_number,email_id,student_id):\n",
    "        pk.phone_number1=phone_number\n",
    "        pk.email_id=email_id\n",
    "        pk.student_id=student_id\n",
    "    \n",
    "    def return_student_details(pk):\n",
    "        return pk.phone_number1, pk.email_id, pk.student_id\n"
   ]
  },
  {
   "cell_type": "code",
   "execution_count": 59,
   "id": "58a22fe9-e8d4-470d-8584-6ec12e602040",
   "metadata": {},
   "outputs": [],
   "source": [
    "rohan=pwskills4(9806500016,\"ab@gmail.com\",104)"
   ]
  },
  {
   "cell_type": "code",
   "execution_count": 60,
   "id": "f4a46dba-f054-468c-93dd-8ad2422b4f89",
   "metadata": {},
   "outputs": [
    {
     "ename": "AttributeError",
     "evalue": "'pwskills4' object has no attribute 'phone_number'",
     "output_type": "error",
     "traceback": [
      "\u001b[0;31m---------------------------------------------------------------------------\u001b[0m",
      "\u001b[0;31mAttributeError\u001b[0m                            Traceback (most recent call last)",
      "Cell \u001b[0;32mIn[60], line 2\u001b[0m\n\u001b[1;32m      1\u001b[0m \u001b[38;5;66;03m#class understands the variable rather than a assigned value\u001b[39;00m\n\u001b[0;32m----> 2\u001b[0m \u001b[43mrohan\u001b[49m\u001b[38;5;241;43m.\u001b[39;49m\u001b[43mphone_number\u001b[49m\n",
      "\u001b[0;31mAttributeError\u001b[0m: 'pwskills4' object has no attribute 'phone_number'"
     ]
    }
   ],
   "source": [
    "#class understands the variable rather than a assigned value\n",
    "rohan.phone_number"
   ]
  },
  {
   "cell_type": "code",
   "execution_count": 61,
   "id": "64ec402d-12ce-4ad9-892e-37e0b117e994",
   "metadata": {},
   "outputs": [
    {
     "data": {
      "text/plain": [
       "9806500016"
      ]
     },
     "execution_count": 61,
     "metadata": {},
     "output_type": "execute_result"
    }
   ],
   "source": [
    "rohan.phone_number1"
   ]
  },
  {
   "cell_type": "code",
   "execution_count": 63,
   "id": "d2122ebe-627c-4626-94f8-81b268c60193",
   "metadata": {},
   "outputs": [
    {
     "data": {
      "text/plain": [
       "(9806500016, 'ab@gmail.com', 104)"
      ]
     },
     "execution_count": 63,
     "metadata": {},
     "output_type": "execute_result"
    }
   ],
   "source": [
    "rohan.return_student_details()"
   ]
  },
  {
   "cell_type": "code",
   "execution_count": null,
   "id": "aeee4c1a-34b3-43f9-bac1-07c5162ce7f0",
   "metadata": {},
   "outputs": [],
   "source": []
  }
 ],
 "metadata": {
  "kernelspec": {
   "display_name": "Python 3 (ipykernel)",
   "language": "python",
   "name": "python3"
  },
  "language_info": {
   "codemirror_mode": {
    "name": "ipython",
    "version": 3
   },
   "file_extension": ".py",
   "mimetype": "text/x-python",
   "name": "python",
   "nbconvert_exporter": "python",
   "pygments_lexer": "ipython3",
   "version": "3.10.8"
  }
 },
 "nbformat": 4,
 "nbformat_minor": 5
}
