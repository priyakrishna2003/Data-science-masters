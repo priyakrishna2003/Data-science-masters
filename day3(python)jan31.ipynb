{
 "cells": [
  {
   "cell_type": "markdown",
   "id": "910b5b39-0db9-47f7-b0f2-2371f7b5de53",
   "metadata": {},
   "source": [
    "## logical operators\n",
    "1. and\n",
    "2. or\n",
    "3. not"
   ]
  },
  {
   "cell_type": "code",
   "execution_count": 1,
   "id": "1e046776-c924-415b-9c1e-417d9d4aa1ff",
   "metadata": {},
   "outputs": [
    {
     "data": {
      "text/plain": [
       "True"
      ]
     },
     "execution_count": 1,
     "metadata": {},
     "output_type": "execute_result"
    }
   ],
   "source": [
    "True and True"
   ]
  },
  {
   "cell_type": "code",
   "execution_count": 2,
   "id": "af1bc493-4673-45b6-8cbd-bebac9ccee3b",
   "metadata": {},
   "outputs": [
    {
     "data": {
      "text/plain": [
       "False"
      ]
     },
     "execution_count": 2,
     "metadata": {},
     "output_type": "execute_result"
    }
   ],
   "source": [
    "True and False"
   ]
  },
  {
   "cell_type": "code",
   "execution_count": 3,
   "id": "a1e95f60-3f6a-4994-9832-4d13233ff153",
   "metadata": {},
   "outputs": [
    {
     "data": {
      "text/plain": [
       "False"
      ]
     },
     "execution_count": 3,
     "metadata": {},
     "output_type": "execute_result"
    }
   ],
   "source": [
    "False and True"
   ]
  },
  {
   "cell_type": "code",
   "execution_count": 4,
   "id": "ee23f0df-ba6c-4e38-ac4e-0cb5988d4f94",
   "metadata": {},
   "outputs": [
    {
     "data": {
      "text/plain": [
       "False"
      ]
     },
     "execution_count": 4,
     "metadata": {},
     "output_type": "execute_result"
    }
   ],
   "source": [
    "False and False"
   ]
  },
  {
   "cell_type": "code",
   "execution_count": 5,
   "id": "17f2e122-5285-4b1c-9c17-23319da38b39",
   "metadata": {},
   "outputs": [
    {
     "data": {
      "text/plain": [
       "True"
      ]
     },
     "execution_count": 5,
     "metadata": {},
     "output_type": "execute_result"
    }
   ],
   "source": [
    "True or True"
   ]
  },
  {
   "cell_type": "code",
   "execution_count": 6,
   "id": "fa6932e5-c47c-4410-b9bc-a20a2bdcc1df",
   "metadata": {},
   "outputs": [
    {
     "data": {
      "text/plain": [
       "True"
      ]
     },
     "execution_count": 6,
     "metadata": {},
     "output_type": "execute_result"
    }
   ],
   "source": [
    "True or False"
   ]
  },
  {
   "cell_type": "code",
   "execution_count": 7,
   "id": "7feefd9f-09f8-4e74-af68-1625462eed44",
   "metadata": {},
   "outputs": [
    {
     "data": {
      "text/plain": [
       "True"
      ]
     },
     "execution_count": 7,
     "metadata": {},
     "output_type": "execute_result"
    }
   ],
   "source": [
    "False or True"
   ]
  },
  {
   "cell_type": "code",
   "execution_count": 8,
   "id": "7bac3702-7c3c-45b9-8ae3-7662c46946a5",
   "metadata": {},
   "outputs": [
    {
     "data": {
      "text/plain": [
       "False"
      ]
     },
     "execution_count": 8,
     "metadata": {},
     "output_type": "execute_result"
    }
   ],
   "source": [
    "False or False"
   ]
  },
  {
   "cell_type": "code",
   "execution_count": 9,
   "id": "b1e02cff-8660-4947-90c3-8a2f10333a6c",
   "metadata": {},
   "outputs": [
    {
     "data": {
      "text/plain": [
       "False"
      ]
     },
     "execution_count": 9,
     "metadata": {},
     "output_type": "execute_result"
    }
   ],
   "source": [
    "not True"
   ]
  },
  {
   "cell_type": "code",
   "execution_count": 10,
   "id": "ae630c69-5feb-4f24-a815-0f25d8106f84",
   "metadata": {},
   "outputs": [
    {
     "data": {
      "text/plain": [
       "True"
      ]
     },
     "execution_count": 10,
     "metadata": {},
     "output_type": "execute_result"
    }
   ],
   "source": [
    "not False"
   ]
  },
  {
   "cell_type": "markdown",
   "id": "94e3dd17-86f3-49c2-9297-1098f7eaecb0",
   "metadata": {},
   "source": [
    "### logical not"
   ]
  },
  {
   "cell_type": "code",
   "execution_count": 11,
   "id": "558598c8-4365-4ce6-8050-ef5d5c630ad3",
   "metadata": {},
   "outputs": [
    {
     "name": "stdout",
     "output_type": "stream",
     "text": [
      "Defined value of START = True\n",
      "Defined value of STOP = False \n",
      "\n",
      "Defined value of START = True\n",
      "Value of STOP by negating START= False \n",
      "\n",
      "Value of START by negating STOP = True\n",
      "Defined value of STOP = False \n",
      "\n"
     ]
    }
   ],
   "source": [
    "# Lets define two variables having boolean values True and False-\n",
    "START = True\n",
    "STOP = False\n",
    "\n",
    "# Print the values as it is\n",
    "print(f\"Defined value of START = {START}\")\n",
    "print(f\"Defined value of STOP = {STOP} \\n\")\n",
    "\n",
    "# if can also be written as - \n",
    "print(f\"Defined value of START = {START}\")\n",
    "print(f\"Value of STOP by negating START= {not START} \\n\")\n",
    "\n",
    "# alternatively -\n",
    "print(f\"Value of START by negating STOP = {not STOP}\")\n",
    "print(f\"Defined value of STOP = {STOP} \\n\")"
   ]
  },
  {
   "cell_type": "code",
   "execution_count": 12,
   "id": "d4b01b90-cc68-457a-a7fe-b4b4153dba0a",
   "metadata": {},
   "outputs": [
    {
     "data": {
      "text/plain": [
       "True"
      ]
     },
     "execution_count": 12,
     "metadata": {},
     "output_type": "execute_result"
    }
   ],
   "source": [
    "not bool(0)"
   ]
  },
  {
   "cell_type": "code",
   "execution_count": 13,
   "id": "49132b59-1ced-4c5c-9f92-2a959d4f6961",
   "metadata": {},
   "outputs": [
    {
     "data": {
      "text/plain": [
       "False"
      ]
     },
     "execution_count": 13,
     "metadata": {},
     "output_type": "execute_result"
    }
   ],
   "source": [
    "bool(0)"
   ]
  },
  {
   "cell_type": "code",
   "execution_count": 14,
   "id": "4ffdc55e-5d38-430b-92fd-4c5c14517e2e",
   "metadata": {},
   "outputs": [
    {
     "data": {
      "text/plain": [
       "0"
      ]
     },
     "execution_count": 14,
     "metadata": {},
     "output_type": "execute_result"
    }
   ],
   "source": [
    "int(bool(0))"
   ]
  },
  {
   "cell_type": "code",
   "execution_count": 15,
   "id": "0ddb719f-6b4b-4a94-820e-5baab3e4bef1",
   "metadata": {},
   "outputs": [
    {
     "data": {
      "text/plain": [
       "True"
      ]
     },
     "execution_count": 15,
     "metadata": {},
     "output_type": "execute_result"
    }
   ],
   "source": [
    "bool(1)"
   ]
  },
  {
   "cell_type": "code",
   "execution_count": 16,
   "id": "6dc0cb6e-5ce8-492f-ad7f-0e0f277df16a",
   "metadata": {},
   "outputs": [
    {
     "data": {
      "text/plain": [
       "False"
      ]
     },
     "execution_count": 16,
     "metadata": {},
     "output_type": "execute_result"
    }
   ],
   "source": [
    "not bool(1)"
   ]
  },
  {
   "cell_type": "code",
   "execution_count": 17,
   "id": "e37eed07-9711-41fd-b514-d86b06ba7151",
   "metadata": {},
   "outputs": [
    {
     "data": {
      "text/plain": [
       "1"
      ]
     },
     "execution_count": 17,
     "metadata": {},
     "output_type": "execute_result"
    }
   ],
   "source": [
    "int(bool(1))"
   ]
  },
  {
   "cell_type": "code",
   "execution_count": 18,
   "id": "8f434a99-a917-4bcc-b15e-87d20f9de3e8",
   "metadata": {},
   "outputs": [
    {
     "data": {
      "text/plain": [
       "False"
      ]
     },
     "execution_count": 18,
     "metadata": {},
     "output_type": "execute_result"
    }
   ],
   "source": [
    "not 1"
   ]
  },
  {
   "cell_type": "code",
   "execution_count": 19,
   "id": "b8007864-b580-4a78-97dd-f826a778633f",
   "metadata": {},
   "outputs": [
    {
     "data": {
      "text/plain": [
       "True"
      ]
     },
     "execution_count": 19,
     "metadata": {},
     "output_type": "execute_result"
    }
   ],
   "source": [
    "not 0"
   ]
  },
  {
   "cell_type": "code",
   "execution_count": 20,
   "id": "77b855ed-5a3b-497a-9fde-fa2554ae9a66",
   "metadata": {},
   "outputs": [
    {
     "name": "stdout",
     "output_type": "stream",
     "text": [
      "Defined value of START = 1\n",
      "Defined value of STOP = 0 \n",
      "\n",
      "Defined value of START = 1\n",
      "Value of STOP by negating START= 0 \n",
      "\n",
      "Value of START by negating STOP = 1\n",
      "Defined value of STOP = 0 \n",
      "\n"
     ]
    }
   ],
   "source": [
    "START = 1\n",
    "STOP = 0\n",
    "\n",
    "# Print the values as it is\n",
    "print(f\"Defined value of START = {START}\")\n",
    "print(f\"Defined value of STOP = {STOP} \\n\")\n",
    "\n",
    "# if can also be written as - \n",
    "print(f\"Defined value of START = {START}\")\n",
    "print(f\"Value of STOP by negating START= {int(not START)} \\n\")\n",
    "\n",
    "# alternatively -\n",
    "print(f\"Value of START by negating STOP = {int(not STOP)}\")\n",
    "print(f\"Defined value of STOP = {STOP} \\n\")"
   ]
  },
  {
   "cell_type": "code",
   "execution_count": 21,
   "id": "fc6d67ef-1ae6-4e9c-8e15-f079467b4477",
   "metadata": {},
   "outputs": [
    {
     "data": {
      "text/plain": [
       "0"
      ]
     },
     "execution_count": 21,
     "metadata": {},
     "output_type": "execute_result"
    }
   ],
   "source": [
    "int(not(1))"
   ]
  },
  {
   "cell_type": "code",
   "execution_count": 22,
   "id": "aeb773cb-0510-44a0-a772-d9dec08aa59a",
   "metadata": {},
   "outputs": [
    {
     "data": {
      "text/plain": [
       "True"
      ]
     },
     "execution_count": 22,
     "metadata": {},
     "output_type": "execute_result"
    }
   ],
   "source": [
    "bool(2) #other than 0 every thing is true"
   ]
  },
  {
   "cell_type": "code",
   "execution_count": 24,
   "id": "30073140-a27a-4969-8019-3182b489d311",
   "metadata": {},
   "outputs": [
    {
     "data": {
      "text/plain": [
       "True"
      ]
     },
     "execution_count": 24,
     "metadata": {},
     "output_type": "execute_result"
    }
   ],
   "source": [
    "bool(-1)"
   ]
  },
  {
   "cell_type": "code",
   "execution_count": 25,
   "id": "f6c68e6a-632a-463f-a7a4-1e2498667406",
   "metadata": {},
   "outputs": [
    {
     "name": "stdout",
     "output_type": "stream",
     "text": [
      "boolean value of no. 0 is False\n",
      "boolean value of no. 1 is True\n",
      "negation of 0 is True and negation of 1 is False\n",
      "\n",
      "#------------------------#\n",
      "\n"
     ]
    }
   ],
   "source": [
    "zero = 0\n",
    "one = 1\n",
    "\n",
    "print(f\"boolean value of no. {zero} is {bool(zero)}\")\n",
    "print(f\"boolean value of no. {one} is {bool(one)}\")\n",
    "print(f\"negation of {zero} is {not zero} and negation of {one} is {not one}\")\n",
    "print(\"\\n#------------------------#\\n\")"
   ]
  },
  {
   "cell_type": "code",
   "execution_count": 26,
   "id": "08143c93-eff2-4843-9ce1-10baeab67a07",
   "metadata": {},
   "outputs": [
    {
     "data": {
      "text/plain": [
       "True"
      ]
     },
     "execution_count": 26,
     "metadata": {},
     "output_type": "execute_result"
    }
   ],
   "source": [
    "not(0)"
   ]
  },
  {
   "cell_type": "code",
   "execution_count": 27,
   "id": "6598aaa7-d5b5-4d24-aa77-791381f74d5f",
   "metadata": {},
   "outputs": [
    {
     "data": {
      "text/plain": [
       "False"
      ]
     },
     "execution_count": 27,
     "metadata": {},
     "output_type": "execute_result"
    }
   ],
   "source": [
    "not(1)"
   ]
  },
  {
   "cell_type": "code",
   "execution_count": 28,
   "id": "5dc94aa6-d703-479d-9ed0-83ba3d6d6bf9",
   "metadata": {},
   "outputs": [
    {
     "name": "stdout",
     "output_type": "stream",
     "text": [
      "boolean value of no. -5 is True\n",
      "boolean value of no. 5 is True\n",
      "negation of -5 is False and negation of 5 is False\n",
      "\n",
      "#------------------------#\n",
      "\n"
     ]
    }
   ],
   "source": [
    "Some_negative_integer = -5\n",
    "Some_positive_integer = 5\n",
    "\n",
    "print(f\"boolean value of no. {Some_negative_integer} is {bool(Some_negative_integer)}\")\n",
    "print(f\"boolean value of no. {Some_positive_integer} is {bool(Some_positive_integer)}\")\n",
    "print(f\"negation of {Some_negative_integer} is {not Some_negative_integer} \\\n",
    "and negation of {Some_positive_integer} is {not Some_positive_integer}\")\n",
    "\n",
    "print(\"\\n#------------------------#\\n\")"
   ]
  },
  {
   "cell_type": "code",
   "execution_count": 29,
   "id": "615089a0-acdf-4b66-9d53-d520bab6b36e",
   "metadata": {},
   "outputs": [
    {
     "data": {
      "text/plain": [
       "True"
      ]
     },
     "execution_count": 29,
     "metadata": {},
     "output_type": "execute_result"
    }
   ],
   "source": [
    "bool(5)"
   ]
  },
  {
   "cell_type": "code",
   "execution_count": 30,
   "id": "252ed085-d522-46d2-842d-c8c17677d854",
   "metadata": {},
   "outputs": [
    {
     "data": {
      "text/plain": [
       "True"
      ]
     },
     "execution_count": 30,
     "metadata": {},
     "output_type": "execute_result"
    }
   ],
   "source": [
    "bool(-5)"
   ]
  },
  {
   "cell_type": "code",
   "execution_count": 31,
   "id": "4ef359fc-081c-489a-b0c8-36d4eb0f6ef2",
   "metadata": {},
   "outputs": [
    {
     "data": {
      "text/plain": [
       "False"
      ]
     },
     "execution_count": 31,
     "metadata": {},
     "output_type": "execute_result"
    }
   ],
   "source": [
    "not(5)"
   ]
  },
  {
   "cell_type": "code",
   "execution_count": 32,
   "id": "0865a0a6-afad-4b85-b7ed-c6ba20ea3e23",
   "metadata": {},
   "outputs": [
    {
     "data": {
      "text/plain": [
       "False"
      ]
     },
     "execution_count": 32,
     "metadata": {},
     "output_type": "execute_result"
    }
   ],
   "source": [
    "not(-5)"
   ]
  },
  {
   "cell_type": "code",
   "execution_count": 33,
   "id": "620ce09c-c447-40d9-a520-713f90514501",
   "metadata": {},
   "outputs": [
    {
     "name": "stdout",
     "output_type": "stream",
     "text": [
      "boolean value of no. -5.99 is True\n",
      "boolean value of no. 5.6 is True\n",
      "negation of -5.99 is False and negation of 5.6 is False\n"
     ]
    }
   ],
   "source": [
    "Some_negative_float = -5.99\n",
    "Some_positive_float = 5.6\n",
    "\n",
    "print(f\"boolean value of no. {Some_negative_float} is {bool(Some_negative_float)}\")\n",
    "print(f\"boolean value of no. {Some_positive_float} is {bool(Some_positive_float)}\")\n",
    "print(f\"negation of {Some_negative_float} is {not Some_negative_float} \\\n",
    "and negation of {Some_positive_float} is {not Some_positive_float}\")"
   ]
  },
  {
   "cell_type": "markdown",
   "id": "5e011f7a-3409-48d1-b803-450f93422925",
   "metadata": {},
   "source": [
    "### logical and"
   ]
  },
  {
   "cell_type": "code",
   "execution_count": 34,
   "id": "ec9fca9d-e143-498d-aa16-b96a69f8d371",
   "metadata": {},
   "outputs": [
    {
     "name": "stdout",
     "output_type": "stream",
     "text": [
      "Dish contains VEGETABLES: True\n",
      "Dish contains SALT: False\n",
      "Hence dish prepared was good: False\n",
      "\n"
     ]
    }
   ],
   "source": [
    "VEGETABLES = True\n",
    "SALT = False\n",
    "DISH = VEGETABLES and SALT\n",
    "\n",
    "print(f\"Dish contains VEGETABLES: {VEGETABLES}\")\n",
    "print(f\"Dish contains SALT: {SALT}\")\n",
    "print(f\"Hence dish prepared was good: {DISH}\\n\")"
   ]
  },
  {
   "cell_type": "code",
   "execution_count": 36,
   "id": "2b9fe1cb-ae6b-4fa0-acbe-f00abe124a9e",
   "metadata": {},
   "outputs": [
    {
     "data": {
      "text/plain": [
       "1"
      ]
     },
     "execution_count": 36,
     "metadata": {},
     "output_type": "execute_result"
    }
   ],
   "source": [
    "True * True"
   ]
  },
  {
   "cell_type": "code",
   "execution_count": 37,
   "id": "e6204979-714a-460f-85c1-4d7c317fbc83",
   "metadata": {},
   "outputs": [
    {
     "data": {
      "text/plain": [
       "0"
      ]
     },
     "execution_count": 37,
     "metadata": {},
     "output_type": "execute_result"
    }
   ],
   "source": [
    "True * False"
   ]
  },
  {
   "cell_type": "code",
   "execution_count": 38,
   "id": "0b8ee1aa-2788-4b8b-9f51-381579943703",
   "metadata": {},
   "outputs": [
    {
     "data": {
      "text/plain": [
       "0"
      ]
     },
     "execution_count": 38,
     "metadata": {},
     "output_type": "execute_result"
    }
   ],
   "source": [
    "False * False"
   ]
  },
  {
   "cell_type": "code",
   "execution_count": 39,
   "id": "fca1fb60-83e8-4901-8baf-0ca8153a1797",
   "metadata": {},
   "outputs": [
    {
     "data": {
      "text/plain": [
       "True"
      ]
     },
     "execution_count": 39,
     "metadata": {},
     "output_type": "execute_result"
    }
   ],
   "source": [
    "not(False) * True"
   ]
  },
  {
   "cell_type": "code",
   "execution_count": 42,
   "id": "26c61032-9bd7-4001-8cf0-a58b9b0f6c3d",
   "metadata": {},
   "outputs": [
    {
     "data": {
      "text/plain": [
       "1"
      ]
     },
     "execution_count": 42,
     "metadata": {},
     "output_type": "execute_result"
    }
   ],
   "source": [
    "True * (not(False))"
   ]
  },
  {
   "cell_type": "code",
   "execution_count": 44,
   "id": "805c574c-4fb4-48e2-909b-f2089e018074",
   "metadata": {},
   "outputs": [
    {
     "data": {
      "text/plain": [
       "False"
      ]
     },
     "execution_count": 44,
     "metadata": {},
     "output_type": "execute_result"
    }
   ],
   "source": [
    "not(True) * True"
   ]
  },
  {
   "cell_type": "code",
   "execution_count": 45,
   "id": "7469641e-0cce-4cc5-ab66-d1e49c0132df",
   "metadata": {},
   "outputs": [
    {
     "data": {
      "text/plain": [
       "0"
      ]
     },
     "execution_count": 45,
     "metadata": {},
     "output_type": "execute_result"
    }
   ],
   "source": [
    "(not(True)) * True"
   ]
  },
  {
   "cell_type": "code",
   "execution_count": 46,
   "id": "c839ab91-1e23-4f62-93d3-8efb344b4506",
   "metadata": {},
   "outputs": [
    {
     "data": {
      "text/plain": [
       "0"
      ]
     },
     "execution_count": 46,
     "metadata": {},
     "output_type": "execute_result"
    }
   ],
   "source": [
    "True * False"
   ]
  },
  {
   "cell_type": "code",
   "execution_count": 48,
   "id": "59253919-ce92-47a1-a453-fe42fac948b6",
   "metadata": {},
   "outputs": [
    {
     "data": {
      "text/plain": [
       "False"
      ]
     },
     "execution_count": 48,
     "metadata": {},
     "output_type": "execute_result"
    }
   ],
   "source": [
    "not(True) * True"
   ]
  },
  {
   "cell_type": "code",
   "execution_count": 49,
   "id": "2eea75cc-d08c-4ca5-814f-ddb33c750126",
   "metadata": {},
   "outputs": [
    {
     "data": {
      "text/plain": [
       "0"
      ]
     },
     "execution_count": 49,
     "metadata": {},
     "output_type": "execute_result"
    }
   ],
   "source": [
    "(not(True) )* True"
   ]
  },
  {
   "cell_type": "code",
   "execution_count": 50,
   "id": "d0c14ff1-b676-4b1b-85ff-da031874b419",
   "metadata": {},
   "outputs": [
    {
     "data": {
      "text/plain": [
       "7"
      ]
     },
     "execution_count": 50,
     "metadata": {},
     "output_type": "execute_result"
    }
   ],
   "source": [
    "1+2*3"
   ]
  },
  {
   "cell_type": "code",
   "execution_count": 51,
   "id": "0affb4cb-480d-4eeb-b3a8-724791482517",
   "metadata": {},
   "outputs": [
    {
     "data": {
      "text/plain": [
       "9"
      ]
     },
     "execution_count": 51,
     "metadata": {},
     "output_type": "execute_result"
    }
   ],
   "source": [
    "(1+2)*3"
   ]
  },
  {
   "cell_type": "code",
   "execution_count": 52,
   "id": "83a0146c-7d73-4d7e-bd11-87e47a08a16e",
   "metadata": {},
   "outputs": [
    {
     "data": {
      "text/plain": [
       "True"
      ]
     },
     "execution_count": 52,
     "metadata": {},
     "output_type": "execute_result"
    }
   ],
   "source": [
    "not False * False ==True"
   ]
  },
  {
   "cell_type": "code",
   "execution_count": 54,
   "id": "2b5a7af4-d36a-43fa-a938-4a3f2f43aadb",
   "metadata": {},
   "outputs": [
    {
     "name": "stdout",
     "output_type": "stream",
     "text": [
      "True\n"
     ]
    }
   ],
   "source": [
    "print(not False * False)"
   ]
  },
  {
   "cell_type": "code",
   "execution_count": 59,
   "id": "2f2ec0ee-de9a-4e3b-abed-5cd365f21408",
   "metadata": {},
   "outputs": [
    {
     "data": {
      "text/plain": [
       "False"
      ]
     },
     "execution_count": 59,
     "metadata": {},
     "output_type": "execute_result"
    }
   ],
   "source": [
    "(not(False))* False ==True"
   ]
  },
  {
   "cell_type": "code",
   "execution_count": 55,
   "id": "985a2509-f730-4a1b-8210-fe66d6aa1a82",
   "metadata": {},
   "outputs": [
    {
     "data": {
      "text/plain": [
       "False"
      ]
     },
     "execution_count": 55,
     "metadata": {},
     "output_type": "execute_result"
    }
   ],
   "source": [
    "False"
   ]
  },
  {
   "cell_type": "code",
   "execution_count": 56,
   "id": "51384874-6eef-4f18-a154-c1cfe9858153",
   "metadata": {},
   "outputs": [
    {
     "data": {
      "text/plain": [
       "True"
      ]
     },
     "execution_count": 56,
     "metadata": {},
     "output_type": "execute_result"
    }
   ],
   "source": [
    "not False"
   ]
  },
  {
   "cell_type": "code",
   "execution_count": 57,
   "id": "bedd7a04-ba45-47f3-8171-6e06bcd8324e",
   "metadata": {},
   "outputs": [
    {
     "data": {
      "text/plain": [
       "True"
      ]
     },
     "execution_count": 57,
     "metadata": {},
     "output_type": "execute_result"
    }
   ],
   "source": [
    "not(False)"
   ]
  },
  {
   "cell_type": "code",
   "execution_count": 58,
   "id": "14c5b103-0544-4b2c-9c3a-0154edae5dcf",
   "metadata": {},
   "outputs": [
    {
     "data": {
      "text/plain": [
       "True"
      ]
     },
     "execution_count": 58,
     "metadata": {},
     "output_type": "execute_result"
    }
   ],
   "source": [
    "(not(False))"
   ]
  },
  {
   "cell_type": "code",
   "execution_count": 60,
   "id": "d941a169-beea-448c-95e2-8daa7624eb83",
   "metadata": {},
   "outputs": [
    {
     "data": {
      "text/plain": [
       "14.0"
      ]
     },
     "execution_count": 60,
     "metadata": {},
     "output_type": "execute_result"
    }
   ],
   "source": [
    "2*3+40/5      #bodmas rule"
   ]
  },
  {
   "cell_type": "code",
   "execution_count": 61,
   "id": "0e3a210b-ca05-492f-ae7a-d1575c411cdf",
   "metadata": {},
   "outputs": [
    {
     "data": {
      "text/plain": [
       "9.2"
      ]
     },
     "execution_count": 61,
     "metadata": {},
     "output_type": "execute_result"
    }
   ],
   "source": [
    "(2*3+40)/5      #bodmas rule"
   ]
  },
  {
   "cell_type": "code",
   "execution_count": 62,
   "id": "2ae670ef-6f99-486a-9138-3a9a8d01d2d8",
   "metadata": {},
   "outputs": [
    {
     "data": {
      "text/plain": [
       "0"
      ]
     },
     "execution_count": 62,
     "metadata": {},
     "output_type": "execute_result"
    }
   ],
   "source": [
    "False * True"
   ]
  },
  {
   "cell_type": "code",
   "execution_count": 63,
   "id": "fe8986e6-c430-41d2-a021-839ed6d1f194",
   "metadata": {},
   "outputs": [
    {
     "data": {
      "text/plain": [
       "0"
      ]
     },
     "execution_count": 63,
     "metadata": {},
     "output_type": "execute_result"
    }
   ],
   "source": [
    "0 * 1"
   ]
  },
  {
   "cell_type": "code",
   "execution_count": 64,
   "id": "a2ef2ecb-a8bd-4eec-b161-d0a91c1fe710",
   "metadata": {},
   "outputs": [
    {
     "data": {
      "text/plain": [
       "True"
      ]
     },
     "execution_count": 64,
     "metadata": {},
     "output_type": "execute_result"
    }
   ],
   "source": [
    "not(False*True)"
   ]
  },
  {
   "cell_type": "code",
   "execution_count": 65,
   "id": "340a007f-c21a-4732-bf0f-9babc0d8361b",
   "metadata": {},
   "outputs": [
    {
     "data": {
      "text/plain": [
       "False"
      ]
     },
     "execution_count": 65,
     "metadata": {},
     "output_type": "execute_result"
    }
   ],
   "source": [
    "not(True*True)"
   ]
  },
  {
   "cell_type": "code",
   "execution_count": 66,
   "id": "e5f3424b-f209-48eb-befe-cbc143334057",
   "metadata": {},
   "outputs": [
    {
     "data": {
      "text/plain": [
       "True"
      ]
     },
     "execution_count": 66,
     "metadata": {},
     "output_type": "execute_result"
    }
   ],
   "source": [
    "not False * True"
   ]
  },
  {
   "cell_type": "markdown",
   "id": "72d513bc-5e5d-4251-80e0-f740734be1ef",
   "metadata": {},
   "source": [
    "###Equality Operators\n",
    "\n",
    "Following operations are present in python for equlity check operation-\n",
    "\n",
    "|Operators|Meaning|\n",
    "|-|-|\n",
    "|**is**|***a is b*** returns true if variable/identifiers a and b *points* to the *same object*|\n",
    "|**is not**|***a is not b*** returns true if variable/identifiers a and b *points* to the *different object*|\n",
    "|**==**|***a == b*** returns true if variable/identifiers a and b has same value|\n",
    "|**!=**|***a != b*** returns true if variable/identifiers a and b has different value|"
   ]
  },
  {
   "cell_type": "code",
   "execution_count": 67,
   "id": "5e5afba4-04f5-4a82-a105-11999e43a9bd",
   "metadata": {},
   "outputs": [],
   "source": [
    "lst_a=[1,2,3,4]\n",
    "lst_b=[1,2,3,4]\n"
   ]
  },
  {
   "cell_type": "code",
   "execution_count": 68,
   "id": "bb665c2a-c3fb-44f2-8e4b-ac565f1c678a",
   "metadata": {},
   "outputs": [
    {
     "data": {
      "text/plain": [
       "139655097200256"
      ]
     },
     "execution_count": 68,
     "metadata": {},
     "output_type": "execute_result"
    }
   ],
   "source": [
    "id(lst_a)"
   ]
  },
  {
   "cell_type": "code",
   "execution_count": 69,
   "id": "94f38170-e994-41a4-bec4-809833960d1d",
   "metadata": {},
   "outputs": [
    {
     "data": {
      "text/plain": [
       "139655097119104"
      ]
     },
     "execution_count": 69,
     "metadata": {},
     "output_type": "execute_result"
    }
   ],
   "source": [
    "id(lst_b)"
   ]
  },
  {
   "cell_type": "code",
   "execution_count": 70,
   "id": "f7f05f46-aff3-4c5b-acd2-339ab61628b4",
   "metadata": {},
   "outputs": [
    {
     "data": {
      "text/plain": [
       "False"
      ]
     },
     "execution_count": 70,
     "metadata": {},
     "output_type": "execute_result"
    }
   ],
   "source": [
    "lst_a is lst_b"
   ]
  },
  {
   "cell_type": "code",
   "execution_count": 71,
   "id": "231f63e7-36f6-4c21-ad4e-7ced43beb51e",
   "metadata": {},
   "outputs": [],
   "source": [
    "lst_a=[1,2,3,4]\n",
    "lst_b=lst_a\n"
   ]
  },
  {
   "cell_type": "code",
   "execution_count": 72,
   "id": "352f0aba-bfa4-453c-9255-6e921d2053c9",
   "metadata": {},
   "outputs": [
    {
     "data": {
      "text/plain": [
       "139655097119488"
      ]
     },
     "execution_count": 72,
     "metadata": {},
     "output_type": "execute_result"
    }
   ],
   "source": [
    "id(lst_a)"
   ]
  },
  {
   "cell_type": "code",
   "execution_count": 73,
   "id": "7923e67b-d09e-497c-beec-0a5ceb2dc536",
   "metadata": {},
   "outputs": [
    {
     "data": {
      "text/plain": [
       "139655097119488"
      ]
     },
     "execution_count": 73,
     "metadata": {},
     "output_type": "execute_result"
    }
   ],
   "source": [
    "id(lst_b)"
   ]
  },
  {
   "cell_type": "code",
   "execution_count": 74,
   "id": "57e395fc-013b-4167-b82b-0fb79930477a",
   "metadata": {},
   "outputs": [
    {
     "data": {
      "text/plain": [
       "True"
      ]
     },
     "execution_count": 74,
     "metadata": {},
     "output_type": "execute_result"
    }
   ],
   "source": [
    "lst_a is lst_b"
   ]
  },
  {
   "cell_type": "code",
   "execution_count": 75,
   "id": "85ad5aae-ceac-4d8d-805e-8827c7beff27",
   "metadata": {},
   "outputs": [],
   "source": [
    "lst_a=[1,2,3,4]\n",
    "lst_b=[1,2,3,4]\n"
   ]
  },
  {
   "cell_type": "code",
   "execution_count": 76,
   "id": "7a9ee9fd-3488-4671-9fbe-775243150610",
   "metadata": {},
   "outputs": [
    {
     "data": {
      "text/plain": [
       "True"
      ]
     },
     "execution_count": 76,
     "metadata": {},
     "output_type": "execute_result"
    }
   ],
   "source": [
    "lst_a is not lst_b"
   ]
  },
  {
   "cell_type": "code",
   "execution_count": 77,
   "id": "8cae7934-139b-46c0-a52c-ac0c351a3792",
   "metadata": {},
   "outputs": [
    {
     "data": {
      "text/plain": [
       "True"
      ]
     },
     "execution_count": 77,
     "metadata": {},
     "output_type": "execute_result"
    }
   ],
   "source": [
    "lst_a == lst_b"
   ]
  },
  {
   "cell_type": "code",
   "execution_count": 78,
   "id": "16940135-a4fa-4eba-bc88-cc269cdc8b78",
   "metadata": {},
   "outputs": [],
   "source": [
    "a=2\n",
    "b=2"
   ]
  },
  {
   "cell_type": "code",
   "execution_count": 79,
   "id": "1dded245-9503-46b5-81eb-dd67976a7bbc",
   "metadata": {},
   "outputs": [
    {
     "name": "stdout",
     "output_type": "stream",
     "text": [
      "139655299465488\n"
     ]
    }
   ],
   "source": [
    "print(id(a))"
   ]
  },
  {
   "cell_type": "code",
   "execution_count": 80,
   "id": "1e9ad79a-790a-4a7f-940a-1923270bc22b",
   "metadata": {},
   "outputs": [
    {
     "name": "stdout",
     "output_type": "stream",
     "text": [
      "139655299465488\n"
     ]
    }
   ],
   "source": [
    "print(id(b))"
   ]
  },
  {
   "cell_type": "code",
   "execution_count": 81,
   "id": "94099920-308d-4885-ab36-6c2a77934ea9",
   "metadata": {},
   "outputs": [
    {
     "name": "stdout",
     "output_type": "stream",
     "text": [
      "139655260300016\n",
      "139655260300016\n"
     ]
    }
   ],
   "source": [
    "str1=\"pk\"\n",
    "str2=\"pk\"\n",
    "print(id(str1))\n",
    "print(id(str2))"
   ]
  },
  {
   "cell_type": "code",
   "execution_count": 82,
   "id": "006c4c33-12b1-408e-89a7-80da691ffa53",
   "metadata": {},
   "outputs": [
    {
     "name": "stdout",
     "output_type": "stream",
     "text": [
      "139655260300016\n",
      "139655097228400\n"
     ]
    }
   ],
   "source": [
    "str1=\"pk\"\n",
    "str2=\"pk1\"\n",
    "print(id(str1))\n",
    "print(id(str2))"
   ]
  },
  {
   "cell_type": "code",
   "execution_count": 83,
   "id": "db38338b-1fa8-49a5-942a-6e87bcd64bac",
   "metadata": {},
   "outputs": [],
   "source": [
    "# lists have different id numbers unlike string and integers"
   ]
  },
  {
   "cell_type": "code",
   "execution_count": 89,
   "id": "dbbeeede-57fe-40cd-bf18-aa9a519a8d11",
   "metadata": {},
   "outputs": [],
   "source": [
    "lst_a=[1,2,3,4]\n"
   ]
  },
  {
   "cell_type": "code",
   "execution_count": 90,
   "id": "4c331a58-5de2-44a9-8f4a-2b30b47e50f4",
   "metadata": {},
   "outputs": [
    {
     "data": {
      "text/plain": [
       "[1, 2, 3, 4]"
      ]
     },
     "execution_count": 90,
     "metadata": {},
     "output_type": "execute_result"
    }
   ],
   "source": [
    "lst_a"
   ]
  },
  {
   "cell_type": "code",
   "execution_count": 92,
   "id": "af078b28-4c8c-41cb-bbbe-b98944370ab7",
   "metadata": {},
   "outputs": [],
   "source": [
    "lst_a[0]=10"
   ]
  },
  {
   "cell_type": "code",
   "execution_count": 93,
   "id": "fd0fa0e8-1509-4c9f-812c-b28ff60e6594",
   "metadata": {},
   "outputs": [
    {
     "data": {
      "text/plain": [
       "[10, 2, 3, 4]"
      ]
     },
     "execution_count": 93,
     "metadata": {},
     "output_type": "execute_result"
    }
   ],
   "source": [
    "lst_a"
   ]
  },
  {
   "cell_type": "code",
   "execution_count": 95,
   "id": "0014ef24-9202-473a-ab6a-e014ac794e1f",
   "metadata": {},
   "outputs": [
    {
     "data": {
      "text/plain": [
       "[10, 2, 14, 4]"
      ]
     },
     "execution_count": 95,
     "metadata": {},
     "output_type": "execute_result"
    }
   ],
   "source": [
    "lst_a[2]=14   # lists are mutable\n",
    "lst_a"
   ]
  },
  {
   "cell_type": "code",
   "execution_count": 96,
   "id": "b4f5d93f-b4aa-464d-bf8b-415991bc0db1",
   "metadata": {},
   "outputs": [],
   "source": [
    "str1=\"priya\""
   ]
  },
  {
   "cell_type": "code",
   "execution_count": 97,
   "id": "eb623cf5-0393-478c-8b7b-52c83cad7bd5",
   "metadata": {},
   "outputs": [
    {
     "ename": "TypeError",
     "evalue": "'str' object does not support item assignment",
     "output_type": "error",
     "traceback": [
      "\u001b[0;31m---------------------------------------------------------------------------\u001b[0m",
      "\u001b[0;31mTypeError\u001b[0m                                 Traceback (most recent call last)",
      "Cell \u001b[0;32mIn[97], line 1\u001b[0m\n\u001b[0;32m----> 1\u001b[0m \u001b[43mstr1\u001b[49m\u001b[43m[\u001b[49m\u001b[38;5;241;43m0\u001b[39;49m\u001b[43m]\u001b[49m\u001b[38;5;241m=\u001b[39m\u001b[38;5;124m'\u001b[39m\u001b[38;5;124mn\u001b[39m\u001b[38;5;124m'\u001b[39m\n",
      "\u001b[0;31mTypeError\u001b[0m: 'str' object does not support item assignment"
     ]
    }
   ],
   "source": [
    "str1[0]='n'   # strings are immutable(cannot change elements in it)"
   ]
  },
  {
   "cell_type": "markdown",
   "id": "02dab1ef-4a79-41a3-91a9-d7910e8a69ea",
   "metadata": {},
   "source": [
    "### comparision operators\n",
    "|Operation|Meaning|\n",
    "|:-:|:-:|\n",
    "| **<** |less than|\n",
    "| **<=** |less than or equal to|\n",
    "| **>** |greater than|\n",
    "| **>=** |greater than or equal to|\n"
   ]
  },
  {
   "cell_type": "code",
   "execution_count": 98,
   "id": "f56b590f-2212-42d8-8332-41a70f987b83",
   "metadata": {},
   "outputs": [
    {
     "name": "stdout",
     "output_type": "stream",
     "text": [
      "bike is faster than car: False\n"
     ]
    }
   ],
   "source": [
    "maxium_speed_of_bike = 150\n",
    "max_speed_of_car = 200\n",
    "\n",
    "print(f\"bike is faster than car: {maxium_speed_of_bike >= max_speed_of_car}\")"
   ]
  },
  {
   "cell_type": "code",
   "execution_count": 99,
   "id": "1a1ec0b9-e79a-40a9-9511-dc37ea449f1f",
   "metadata": {},
   "outputs": [
    {
     "name": "stdout",
     "output_type": "stream",
     "text": [
      "bike is faster than car: True\n"
     ]
    }
   ],
   "source": [
    "maxium_speed_of_bike = 150\n",
    "max_speed_of_car = 200\n",
    "\n",
    "print(f\"bike is faster than car: {maxium_speed_of_bike <= max_speed_of_car}\")"
   ]
  },
  {
   "cell_type": "code",
   "execution_count": 100,
   "id": "c3ddcb57-9882-4579-9e05-508f22dbcdce",
   "metadata": {},
   "outputs": [
    {
     "name": "stdout",
     "output_type": "stream",
     "text": [
      "bike is faster than car: True\n"
     ]
    }
   ],
   "source": [
    "maxium_speed_of_bike = 200\n",
    "max_speed_of_car = 200\n",
    "\n",
    "print(f\"bike is faster than car: {maxium_speed_of_bike <= max_speed_of_car}\")"
   ]
  },
  {
   "cell_type": "markdown",
   "id": "2ee36f2f-2780-434f-800e-d964885bf110",
   "metadata": {},
   "source": [
    "## Arithmethic Operations\n",
    "|Operation|Meaning|\n",
    "|:-:|:-:|\n",
    "| **+** |addition|\n",
    "| **-** |subtraction|\n",
    "| **\\*** |multiplication|\n",
    "| **/** |true division|\n",
    "| **//** |integer division|\n",
    "| **%** |the modulo operator|"
   ]
  },
  {
   "cell_type": "code",
   "execution_count": 101,
   "id": "2c9ca004-86eb-4bfc-9c27-5aeb2216ed9d",
   "metadata": {},
   "outputs": [],
   "source": [
    "a=25\n",
    "b=101"
   ]
  },
  {
   "cell_type": "code",
   "execution_count": 102,
   "id": "8dc065c9-55f2-4ca9-a167-f35e0c34ad9c",
   "metadata": {},
   "outputs": [
    {
     "data": {
      "text/plain": [
       "126"
      ]
     },
     "execution_count": 102,
     "metadata": {},
     "output_type": "execute_result"
    }
   ],
   "source": [
    "b+a"
   ]
  },
  {
   "cell_type": "code",
   "execution_count": 103,
   "id": "b4fcfbc7-3838-44b1-95f9-c518fb254700",
   "metadata": {},
   "outputs": [
    {
     "data": {
      "text/plain": [
       "76"
      ]
     },
     "execution_count": 103,
     "metadata": {},
     "output_type": "execute_result"
    }
   ],
   "source": [
    "b-a"
   ]
  },
  {
   "cell_type": "code",
   "execution_count": 104,
   "id": "482f7c41-92af-4854-9fcd-5253e7178f81",
   "metadata": {},
   "outputs": [
    {
     "data": {
      "text/plain": [
       "2525"
      ]
     },
     "execution_count": 104,
     "metadata": {},
     "output_type": "execute_result"
    }
   ],
   "source": [
    "b*a"
   ]
  },
  {
   "cell_type": "code",
   "execution_count": 105,
   "id": "5cdcacfb-5ad4-41cf-b248-336e26695260",
   "metadata": {},
   "outputs": [
    {
     "data": {
      "text/plain": [
       "4.04"
      ]
     },
     "execution_count": 105,
     "metadata": {},
     "output_type": "execute_result"
    }
   ],
   "source": [
    "b/a"
   ]
  },
  {
   "cell_type": "code",
   "execution_count": 106,
   "id": "34d09f15-e45f-420d-9f95-329bc7cdd049",
   "metadata": {},
   "outputs": [
    {
     "data": {
      "text/plain": [
       "0"
      ]
     },
     "execution_count": 106,
     "metadata": {},
     "output_type": "execute_result"
    }
   ],
   "source": [
    "a//b"
   ]
  },
  {
   "cell_type": "code",
   "execution_count": 107,
   "id": "0ced9c12-4414-42f8-b935-b49d5f51c661",
   "metadata": {},
   "outputs": [
    {
     "data": {
      "text/plain": [
       "4"
      ]
     },
     "execution_count": 107,
     "metadata": {},
     "output_type": "execute_result"
    }
   ],
   "source": [
    "b//a   # doesnt print decimal part"
   ]
  },
  {
   "cell_type": "code",
   "execution_count": 108,
   "id": "7c15e65d-76c2-4a71-8085-54ba55f2d4e4",
   "metadata": {},
   "outputs": [
    {
     "data": {
      "text/plain": [
       "1"
      ]
     },
     "execution_count": 108,
     "metadata": {},
     "output_type": "execute_result"
    }
   ],
   "source": [
    "b%a # remainder"
   ]
  },
  {
   "cell_type": "markdown",
   "id": "5628e3c4-d4eb-48fa-8fa4-834f40b3d7a9",
   "metadata": {},
   "source": [
    "### Bitwise Operators\n",
    "|Operation|Meaning|\n",
    "|:-:|:-:|\n",
    "| **∼** |bitwise complement (prefix unary operator)|\n",
    "| **&** |bitwise and|\n",
    "| **\\|** |bitwise or|\n",
    "| **^** |bitwise exclusive-or|\n",
    "| **<<** |shift bits left, filling in with zeros|\n",
    "| **>>** |shift bits right, filling in with sign bit|\n"
   ]
  },
  {
   "cell_type": "code",
   "execution_count": 109,
   "id": "bf122644-06b9-4cd0-ad38-8a46df658f71",
   "metadata": {},
   "outputs": [
    {
     "data": {
      "text/plain": [
       "'0b1010'"
      ]
     },
     "execution_count": 109,
     "metadata": {},
     "output_type": "execute_result"
    }
   ],
   "source": [
    "var=10\n",
    "bin(var)"
   ]
  },
  {
   "cell_type": "code",
   "execution_count": 110,
   "id": "a0dff19d-bf7f-417c-8ad1-f0defe86e0a2",
   "metadata": {},
   "outputs": [
    {
     "data": {
      "text/plain": [
       "-11"
      ]
     },
     "execution_count": 110,
     "metadata": {},
     "output_type": "execute_result"
    }
   ],
   "source": [
    "~var"
   ]
  },
  {
   "cell_type": "markdown",
   "id": "4a686c1e-2996-4a6a-9a25-826b736f4458",
   "metadata": {},
   "source": [
    "### bitwise and\n",
    "&(Bitwise AND) - Result bit 1,if both operand bits are 1;otherwise results bit 0."
   ]
  },
  {
   "cell_type": "raw",
   "id": "7c15edf4-9cac-40f0-b3fd-d29e512b9ae3",
   "metadata": {},
   "source": [
    "# example\n",
    "a = 10 = 1010 (Binary)\n",
    "b = 4 =  0100 (Binary)\n",
    "\n",
    "a & b = 1010\n",
    "         &\n",
    "        0100\n",
    "      = 0000\n",
    "      = 0 (Decimal)"
   ]
  },
  {
   "cell_type": "code",
   "execution_count": 112,
   "id": "a0472438-dd6a-450d-95d3-bbd185e6329b",
   "metadata": {},
   "outputs": [
    {
     "data": {
      "text/plain": [
       "0"
      ]
     },
     "execution_count": 112,
     "metadata": {},
     "output_type": "execute_result"
    }
   ],
   "source": [
    "a=10\n",
    "b=4\n",
    "a&b"
   ]
  },
  {
   "cell_type": "markdown",
   "id": "ac066b3d-bb7e-46e0-8c89-0a5e4b092beb",
   "metadata": {},
   "source": [
    "### bitwise or\n",
    "|\t(Bitwise OR) - Result bit 1,if any of the operand bit is 1; otherwise results bit 0."
   ]
  },
  {
   "cell_type": "raw",
   "id": "7e060e2a-b0ed-4a45-bc85-aa363e2d16b8",
   "metadata": {},
   "source": [
    "# example\n",
    "a = 10 = 1010 (Binary)\n",
    "b = 4 =  0100 (Binary)\n",
    "\n",
    "a | b = 1010\n",
    "         |\n",
    "        0100\n",
    "      = 1110\n",
    "      = 14 (Decimal)"
   ]
  },
  {
   "cell_type": "code",
   "execution_count": 113,
   "id": "15377131-8772-4f00-bbec-343000d273de",
   "metadata": {},
   "outputs": [
    {
     "data": {
      "text/plain": [
       "14"
      ]
     },
     "execution_count": 113,
     "metadata": {},
     "output_type": "execute_result"
    }
   ],
   "source": [
    "a=10\n",
    "b=4\n",
    "a|b"
   ]
  },
  {
   "cell_type": "markdown",
   "id": "e6dc1713-98ff-42bd-9641-a037c898bfee",
   "metadata": {},
   "source": [
    "### bitwise not\n",
    "~\t(Bitwise NOT) -\tinverts individual bits"
   ]
  },
  {
   "cell_type": "raw",
   "id": "9fefd5d8-e387-46c4-b421-29dd89ee96f8",
   "metadata": {},
   "source": [
    "a = 10 = 1010 (Binary)\n",
    "\n",
    "In computers we ususally represent numbers using 32 bits,\n",
    "so binary representation of 10 is (....0000 1010)[32 bits]\n",
    "\n",
    "~a is basically 1's complement of a \n",
    "i.e ~a should be ~10 = ~(....0000 1010) = (....1111 0101) = intermediate-result\n",
    "\n",
    "Since bitwise negation inverts the sign bit,\n",
    "we now have a negative number. And we represent a negative number\n",
    "using 2's complement.\n",
    "\n",
    "2's complement of intermediate-result is:\n",
    "intermediate-res =  0101      //....1111 0101\n",
    "      \n",
    "                     1010      //....0000 1010 -(1's complement)\n",
    "                         +1    \n",
    "                 -----------\n",
    "                   =  1011      //....0000 1011\n",
    "                  -----------\n",
    "                   =   -11 (Decimal)\n",
    "                   \n",
    "thus ~a = -11"
   ]
  },
  {
   "cell_type": "code",
   "execution_count": 114,
   "id": "a5a7277d-3af0-4e54-bdc8-9b364d3fd464",
   "metadata": {},
   "outputs": [
    {
     "data": {
      "text/plain": [
       "-11"
      ]
     },
     "execution_count": 114,
     "metadata": {},
     "output_type": "execute_result"
    }
   ],
   "source": [
    "a=10\n",
    "~a"
   ]
  },
  {
   "cell_type": "markdown",
   "id": "9c0fe4fd-3a29-4e1e-a461-dee5373c424a",
   "metadata": {},
   "source": [
    "### bitwise exclusive-or\n",
    "^\t(Bitwise XOR)\t - Results bit 1,if any of the operand bit is 1 but not both, otherwise results bit 0."
   ]
  },
  {
   "cell_type": "raw",
   "id": "289de622-20b3-44ee-a8bd-c8661971783d",
   "metadata": {},
   "source": [
    "a = 10 = 1010 (Binary)\n",
    "b = 4 =  0100 (Binary)\n",
    "\n",
    "a ^ b = 1010\n",
    "         ^\n",
    "        0100\n",
    "      = 1110\n",
    "      = 14 (Decimal)"
   ]
  },
  {
   "cell_type": "code",
   "execution_count": 115,
   "id": "48256b9f-8b39-4b17-b956-2947468aef55",
   "metadata": {},
   "outputs": [
    {
     "data": {
      "text/plain": [
       "14"
      ]
     },
     "execution_count": 115,
     "metadata": {},
     "output_type": "execute_result"
    }
   ],
   "source": [
    "a=10\n",
    "b=4\n",
    "a^b"
   ]
  },
  {
   "cell_type": "markdown",
   "id": "378a8843-13ce-406d-acb4-c19c7df758f1",
   "metadata": {},
   "source": [
    "### bitwise right shift\n",
    "(>>)- The left operand’s value is moved toward right by the number of bits specified by the right operand."
   ]
  },
  {
   "cell_type": "raw",
   "id": "113f5a08-0084-4d1b-acf7-580a8e203d1d",
   "metadata": {},
   "source": [
    "#example\n",
    "a = 10 = 0000 1010 (Binary)\n",
    "a >> 1 = 0000 0101 = 5"
   ]
  },
  {
   "cell_type": "code",
   "execution_count": 116,
   "id": "83b7314d-2e10-4ef5-b1b2-8f3d468fbe56",
   "metadata": {},
   "outputs": [
    {
     "data": {
      "text/plain": [
       "5"
      ]
     },
     "execution_count": 116,
     "metadata": {},
     "output_type": "execute_result"
    }
   ],
   "source": [
    "a=10\n",
    "a>>1"
   ]
  },
  {
   "cell_type": "code",
   "execution_count": 120,
   "id": "79197fa9-e59e-40ec-8aa8-3292d5d56fe5",
   "metadata": {},
   "outputs": [
    {
     "data": {
      "text/plain": [
       "1"
      ]
     },
     "execution_count": 120,
     "metadata": {},
     "output_type": "execute_result"
    }
   ],
   "source": [
    "a=13\n",
    "a>>3"
   ]
  },
  {
   "cell_type": "markdown",
   "id": "4837dab6-e709-436a-b524-03e0c90e62db",
   "metadata": {},
   "source": [
    "### Bitwise left shift\t\n",
    "(<<)The left operand’s value is moved toward left by the number of bits specified by the right operand."
   ]
  },
  {
   "cell_type": "code",
   "execution_count": 121,
   "id": "cff2b25d-a310-42b3-8a54-ee4ec4f39abd",
   "metadata": {},
   "outputs": [
    {
     "data": {
      "text/plain": [
       "20"
      ]
     },
     "execution_count": 121,
     "metadata": {},
     "output_type": "execute_result"
    }
   ],
   "source": [
    "a=10\n",
    "a<<1"
   ]
  },
  {
   "cell_type": "markdown",
   "id": "d5b6bf9b-7313-4489-87a6-92524bf69282",
   "metadata": {},
   "source": [
    "# strings"
   ]
  },
  {
   "cell_type": "code",
   "execution_count": 122,
   "id": "6aab176f-3a55-4572-a03f-93d76acb6a8d",
   "metadata": {},
   "outputs": [],
   "source": [
    "# strings are defined by '' or \"\"\n"
   ]
  },
  {
   "cell_type": "code",
   "execution_count": 123,
   "id": "c3c34ae3-eec6-4715-9014-a7ab7b23646d",
   "metadata": {},
   "outputs": [
    {
     "data": {
      "text/plain": [
       "'hi'"
      ]
     },
     "execution_count": 123,
     "metadata": {},
     "output_type": "execute_result"
    }
   ],
   "source": [
    "\"hi\""
   ]
  },
  {
   "cell_type": "code",
   "execution_count": 124,
   "id": "530c22e2-a898-402e-9e3d-9b2e54d78b45",
   "metadata": {},
   "outputs": [],
   "source": [
    "str1=\"welcome\""
   ]
  },
  {
   "cell_type": "code",
   "execution_count": 125,
   "id": "a882f4fa-ac8f-4e97-901a-d7b15605f580",
   "metadata": {},
   "outputs": [
    {
     "data": {
      "text/plain": [
       "str"
      ]
     },
     "execution_count": 125,
     "metadata": {},
     "output_type": "execute_result"
    }
   ],
   "source": [
    "type(str1)"
   ]
  },
  {
   "cell_type": "code",
   "execution_count": 127,
   "id": "becc661d-de82-4d83-93e6-0b9e4b4705e8",
   "metadata": {},
   "outputs": [
    {
     "data": {
      "text/plain": [
       "'e'"
      ]
     },
     "execution_count": 127,
     "metadata": {},
     "output_type": "execute_result"
    }
   ],
   "source": [
    "str1[1]    # immutable=cant replace elements"
   ]
  },
  {
   "cell_type": "code",
   "execution_count": 128,
   "id": "79e0c3d2-7706-459c-a81f-d5461565fbfd",
   "metadata": {},
   "outputs": [],
   "source": [
    "str1=\"hello\""
   ]
  },
  {
   "cell_type": "code",
   "execution_count": 129,
   "id": "05ba44a2-7213-4307-8104-4e856902744a",
   "metadata": {},
   "outputs": [
    {
     "data": {
      "text/plain": [
       "'hello'"
      ]
     },
     "execution_count": 129,
     "metadata": {},
     "output_type": "execute_result"
    }
   ],
   "source": [
    "str1"
   ]
  },
  {
   "cell_type": "code",
   "execution_count": 130,
   "id": "f7132cf9-fd50-4c3b-8817-9d6623bd8569",
   "metadata": {},
   "outputs": [],
   "source": [
    "welcome=\"hello world\""
   ]
  },
  {
   "cell_type": "code",
   "execution_count": 131,
   "id": "f2e0c289-eda3-4519-a532-b16bacf15f7d",
   "metadata": {},
   "outputs": [
    {
     "data": {
      "text/plain": [
       "['__add__',\n",
       " '__class__',\n",
       " '__contains__',\n",
       " '__delattr__',\n",
       " '__dir__',\n",
       " '__doc__',\n",
       " '__eq__',\n",
       " '__format__',\n",
       " '__ge__',\n",
       " '__getattribute__',\n",
       " '__getitem__',\n",
       " '__getnewargs__',\n",
       " '__gt__',\n",
       " '__hash__',\n",
       " '__init__',\n",
       " '__init_subclass__',\n",
       " '__iter__',\n",
       " '__le__',\n",
       " '__len__',\n",
       " '__lt__',\n",
       " '__mod__',\n",
       " '__mul__',\n",
       " '__ne__',\n",
       " '__new__',\n",
       " '__reduce__',\n",
       " '__reduce_ex__',\n",
       " '__repr__',\n",
       " '__rmod__',\n",
       " '__rmul__',\n",
       " '__setattr__',\n",
       " '__sizeof__',\n",
       " '__str__',\n",
       " '__subclasshook__',\n",
       " 'capitalize',\n",
       " 'casefold',\n",
       " 'center',\n",
       " 'count',\n",
       " 'encode',\n",
       " 'endswith',\n",
       " 'expandtabs',\n",
       " 'find',\n",
       " 'format',\n",
       " 'format_map',\n",
       " 'index',\n",
       " 'isalnum',\n",
       " 'isalpha',\n",
       " 'isascii',\n",
       " 'isdecimal',\n",
       " 'isdigit',\n",
       " 'isidentifier',\n",
       " 'islower',\n",
       " 'isnumeric',\n",
       " 'isprintable',\n",
       " 'isspace',\n",
       " 'istitle',\n",
       " 'isupper',\n",
       " 'join',\n",
       " 'ljust',\n",
       " 'lower',\n",
       " 'lstrip',\n",
       " 'maketrans',\n",
       " 'partition',\n",
       " 'removeprefix',\n",
       " 'removesuffix',\n",
       " 'replace',\n",
       " 'rfind',\n",
       " 'rindex',\n",
       " 'rjust',\n",
       " 'rpartition',\n",
       " 'rsplit',\n",
       " 'rstrip',\n",
       " 'split',\n",
       " 'splitlines',\n",
       " 'startswith',\n",
       " 'strip',\n",
       " 'swapcase',\n",
       " 'title',\n",
       " 'translate',\n",
       " 'upper',\n",
       " 'zfill']"
      ]
     },
     "execution_count": 131,
     "metadata": {},
     "output_type": "execute_result"
    }
   ],
   "source": [
    "dir(welcome)     # gives inbuilt functions inside that string"
   ]
  },
  {
   "cell_type": "code",
   "execution_count": 132,
   "id": "05bf2a7a-7887-42fb-b81d-671cc2cbea77",
   "metadata": {},
   "outputs": [],
   "source": [
    "str2=\"pw skills\""
   ]
  },
  {
   "cell_type": "code",
   "execution_count": 133,
   "id": "017d0e4b-9dfe-4016-893c-cb70a621699c",
   "metadata": {},
   "outputs": [
    {
     "data": {
      "text/plain": [
       "'i'"
      ]
     },
     "execution_count": 133,
     "metadata": {},
     "output_type": "execute_result"
    }
   ],
   "source": [
    "str2[5]"
   ]
  },
  {
   "cell_type": "code",
   "execution_count": 134,
   "id": "f985c34d-ac85-4a7b-a356-ee0cd2ba8eaa",
   "metadata": {},
   "outputs": [
    {
     "data": {
      "text/plain": [
       "'ills'"
      ]
     },
     "execution_count": 134,
     "metadata": {},
     "output_type": "execute_result"
    }
   ],
   "source": [
    "str2[5:]      # slice operation "
   ]
  },
  {
   "cell_type": "code",
   "execution_count": 135,
   "id": "ef3dc06f-69ce-417b-b41e-5c7ada886243",
   "metadata": {},
   "outputs": [
    {
     "data": {
      "text/plain": [
       "'ill'"
      ]
     },
     "execution_count": 135,
     "metadata": {},
     "output_type": "execute_result"
    }
   ],
   "source": [
    "str2[5:8]       #counts including spaces"
   ]
  },
  {
   "cell_type": "code",
   "execution_count": 136,
   "id": "3d2033ff-292d-4423-8574-ba3bbca21d43",
   "metadata": {},
   "outputs": [
    {
     "data": {
      "text/plain": [
       "'s'"
      ]
     },
     "execution_count": 136,
     "metadata": {},
     "output_type": "execute_result"
    }
   ],
   "source": [
    "str2[-1]"
   ]
  },
  {
   "cell_type": "code",
   "execution_count": 139,
   "id": "57a8219d-4b55-4a79-a3fb-84ee7d341d57",
   "metadata": {},
   "outputs": [
    {
     "data": {
      "text/plain": [
       "'s'"
      ]
     },
     "execution_count": 139,
     "metadata": {},
     "output_type": "execute_result"
    }
   ],
   "source": [
    "str2[-1:]"
   ]
  },
  {
   "cell_type": "code",
   "execution_count": 140,
   "id": "2ad03d25-fe05-45e0-b499-930b81edb8bf",
   "metadata": {},
   "outputs": [
    {
     "data": {
      "text/plain": [
       "'lls'"
      ]
     },
     "execution_count": 140,
     "metadata": {},
     "output_type": "execute_result"
    }
   ],
   "source": [
    "str2[-3:]"
   ]
  },
  {
   "cell_type": "code",
   "execution_count": 141,
   "id": "bf297e50-a7d9-4b6e-bf0a-8a9b6a5326e1",
   "metadata": {},
   "outputs": [
    {
     "data": {
      "text/plain": [
       "'kills'"
      ]
     },
     "execution_count": 141,
     "metadata": {},
     "output_type": "execute_result"
    }
   ],
   "source": [
    "str2[-5:]"
   ]
  },
  {
   "cell_type": "code",
   "execution_count": 142,
   "id": "6a7df4ef-cb7d-4db0-96cd-69d9a1720f4e",
   "metadata": {},
   "outputs": [
    {
     "data": {
      "text/plain": [
       "'kil'"
      ]
     },
     "execution_count": 142,
     "metadata": {},
     "output_type": "execute_result"
    }
   ],
   "source": [
    "str2[-5:7]"
   ]
  },
  {
   "cell_type": "code",
   "execution_count": 144,
   "id": "f3c81f44-4d49-48a3-889f-2916018b17fd",
   "metadata": {},
   "outputs": [
    {
     "data": {
      "text/plain": [
       "' skill'"
      ]
     },
     "execution_count": 144,
     "metadata": {},
     "output_type": "execute_result"
    }
   ],
   "source": [
    "str2[-7:8]"
   ]
  },
  {
   "cell_type": "code",
   "execution_count": 145,
   "id": "fcdfaf63-2e44-4690-8ae0-a704f50932c3",
   "metadata": {},
   "outputs": [
    {
     "data": {
      "text/plain": [
       "'w skills'"
      ]
     },
     "execution_count": 145,
     "metadata": {},
     "output_type": "execute_result"
    }
   ],
   "source": [
    "str2[-8:]"
   ]
  },
  {
   "cell_type": "code",
   "execution_count": 146,
   "id": "dd7887c0-b653-4e39-be69-67a2f1611ede",
   "metadata": {},
   "outputs": [
    {
     "data": {
      "text/plain": [
       "'s'"
      ]
     },
     "execution_count": 146,
     "metadata": {},
     "output_type": "execute_result"
    }
   ],
   "source": [
    "str2[-1:]"
   ]
  },
  {
   "cell_type": "code",
   "execution_count": 148,
   "id": "39ab76b8-8f9d-472d-9424-e64a3165a4d8",
   "metadata": {},
   "outputs": [
    {
     "data": {
      "text/plain": [
       "''"
      ]
     },
     "execution_count": 148,
     "metadata": {},
     "output_type": "execute_result"
    }
   ],
   "source": [
    "str2[-1:1]"
   ]
  },
  {
   "cell_type": "code",
   "execution_count": 150,
   "id": "335de4a2-b731-4744-a0c7-1b8096b51d29",
   "metadata": {},
   "outputs": [
    {
     "data": {
      "text/plain": [
       "'pw skill'"
      ]
     },
     "execution_count": 150,
     "metadata": {},
     "output_type": "execute_result"
    }
   ],
   "source": [
    "str2[:-1]"
   ]
  },
  {
   "cell_type": "code",
   "execution_count": 151,
   "id": "c4ab6078-45c7-484b-a7fd-d44dd8bb1e62",
   "metadata": {},
   "outputs": [
    {
     "data": {
      "text/plain": [
       "'pw skills'"
      ]
     },
     "execution_count": 151,
     "metadata": {},
     "output_type": "execute_result"
    }
   ],
   "source": [
    "str2[:]"
   ]
  },
  {
   "cell_type": "code",
   "execution_count": 152,
   "id": "7ecf9115-9023-403d-8933-e755977c0e9c",
   "metadata": {},
   "outputs": [],
   "source": [
    "name=\"priya krishna\""
   ]
  },
  {
   "cell_type": "code",
   "execution_count": 154,
   "id": "2a353a8a-5a43-44d3-99e6-262959348404",
   "metadata": {},
   "outputs": [
    {
     "data": {
      "text/plain": [
       "'ish'"
      ]
     },
     "execution_count": 154,
     "metadata": {},
     "output_type": "execute_result"
    }
   ],
   "source": [
    "name[-5:11]"
   ]
  },
  {
   "cell_type": "code",
   "execution_count": 155,
   "id": "2d69b0ad-54e2-4835-887b-daf25fd10f3f",
   "metadata": {},
   "outputs": [
    {
     "data": {
      "text/plain": [
       "'anhsirk ayirp'"
      ]
     },
     "execution_count": 155,
     "metadata": {},
     "output_type": "execute_result"
    }
   ],
   "source": [
    "#reversing string\n",
    "name[::-1]"
   ]
  },
  {
   "cell_type": "code",
   "execution_count": 156,
   "id": "87f1b26b-7ed1-4d37-80fa-9283bf9619c2",
   "metadata": {},
   "outputs": [
    {
     "data": {
      "text/plain": [
       "'ahikaip'"
      ]
     },
     "execution_count": 156,
     "metadata": {},
     "output_type": "execute_result"
    }
   ],
   "source": [
    "name[::-2]    #step size"
   ]
  },
  {
   "cell_type": "code",
   "execution_count": 157,
   "id": "3a13995e-d8d1-4cb6-b7ae-ba95b4bf9cd4",
   "metadata": {},
   "outputs": [
    {
     "data": {
      "text/plain": [
       "'iya krishna'"
      ]
     },
     "execution_count": 157,
     "metadata": {},
     "output_type": "execute_result"
    }
   ],
   "source": [
    "name[2::]"
   ]
  },
  {
   "cell_type": "code",
   "execution_count": 158,
   "id": "ca6139e0-a214-47a2-b02a-73f95e136e00",
   "metadata": {},
   "outputs": [
    {
     "data": {
      "text/plain": [
       "'pr'"
      ]
     },
     "execution_count": 158,
     "metadata": {},
     "output_type": "execute_result"
    }
   ],
   "source": [
    "name[:2:]"
   ]
  },
  {
   "cell_type": "code",
   "execution_count": 159,
   "id": "627cb050-ffef-4b67-97b7-6979d3fe13a7",
   "metadata": {},
   "outputs": [
    {
     "data": {
      "text/plain": [
       "'priy'"
      ]
     },
     "execution_count": 159,
     "metadata": {},
     "output_type": "execute_result"
    }
   ],
   "source": [
    "name[:4:]"
   ]
  },
  {
   "cell_type": "code",
   "execution_count": 160,
   "id": "ad3179a7-6ad7-4be4-9fd9-109d38a63d46",
   "metadata": {},
   "outputs": [
    {
     "data": {
      "text/plain": [
       "'k ayirp'"
      ]
     },
     "execution_count": 160,
     "metadata": {},
     "output_type": "execute_result"
    }
   ],
   "source": [
    "name[6::-1]"
   ]
  },
  {
   "cell_type": "code",
   "execution_count": 162,
   "id": "248865bf-e82b-41af-91f6-3951b42a9e47",
   "metadata": {},
   "outputs": [
    {
     "data": {
      "text/plain": [
       "'sr yr'"
      ]
     },
     "execution_count": 162,
     "metadata": {},
     "output_type": "execute_result"
    }
   ],
   "source": [
    "name[9::-2]"
   ]
  },
  {
   "cell_type": "code",
   "execution_count": 163,
   "id": "7104e2bb-57f9-4d5a-b51b-014ad63f1d6d",
   "metadata": {},
   "outputs": [
    {
     "data": {
      "text/plain": [
       "'sirk ayirp'"
      ]
     },
     "execution_count": 163,
     "metadata": {},
     "output_type": "execute_result"
    }
   ],
   "source": [
    "name[9::-1]"
   ]
  },
  {
   "cell_type": "code",
   "execution_count": 164,
   "id": "01f3bb2d-7a86-47ca-878d-8d694654a470",
   "metadata": {},
   "outputs": [
    {
     "data": {
      "text/plain": [
       "'priya krishna'"
      ]
     },
     "execution_count": 164,
     "metadata": {},
     "output_type": "execute_result"
    }
   ],
   "source": [
    "name[::1]"
   ]
  },
  {
   "cell_type": "code",
   "execution_count": 165,
   "id": "d9872f83-7df9-4491-9af5-789d629d4566",
   "metadata": {},
   "outputs": [
    {
     "data": {
      "text/plain": [
       "'piakiha'"
      ]
     },
     "execution_count": 165,
     "metadata": {},
     "output_type": "execute_result"
    }
   ],
   "source": [
    "name[::2]"
   ]
  },
  {
   "cell_type": "code",
   "execution_count": 166,
   "id": "497bfc7b-bef9-48b9-9bd4-7b73117bbce3",
   "metadata": {},
   "outputs": [],
   "source": [
    "a=\"hello\"\n"
   ]
  },
  {
   "cell_type": "code",
   "execution_count": 171,
   "id": "8fc9dbf8-048f-497f-b811-ba3c26f5cd03",
   "metadata": {},
   "outputs": [
    {
     "data": {
      "text/plain": [
       "'olleh'"
      ]
     },
     "execution_count": 171,
     "metadata": {},
     "output_type": "execute_result"
    }
   ],
   "source": [
    "a[::-1]"
   ]
  },
  {
   "cell_type": "code",
   "execution_count": 172,
   "id": "43759086-4d69-455c-b4ae-e1f8c857489b",
   "metadata": {},
   "outputs": [
    {
     "data": {
      "text/plain": [
       "'hello'"
      ]
     },
     "execution_count": 172,
     "metadata": {},
     "output_type": "execute_result"
    }
   ],
   "source": [
    "a[::1]"
   ]
  },
  {
   "cell_type": "code",
   "execution_count": 174,
   "id": "4a9f3edf-f69b-4ddc-99ee-a9db4981940d",
   "metadata": {},
   "outputs": [
    {
     "data": {
      "text/plain": [
       "'hlo'"
      ]
     },
     "execution_count": 174,
     "metadata": {},
     "output_type": "execute_result"
    }
   ],
   "source": [
    "a[::2]"
   ]
  },
  {
   "cell_type": "code",
   "execution_count": 175,
   "id": "aaadabe5-2076-4bc8-ba20-8c475dbe4cb6",
   "metadata": {},
   "outputs": [
    {
     "data": {
      "text/plain": [
       "'olh'"
      ]
     },
     "execution_count": 175,
     "metadata": {},
     "output_type": "execute_result"
    }
   ],
   "source": [
    "a[::-2]"
   ]
  },
  {
   "cell_type": "code",
   "execution_count": 176,
   "id": "6b0c2dd0-2086-4667-b3a3-cf3c015399dc",
   "metadata": {},
   "outputs": [
    {
     "data": {
      "text/plain": [
       "'lleh'"
      ]
     },
     "execution_count": 176,
     "metadata": {},
     "output_type": "execute_result"
    }
   ],
   "source": [
    "a[3::-1]"
   ]
  },
  {
   "cell_type": "code",
   "execution_count": 177,
   "id": "d8320452-e6c1-4d63-9d4a-084b2409e266",
   "metadata": {},
   "outputs": [
    {
     "data": {
      "text/plain": [
       "'lo'"
      ]
     },
     "execution_count": 177,
     "metadata": {},
     "output_type": "execute_result"
    }
   ],
   "source": [
    "a[3::1]"
   ]
  },
  {
   "cell_type": "code",
   "execution_count": 180,
   "id": "bb8e4c58-7d94-4163-9c8a-989f800ab623",
   "metadata": {},
   "outputs": [
    {
     "data": {
      "text/plain": [
       "'ll'"
      ]
     },
     "execution_count": 180,
     "metadata": {},
     "output_type": "execute_result"
    }
   ],
   "source": [
    "a[3:1:-1]"
   ]
  },
  {
   "cell_type": "code",
   "execution_count": 181,
   "id": "61b296b4-ba78-4f9d-938a-4b617cc74780",
   "metadata": {},
   "outputs": [
    {
     "data": {
      "text/plain": [
       "'llo'"
      ]
     },
     "execution_count": 181,
     "metadata": {},
     "output_type": "execute_result"
    }
   ],
   "source": [
    "a[2::1]"
   ]
  },
  {
   "cell_type": "code",
   "execution_count": 182,
   "id": "9966a9f0-31bf-4e36-b3c9-19f771145b31",
   "metadata": {},
   "outputs": [
    {
     "data": {
      "text/plain": [
       "'lo'"
      ]
     },
     "execution_count": 182,
     "metadata": {},
     "output_type": "execute_result"
    }
   ],
   "source": [
    "a[2::2]"
   ]
  },
  {
   "cell_type": "code",
   "execution_count": 183,
   "id": "ebc543d6-0052-4d40-9fcf-52a7964adcbb",
   "metadata": {},
   "outputs": [
    {
     "data": {
      "text/plain": [
       "'el'"
      ]
     },
     "execution_count": 183,
     "metadata": {},
     "output_type": "execute_result"
    }
   ],
   "source": [
    "a[1::2]"
   ]
  },
  {
   "cell_type": "code",
   "execution_count": 184,
   "id": "9cc78326-50b6-4ad0-9351-125a569f2795",
   "metadata": {},
   "outputs": [
    {
     "data": {
      "text/plain": [
       "'eo'"
      ]
     },
     "execution_count": 184,
     "metadata": {},
     "output_type": "execute_result"
    }
   ],
   "source": [
    "a[1::3]"
   ]
  },
  {
   "cell_type": "code",
   "execution_count": 185,
   "id": "c3ada39b-538f-4e67-95b1-43a71bd2ea8a",
   "metadata": {},
   "outputs": [],
   "source": [
    "#example\n",
    "course=\"data science masters\""
   ]
  },
  {
   "cell_type": "code",
   "execution_count": 186,
   "id": "212263d7-3c75-450a-8c6c-ee4c8eb25f1c",
   "metadata": {},
   "outputs": [
    {
     "data": {
      "text/plain": [
       "'science'"
      ]
     },
     "execution_count": 186,
     "metadata": {},
     "output_type": "execute_result"
    }
   ],
   "source": [
    "course[5:12]"
   ]
  },
  {
   "cell_type": "code",
   "execution_count": 190,
   "id": "5a90b2b2-3040-44b3-88b8-2afd99238827",
   "metadata": {},
   "outputs": [
    {
     "data": {
      "text/plain": [
       "'science'"
      ]
     },
     "execution_count": 190,
     "metadata": {},
     "output_type": "execute_result"
    }
   ],
   "source": [
    "course[-15:-8]"
   ]
  },
  {
   "cell_type": "code",
   "execution_count": 191,
   "id": "ce90aad5-d3ee-4951-a6e8-280fc384f27e",
   "metadata": {},
   "outputs": [
    {
     "data": {
      "text/plain": [
       "'science'"
      ]
     },
     "execution_count": 191,
     "metadata": {},
     "output_type": "execute_result"
    }
   ],
   "source": [
    "course[5:-8]"
   ]
  },
  {
   "cell_type": "code",
   "execution_count": 193,
   "id": "3c1d996a-7c3b-42a0-9237-417f780d3307",
   "metadata": {},
   "outputs": [
    {
     "data": {
      "text/plain": [
       "'science'"
      ]
     },
     "execution_count": 193,
     "metadata": {},
     "output_type": "execute_result"
    }
   ],
   "source": [
    "course[-15:-8:1]"
   ]
  },
  {
   "cell_type": "code",
   "execution_count": 194,
   "id": "01bc029e-702c-4b0b-ac22-c92b61d5ee7f",
   "metadata": {},
   "outputs": [
    {
     "data": {
      "text/plain": [
       "'science'"
      ]
     },
     "execution_count": 194,
     "metadata": {},
     "output_type": "execute_result"
    }
   ],
   "source": [
    "course[5:12:1]"
   ]
  },
  {
   "cell_type": "code",
   "execution_count": 196,
   "id": "64b7d363-0c86-4f08-a442-d3aa15586a44",
   "metadata": {},
   "outputs": [
    {
     "data": {
      "text/plain": [
       "'ecneics'"
      ]
     },
     "execution_count": 196,
     "metadata": {},
     "output_type": "execute_result"
    }
   ],
   "source": [
    "course[11:4:-1]"
   ]
  },
  {
   "cell_type": "code",
   "execution_count": 203,
   "id": "cca2e94a-476d-42f5-a2b1-a09e2c46e9dd",
   "metadata": {},
   "outputs": [
    {
     "data": {
      "text/plain": [
       "'data science masters course'"
      ]
     },
     "execution_count": 203,
     "metadata": {},
     "output_type": "execute_result"
    }
   ],
   "source": [
    "# concatination\n",
    "course +  \" course\""
   ]
  },
  {
   "cell_type": "code",
   "execution_count": 204,
   "id": "3c27f2bd-3356-4aaa-b1cc-bdcd8e995be5",
   "metadata": {},
   "outputs": [
    {
     "name": "stdout",
     "output_type": "stream",
     "text": [
      "helloworld\n"
     ]
    }
   ],
   "source": [
    "print(\"hello\" + \"world\")"
   ]
  },
  {
   "cell_type": "code",
   "execution_count": 207,
   "id": "97234ab0-700e-4a32-a687-8de2a8947119",
   "metadata": {},
   "outputs": [
    {
     "data": {
      "text/plain": [
       "'data science mastersdata science masters'"
      ]
     },
     "execution_count": 207,
     "metadata": {},
     "output_type": "execute_result"
    }
   ],
   "source": [
    "course * 2"
   ]
  },
  {
   "cell_type": "code",
   "execution_count": 208,
   "id": "2ffe20de-a383-4938-a04f-c2af4ecb360d",
   "metadata": {},
   "outputs": [
    {
     "data": {
      "text/plain": [
       "20"
      ]
     },
     "execution_count": 208,
     "metadata": {},
     "output_type": "execute_result"
    }
   ],
   "source": [
    "len(course)    # length of string"
   ]
  },
  {
   "cell_type": "code",
   "execution_count": 210,
   "id": "729fe527-a010-480a-8cb6-066cc036268f",
   "metadata": {},
   "outputs": [
    {
     "data": {
      "text/plain": [
       "1"
      ]
     },
     "execution_count": 210,
     "metadata": {},
     "output_type": "execute_result"
    }
   ],
   "source": [
    "course.find(\"a\") #returns lowest index of the element\n",
    "                 # find is an inbuilt function"
   ]
  },
  {
   "cell_type": "code",
   "execution_count": 212,
   "id": "c9fc215f-be65-4e10-b00c-069ed3d5d976",
   "metadata": {},
   "outputs": [
    {
     "data": {
      "text/plain": [
       "5"
      ]
     },
     "execution_count": 212,
     "metadata": {},
     "output_type": "execute_result"
    }
   ],
   "source": [
    "course.find(\"s\")"
   ]
  },
  {
   "cell_type": "code",
   "execution_count": 213,
   "id": "c3865081-955c-4589-8c1a-27646fdf9938",
   "metadata": {},
   "outputs": [
    {
     "data": {
      "text/plain": [
       "3"
      ]
     },
     "execution_count": 213,
     "metadata": {},
     "output_type": "execute_result"
    }
   ],
   "source": [
    "course.find(\"a\",2,15) #start and end indexes can also be given"
   ]
  },
  {
   "cell_type": "code",
   "execution_count": 214,
   "id": "7a247846-ef7b-4c32-b020-238aa8c33d11",
   "metadata": {},
   "outputs": [
    {
     "data": {
      "text/plain": [
       "-1"
      ]
     },
     "execution_count": 214,
     "metadata": {},
     "output_type": "execute_result"
    }
   ],
   "source": [
    "course.find(\"z\")  # if element is not present in the string it returns -1"
   ]
  },
  {
   "cell_type": "code",
   "execution_count": 215,
   "id": "b6b6e5e4-bb2b-40d1-b4fb-1a028240b1dc",
   "metadata": {},
   "outputs": [
    {
     "data": {
      "text/plain": [
       "3"
      ]
     },
     "execution_count": 215,
     "metadata": {},
     "output_type": "execute_result"
    }
   ],
   "source": [
    "# count function- it return no of non overlapping occurances\n",
    "course.count(\"a\")"
   ]
  },
  {
   "cell_type": "code",
   "execution_count": 216,
   "id": "9bfe575c-f6cf-4d47-b23f-db7d9b68cb3d",
   "metadata": {},
   "outputs": [
    {
     "data": {
      "text/plain": [
       "2"
      ]
     },
     "execution_count": 216,
     "metadata": {},
     "output_type": "execute_result"
    }
   ],
   "source": [
    "course.count(\" \")    # count spaces"
   ]
  },
  {
   "cell_type": "code",
   "execution_count": 217,
   "id": "b747d1aa-c6fa-4f65-8085-3640c755843c",
   "metadata": {},
   "outputs": [
    {
     "data": {
      "text/plain": [
       "21"
      ]
     },
     "execution_count": 217,
     "metadata": {},
     "output_type": "execute_result"
    }
   ],
   "source": [
    "course.count(\"\")"
   ]
  },
  {
   "cell_type": "code",
   "execution_count": 219,
   "id": "7fde6390-a466-4658-81ca-5521994d98db",
   "metadata": {},
   "outputs": [
    {
     "data": {
      "text/plain": [
       "2"
      ]
     },
     "execution_count": 219,
     "metadata": {},
     "output_type": "execute_result"
    }
   ],
   "source": [
    "course.count(\"a\",3,20)"
   ]
  },
  {
   "cell_type": "code",
   "execution_count": 220,
   "id": "8d3bd757-c4e9-4930-b324-e2453aa57079",
   "metadata": {},
   "outputs": [],
   "source": [
    "# string split function"
   ]
  },
  {
   "cell_type": "code",
   "execution_count": 221,
   "id": "7bf06053-0c29-4956-be23-02e1ea3b8bae",
   "metadata": {},
   "outputs": [
    {
     "data": {
      "text/plain": [
       "['data', 'science', 'masters']"
      ]
     },
     "execution_count": 221,
     "metadata": {},
     "output_type": "execute_result"
    }
   ],
   "source": [
    "course.split(' ')"
   ]
  },
  {
   "cell_type": "code",
   "execution_count": 222,
   "id": "3323442f-4d74-4a57-8ac6-7fd948f310af",
   "metadata": {},
   "outputs": [
    {
     "data": {
      "text/plain": [
       "['d', 't', ' science m', 'sters']"
      ]
     },
     "execution_count": 222,
     "metadata": {},
     "output_type": "execute_result"
    }
   ],
   "source": [
    "course.split('a')"
   ]
  },
  {
   "cell_type": "code",
   "execution_count": 223,
   "id": "ce30c7cb-5aa2-409c-b626-85367b457c2a",
   "metadata": {},
   "outputs": [
    {
     "data": {
      "text/plain": [
       "['data ', 'cience ma', 'ter', '']"
      ]
     },
     "execution_count": 223,
     "metadata": {},
     "output_type": "execute_result"
    }
   ],
   "source": [
    "course.split('s')"
   ]
  },
  {
   "cell_type": "code",
   "execution_count": 224,
   "id": "eb6cd095-701a-4a48-944f-2088b6080118",
   "metadata": {},
   "outputs": [
    {
     "data": {
      "text/plain": [
       "['da', 'a science mas', 'ers']"
      ]
     },
     "execution_count": 224,
     "metadata": {},
     "output_type": "execute_result"
    }
   ],
   "source": [
    "course.split('t')"
   ]
  },
  {
   "cell_type": "code",
   "execution_count": 225,
   "id": "2e708076-7a85-4ce1-a7cd-ae8266762854",
   "metadata": {},
   "outputs": [
    {
     "data": {
      "text/plain": [
       "('d', 'a', 'ta science masters')"
      ]
     },
     "execution_count": 225,
     "metadata": {},
     "output_type": "execute_result"
    }
   ],
   "source": [
    "# partition\n",
    "course.partition('a')  # only 1 element is partitioned"
   ]
  },
  {
   "cell_type": "code",
   "execution_count": 227,
   "id": "fa69b8f4-d144-4524-b2d1-afe16910eee0",
   "metadata": {},
   "outputs": [
    {
     "data": {
      "text/plain": [
       "'DATA SCIENCE MASTERS'"
      ]
     },
     "execution_count": 227,
     "metadata": {},
     "output_type": "execute_result"
    }
   ],
   "source": [
    "# upper changes string into uppercase\n",
    "course.upper()"
   ]
  },
  {
   "cell_type": "code",
   "execution_count": 229,
   "id": "90226e76-5926-4b59-9129-26eeb70732da",
   "metadata": {},
   "outputs": [
    {
     "data": {
      "text/plain": [
       "'data science masters'"
      ]
     },
     "execution_count": 229,
     "metadata": {},
     "output_type": "execute_result"
    }
   ],
   "source": [
    "# changes string into lower case\n",
    "course.lower()"
   ]
  },
  {
   "cell_type": "code",
   "execution_count": 231,
   "id": "35c25b27-2b59-4fdd-b893-5225054a813a",
   "metadata": {},
   "outputs": [
    {
     "data": {
      "text/plain": [
       "'DATA SCIENCE MASTERS'"
      ]
     },
     "execution_count": 231,
     "metadata": {},
     "output_type": "execute_result"
    }
   ],
   "source": [
    "# swapcase  changes required element\n",
    "course.swapcase()"
   ]
  },
  {
   "cell_type": "code",
   "execution_count": 232,
   "id": "29daa7ad-9d8d-4971-b78e-bdb03a26b5c9",
   "metadata": {},
   "outputs": [],
   "source": [
    "name=\"Hello World\""
   ]
  },
  {
   "cell_type": "code",
   "execution_count": 233,
   "id": "469ff770-17ca-4be0-a9d9-3e33e2b48399",
   "metadata": {},
   "outputs": [
    {
     "data": {
      "text/plain": [
       "'hELLO wORLD'"
      ]
     },
     "execution_count": 233,
     "metadata": {},
     "output_type": "execute_result"
    }
   ],
   "source": [
    "name.swapcase()"
   ]
  },
  {
   "cell_type": "code",
   "execution_count": 234,
   "id": "8c4a1244-8738-4e25-9273-72d5a5ec9cc6",
   "metadata": {},
   "outputs": [],
   "source": [
    "name=\"hELLO wORLD\"\n"
   ]
  },
  {
   "cell_type": "code",
   "execution_count": 235,
   "id": "6a86ad35-3069-4579-9c23-d9a4d893acb0",
   "metadata": {},
   "outputs": [
    {
     "data": {
      "text/plain": [
       "'Hello World'"
      ]
     },
     "execution_count": 235,
     "metadata": {},
     "output_type": "execute_result"
    }
   ],
   "source": [
    "name.swapcase()"
   ]
  },
  {
   "cell_type": "code",
   "execution_count": 236,
   "id": "89ec615b-14da-47d6-bec8-657375432bf9",
   "metadata": {},
   "outputs": [
    {
     "data": {
      "text/plain": [
       "'Data Science Masters'"
      ]
     },
     "execution_count": 236,
     "metadata": {},
     "output_type": "execute_result"
    }
   ],
   "source": [
    "#title- first letter of every word will be in uoper case\n",
    "course.title()"
   ]
  },
  {
   "cell_type": "code",
   "execution_count": null,
   "id": "670a0382-73f6-44f9-8c8e-832b40405fdb",
   "metadata": {},
   "outputs": [],
   "source": []
  }
 ],
 "metadata": {
  "kernelspec": {
   "display_name": "Python 3 (ipykernel)",
   "language": "python",
   "name": "python3"
  },
  "language_info": {
   "codemirror_mode": {
    "name": "ipython",
    "version": 3
   },
   "file_extension": ".py",
   "mimetype": "text/x-python",
   "name": "python",
   "nbconvert_exporter": "python",
   "pygments_lexer": "ipython3",
   "version": "3.10.8"
  }
 },
 "nbformat": 4,
 "nbformat_minor": 5
}
