{
 "cells": [
  {
   "cell_type": "code",
   "execution_count": 1,
   "id": "0617572b-2d95-4374-a3ae-3f92fad77768",
   "metadata": {},
   "outputs": [],
   "source": [
    "a=10"
   ]
  },
  {
   "cell_type": "code",
   "execution_count": 2,
   "id": "2fd55663-320b-4b3c-b747-6e6207eab9f1",
   "metadata": {},
   "outputs": [],
   "source": [
    "a='c'"
   ]
  },
  {
   "cell_type": "code",
   "execution_count": 3,
   "id": "bebec0f6-5f77-4816-b941-247ce52aef66",
   "metadata": {},
   "outputs": [
    {
     "data": {
      "text/plain": [
       "str"
      ]
     },
     "execution_count": 3,
     "metadata": {},
     "output_type": "execute_result"
    }
   ],
   "source": [
    "type(a)\n"
   ]
  },
  {
   "cell_type": "code",
   "execution_count": 5,
   "id": "0338dc59-3c04-426b-8e9d-2aae9d2ab177",
   "metadata": {},
   "outputs": [
    {
     "data": {
      "text/plain": [
       "123"
      ]
     },
     "execution_count": 5,
     "metadata": {},
     "output_type": "execute_result"
    }
   ],
   "source": [
    "int('123')"
   ]
  },
  {
   "cell_type": "code",
   "execution_count": 6,
   "id": "2b2b7506-4a8a-4a3a-8db3-41ccdd4cd921",
   "metadata": {},
   "outputs": [
    {
     "ename": "ValueError",
     "evalue": "invalid literal for int() with base 10: 'abc'",
     "output_type": "error",
     "traceback": [
      "\u001b[0;31m---------------------------------------------------------------------------\u001b[0m",
      "\u001b[0;31mValueError\u001b[0m                                Traceback (most recent call last)",
      "Cell \u001b[0;32mIn[6], line 1\u001b[0m\n\u001b[0;32m----> 1\u001b[0m \u001b[38;5;28;43mint\u001b[39;49m\u001b[43m(\u001b[49m\u001b[38;5;124;43m'\u001b[39;49m\u001b[38;5;124;43mabc\u001b[39;49m\u001b[38;5;124;43m'\u001b[39;49m\u001b[43m)\u001b[49m\n",
      "\u001b[0;31mValueError\u001b[0m: invalid literal for int() with base 10: 'abc'"
     ]
    }
   ],
   "source": [
    "int('abc')        # only numbers can be written in int\n"
   ]
  },
  {
   "cell_type": "code",
   "execution_count": 8,
   "id": "770fbba1-c63c-4c12-a50c-f8d33fc824e0",
   "metadata": {},
   "outputs": [
    {
     "name": "stdout",
     "output_type": "stream",
     "text": [
      "hello\n"
     ]
    }
   ],
   "source": [
    "print(\"hello\")\n"
   ]
  },
  {
   "cell_type": "code",
   "execution_count": 9,
   "id": "11b4bdb7-61f2-4562-b87c-b745072bca2b",
   "metadata": {},
   "outputs": [],
   "source": [
    "#declaring a variable and printing it"
   ]
  },
  {
   "cell_type": "code",
   "execution_count": 3,
   "id": "11c87c5c-5528-435c-968b-5c159bd67bba",
   "metadata": {},
   "outputs": [
    {
     "name": "stdout",
     "output_type": "stream",
     "text": [
      "my age is : 20\n"
     ]
    }
   ],
   "source": [
    "age=20\n",
    "print(\"my age is :\",age)"
   ]
  },
  {
   "cell_type": "code",
   "execution_count": 4,
   "id": "1ef77499-ab34-4cb5-a2e1-149b19ae20c0",
   "metadata": {},
   "outputs": [
    {
     "name": "stdout",
     "output_type": "stream",
     "text": [
      "20\n"
     ]
    }
   ],
   "source": [
    "print(age)      # another way of printing age"
   ]
  },
  {
   "cell_type": "code",
   "execution_count": 5,
   "id": "5e47b967-be2b-4a9b-9314-d9d496be67c7",
   "metadata": {},
   "outputs": [
    {
     "data": {
      "text/plain": [
       "int"
      ]
     },
     "execution_count": 5,
     "metadata": {},
     "output_type": "execute_result"
    }
   ],
   "source": [
    "type(age)"
   ]
  },
  {
   "cell_type": "code",
   "execution_count": 13,
   "id": "7c76b6b6-7ea5-46b6-8667-883f4b2a49dc",
   "metadata": {},
   "outputs": [],
   "source": [
    "# formatting can also be used    (f string)"
   ]
  },
  {
   "cell_type": "code",
   "execution_count": 14,
   "id": "d9649343-c65d-43fc-9858-8b155d517842",
   "metadata": {},
   "outputs": [
    {
     "name": "stdout",
     "output_type": "stream",
     "text": [
      "my age is : {age}\n"
     ]
    }
   ],
   "source": [
    "# print function without formatting\n",
    "print(\"my age is : {age}\")"
   ]
  },
  {
   "cell_type": "code",
   "execution_count": 15,
   "id": "18fdf188-1013-4e53-adce-7a8f7ddbc08e",
   "metadata": {},
   "outputs": [
    {
     "name": "stdout",
     "output_type": "stream",
     "text": [
      "my age is :20\n"
     ]
    }
   ],
   "source": [
    "# print function with formatting\n",
    "print(f\"my age is :{age}\")"
   ]
  },
  {
   "cell_type": "code",
   "execution_count": 6,
   "id": "624fe264-16a5-4ae6-9b3c-8cbe794b4372",
   "metadata": {},
   "outputs": [],
   "source": [
    "# index starts from 0 in python\n",
    "# while it starts from1 in r program"
   ]
  },
  {
   "cell_type": "markdown",
   "id": "a9b5546b-7b92-4c36-9082-2a016df8e79b",
   "metadata": {},
   "source": [
    " #\"\"\" format\n",
    "Signature: format(value, format_spec='', /)\n",
    "Docstring:\n",
    "Return value.__format__(format_spec)\n",
    "\n",
    "format_spec defaults to the empty string.\n",
    "See the Format Specification Mini-Language section of help('FORMATTING') for\n",
    "details.\n",
    "Type:      builtin_function_or_method \"\"\""
   ]
  },
  {
   "cell_type": "code",
   "execution_count": 10,
   "id": "b1a5b144-fb81-47e8-817d-4fa34f7da968",
   "metadata": {},
   "outputs": [
    {
     "name": "stdout",
     "output_type": "stream",
     "text": [
      "my name is priya and age is 20\n"
     ]
    }
   ],
   "source": [
    "## format()\n",
    "name=\"priya\"\n",
    "age=20\n",
    "print(\"my name is {} and age is {}\".format(name,age))"
   ]
  },
  {
   "cell_type": "code",
   "execution_count": 17,
   "id": "abdd50b2-bc8a-44f7-b441-8e5ea6e8d5dd",
   "metadata": {},
   "outputs": [
    {
     "name": "stdout",
     "output_type": "stream",
     "text": [
      "my name is 20 and age is priya\n"
     ]
    }
   ],
   "source": [
    "## format()\n",
    "name=\"priya\"\n",
    "age=20\n",
    "print(\"my name is {} and age is {}\".format(age,name)) \n",
    "#order should be proper in format to get required output"
   ]
  },
  {
   "cell_type": "code",
   "execution_count": 14,
   "id": "a17164ee-48df-495c-86f6-07a0d6207561",
   "metadata": {},
   "outputs": [
    {
     "name": "stdout",
     "output_type": "stream",
     "text": [
      "my name is priya \n"
     ]
    }
   ],
   "source": [
    "## format()\n",
    "name=\"priya\"\n",
    "\n",
    "print(\"my name is {} \".format(name))"
   ]
  },
  {
   "cell_type": "code",
   "execution_count": 15,
   "id": "09e4a602-6d9f-4e5f-bed1-787b5def4a75",
   "metadata": {},
   "outputs": [
    {
     "name": "stdout",
     "output_type": "stream",
     "text": [
      "my age is 20 \n"
     ]
    }
   ],
   "source": [
    "## format()\n",
    "age=20\n",
    "print(\"my age is {} \".format(age))"
   ]
  },
  {
   "cell_type": "code",
   "execution_count": 20,
   "id": "20d32f3b-2c77-4690-9b30-724391c86a19",
   "metadata": {},
   "outputs": [
    {
     "name": "stdout",
     "output_type": "stream",
     "text": [
      "my name ispriya and age is 20\n"
     ]
    }
   ],
   "source": [
    "# if there are large number of parameters then we need to mention their places\n",
    "# place holder ( . format)\n",
    "print(\"my name is{firstname} and age is {firstage}\".format(firstname=name,firstage=age))"
   ]
  },
  {
   "cell_type": "code",
   "execution_count": 21,
   "id": "cf59bbeb-5004-447d-b49e-b1f78a2ce656",
   "metadata": {},
   "outputs": [
    {
     "name": "stdout",
     "output_type": "stream",
     "text": [
      "my age is 20 and i have completed : my degree of btech with the name of priya\n"
     ]
    }
   ],
   "source": [
    "name=\"priya\"\n",
    "age=20\n",
    "degree=\"btech\"\n",
    "print(\"my age is {} and i have completed : my degree of {} with the name of {}\".format(age,degree,name))"
   ]
  },
  {
   "cell_type": "code",
   "execution_count": 22,
   "id": "34b77603-26ea-401b-b6fd-4a05da4f27f0",
   "metadata": {},
   "outputs": [
    {
     "name": "stdout",
     "output_type": "stream",
     "text": [
      " my age is 20 and i have completed : my degree of btech with the name of priya\n"
     ]
    }
   ],
   "source": [
    "print(f\" my age is {age} and i have completed : my degree of {degree} with the name of {name}\")"
   ]
  },
  {
   "cell_type": "markdown",
   "id": "4a7e379d-48da-4c69-a8ed-d99284452fdf",
   "metadata": {},
   "source": [
    "# Control Flow\n",
    "## Decision making statements\n",
    " * It is kind of making decision during occured situation of program execution and action can be taken according specified conditions.\n",
    " * Structure of decision making evaluate several expressions that provide True or False as a result.\n",
    " * It is up to you to decide which type of action want to take and execute the statements based upon True or False.\n",
    "### These are several topics of decision making which going to be discussed below  :\n",
    "   1) if\n",
    "   2) if else\n",
    "   3) if else if\n",
    "   4) Nested if\n",
    "   5) Single statement suits\n",
    "   \n",
    "   "
   ]
  },
  {
   "cell_type": "code",
   "execution_count": 27,
   "id": "bc501c38-e4c8-4168-985f-c87fe531b541",
   "metadata": {},
   "outputs": [
    {
     "name": "stdout",
     "output_type": "stream",
     "text": [
      "you are not elible to vote\n"
     ]
    }
   ],
   "source": [
    "if age<=18: \n",
    "    print(\"you are not elible to vote\")"
   ]
  },
  {
   "cell_type": "code",
   "execution_count": 23,
   "id": "5fba9921-8c34-4a11-bed6-9c1b9efeddfa",
   "metadata": {},
   "outputs": [
    {
     "name": "stdout",
     "output_type": "stream",
     "text": [
      "you are eligible to vote\n"
     ]
    }
   ],
   "source": [
    "## if statements\n",
    "age=18\n",
    "if age>=18:\n",
    "    print(\"you are eligible to vote\")"
   ]
  },
  {
   "cell_type": "code",
   "execution_count": 29,
   "id": "fa0bead4-cab8-43e6-b2a8-d4b91a8708ed",
   "metadata": {},
   "outputs": [],
   "source": [
    "if age<18: \n",
    "    print(\"you are not elible to vote\") # condition is not given so it cannot print output"
   ]
  },
  {
   "cell_type": "code",
   "execution_count": 31,
   "id": "46afe14d-eae0-4e6a-8e1a-93f2b437c204",
   "metadata": {},
   "outputs": [
    {
     "name": "stdout",
     "output_type": "stream",
     "text": [
      "you are not eligible to vote\n"
     ]
    }
   ],
   "source": [
    "# value is within the statement\n",
    "age=17\n",
    "if age<18:\n",
    "    print(\"you are not eligible to vote\")"
   ]
  },
  {
   "cell_type": "code",
   "execution_count": 32,
   "id": "606e7d1d-1d8a-41eb-8759-838f91665f2e",
   "metadata": {},
   "outputs": [
    {
     "name": "stdout",
     "output_type": "stream",
     "text": [
      "you are  eligible to vote\n"
     ]
    }
   ],
   "source": [
    "# value is within the statement\n",
    "age=18\n",
    "if age==18:\n",
    "    print(\"you are  eligible to vote\")"
   ]
  },
  {
   "cell_type": "code",
   "execution_count": 33,
   "id": "f761b856-acc3-4ca8-a02d-449ca878dcd2",
   "metadata": {},
   "outputs": [],
   "source": [
    "# input function can be used to give input run time errors"
   ]
  },
  {
   "cell_type": "code",
   "execution_count": 1,
   "id": "4e096aa3-5097-4ec1-b56d-2d09d8ae6f9f",
   "metadata": {},
   "outputs": [
    {
     "name": "stdin",
     "output_type": "stream",
     "text": [
      " priya\n"
     ]
    },
    {
     "data": {
      "text/plain": [
       "'priya'"
      ]
     },
     "execution_count": 1,
     "metadata": {},
     "output_type": "execute_result"
    }
   ],
   "source": [
    "input()"
   ]
  },
  {
   "cell_type": "code",
   "execution_count": 2,
   "id": "e0c9d552-a6e0-47c4-9ed6-3033df4c0964",
   "metadata": {},
   "outputs": [
    {
     "name": "stdin",
     "output_type": "stream",
     "text": [
      "enter name : priya\n"
     ]
    }
   ],
   "source": [
    "# input function with variable\n",
    "name=input(\"enter name :\")"
   ]
  },
  {
   "cell_type": "code",
   "execution_count": 36,
   "id": "ca7882ff-8370-4b8c-9600-039c5e94bea5",
   "metadata": {},
   "outputs": [
    {
     "data": {
      "text/plain": [
       "method"
      ]
     },
     "execution_count": 36,
     "metadata": {},
     "output_type": "execute_result"
    }
   ],
   "source": [
    "type(input) # data type of input depends on input we give "
   ]
  },
  {
   "cell_type": "code",
   "execution_count": 8,
   "id": "94943583-0b81-45f6-9ac9-ada0c7e19386",
   "metadata": {},
   "outputs": [
    {
     "name": "stdin",
     "output_type": "stream",
     "text": [
      " 10\n"
     ]
    },
    {
     "data": {
      "text/plain": [
       "'10'"
      ]
     },
     "execution_count": 8,
     "metadata": {},
     "output_type": "execute_result"
    }
   ],
   "source": [
    "input()"
   ]
  },
  {
   "cell_type": "code",
   "execution_count": 14,
   "id": "80b62a79-d98c-4eb3-b20f-11b983c2805f",
   "metadata": {},
   "outputs": [
    {
     "name": "stdin",
     "output_type": "stream",
     "text": [
      "enter your age : 10\n"
     ]
    }
   ],
   "source": [
    "age=input(\"enter your age :\")"
   ]
  },
  {
   "cell_type": "code",
   "execution_count": 15,
   "id": "f13051cc-31d3-4fea-b01d-bf899c932665",
   "metadata": {},
   "outputs": [
    {
     "data": {
      "text/plain": [
       "'10'"
      ]
     },
     "execution_count": 15,
     "metadata": {},
     "output_type": "execute_result"
    }
   ],
   "source": [
    "age"
   ]
  },
  {
   "cell_type": "code",
   "execution_count": 10,
   "id": "b1077546-60d7-4651-9cf7-104d3d6a4f35",
   "metadata": {},
   "outputs": [
    {
     "data": {
      "text/plain": [
       "str"
      ]
     },
     "execution_count": 10,
     "metadata": {},
     "output_type": "execute_result"
    }
   ],
   "source": [
    "type(age)"
   ]
  },
  {
   "cell_type": "code",
   "execution_count": 12,
   "id": "90dca785-7e58-4b32-b2f3-47241ace9230",
   "metadata": {},
   "outputs": [
    {
     "name": "stdin",
     "output_type": "stream",
     "text": [
      "Enter your age : 10\n"
     ]
    }
   ],
   "source": [
    "# to convert the data type of age we use type casting\n",
    "age=int(input(\"Enter your age :\"))"
   ]
  },
  {
   "cell_type": "code",
   "execution_count": 16,
   "id": "9873b9ae-71e2-45a2-a91c-9b06cdc49761",
   "metadata": {},
   "outputs": [
    {
     "data": {
      "text/plain": [
       "'10'"
      ]
     },
     "execution_count": 16,
     "metadata": {},
     "output_type": "execute_result"
    }
   ],
   "source": [
    "age"
   ]
  },
  {
   "cell_type": "code",
   "execution_count": 13,
   "id": "fc060be0-09df-45e1-97b3-00a7103c41cb",
   "metadata": {},
   "outputs": [
    {
     "data": {
      "text/plain": [
       "int"
      ]
     },
     "execution_count": 13,
     "metadata": {},
     "output_type": "execute_result"
    }
   ],
   "source": [
    "type(age)"
   ]
  },
  {
   "cell_type": "code",
   "execution_count": 19,
   "id": "e1061f73-14fc-4ca0-b4b9-49df0488ee07",
   "metadata": {},
   "outputs": [
    {
     "name": "stdin",
     "output_type": "stream",
     "text": [
      "Enter your age: 20\n"
     ]
    },
    {
     "name": "stdout",
     "output_type": "stream",
     "text": [
      "you are young blood\n"
     ]
    }
   ],
   "source": [
    "#example 1\n",
    "age=int(input(\"Enter your age:\"))\n",
    "if age>=18 and age<=45:\n",
    "    print(\"you are young blood\")"
   ]
  },
  {
   "cell_type": "code",
   "execution_count": 22,
   "id": "f361af00-5e4d-4a9d-967c-c5b7cac16356",
   "metadata": {},
   "outputs": [
    {
     "name": "stdin",
     "output_type": "stream",
     "text": [
      "Enter your age: 49\n"
     ]
    }
   ],
   "source": [
    "# if condition is wrong it doesnot print the output\n",
    "age=int(input(\"Enter your age:\"))\n",
    "if age>=18 and age<=45:\n",
    "    print(\"you are young blood\")"
   ]
  },
  {
   "cell_type": "code",
   "execution_count": 24,
   "id": "57128d38-e029-47d1-a0e8-03ce0b635b6e",
   "metadata": {},
   "outputs": [
    {
     "name": "stdin",
     "output_type": "stream",
     "text": [
      "Enter your age: 15\n"
     ]
    },
    {
     "name": "stdout",
     "output_type": "stream",
     "text": [
      "your application is rejected\n"
     ]
    }
   ],
   "source": [
    "## if else statement\n",
    "age=int(input(\"Enter your age:\"))\n",
    "if age>=18 and age<=45:\n",
    "    print(\"you are young blood\")\n",
    "else:\n",
    "    print(\"your application is rejected\")"
   ]
  },
  {
   "cell_type": "code",
   "execution_count": 25,
   "id": "d1b4f481-0e59-4258-9b1f-1f5c6cadc3aa",
   "metadata": {},
   "outputs": [
    {
     "name": "stdin",
     "output_type": "stream",
     "text": [
      "Enter your age: 40\n"
     ]
    },
    {
     "name": "stdout",
     "output_type": "stream",
     "text": [
      "you are young blood\n"
     ]
    }
   ],
   "source": [
    "\n",
    "age=int(input(\"Enter your age:\"))\n",
    "if age>=18 and age<=45:\n",
    "    print(\"you are young blood\")\n",
    "else:\n",
    "    print(\"your application is rejected\")"
   ]
  },
  {
   "cell_type": "code",
   "execution_count": 1,
   "id": "bf4be13f-7d73-41f3-9de2-ca3c1b6f37af",
   "metadata": {},
   "outputs": [
    {
     "name": "stdin",
     "output_type": "stream",
     "text": [
      "enter your price :  1200\n"
     ]
    },
    {
     "name": "stdout",
     "output_type": "stream",
     "text": [
      "the product of price is 960.0\n"
     ]
    }
   ],
   "source": [
    "#example\n",
    "product_price=int(input(\"enter your price : \"))\n",
    "if product_price>1000:\n",
    "    print(\"the product of price is {}\".format(product_price*0.8))\n",
    "else:\n",
    "    print(\"The product of price is {}\".format(product_price*0.7))\n",
    "    "
   ]
  },
  {
   "cell_type": "code",
   "execution_count": 2,
   "id": "89592d2e-dce5-4cb7-8b32-f041464f9109",
   "metadata": {},
   "outputs": [
    {
     "name": "stdin",
     "output_type": "stream",
     "text": [
      "enter your price :  980\n"
     ]
    },
    {
     "name": "stdout",
     "output_type": "stream",
     "text": [
      "The product of price is 686.0\n"
     ]
    }
   ],
   "source": [
    "product_price=int(input(\"enter your price : \"))\n",
    "if product_price>1000:\n",
    "    print(\"the product of price is {}\".format(product_price*0.8))\n",
    "else:\n",
    "    print(\"The product of price is {}\".format(product_price*0.7))\n",
    "    "
   ]
  },
  {
   "cell_type": "code",
   "execution_count": 3,
   "id": "c06aa928-776a-4218-8074-210b36d0ddde",
   "metadata": {},
   "outputs": [
    {
     "name": "stdin",
     "output_type": "stream",
     "text": [
      "enter your price :  1200\n"
     ]
    },
    {
     "name": "stdout",
     "output_type": "stream",
     "text": [
      "The product of price is 960.0\n"
     ]
    }
   ],
   "source": [
    "product_price=int(input(\"enter your price : \"))\n",
    "if product_price>1000:\n",
    "    print(f\"The product of price is {product_price*0.8}\")\n",
    "else:\n",
    "    print(f\"The product of price is {product_price*0.7}\")\n",
    "    "
   ]
  },
  {
   "cell_type": "code",
   "execution_count": 4,
   "id": "6bdd0721-13ca-4041-a573-aed13536678c",
   "metadata": {},
   "outputs": [
    {
     "name": "stdin",
     "output_type": "stream",
     "text": [
      "enter your price :  980\n"
     ]
    },
    {
     "name": "stdout",
     "output_type": "stream",
     "text": [
      "The product of price is 686.0\n"
     ]
    }
   ],
   "source": [
    "product_price=int(input(\"enter your price : \"))\n",
    "if product_price>1000:\n",
    "    print(f\"The product of price is {product_price*0.8}\")\n",
    "else:\n",
    "    print(f\"The product of price is {product_price*0.7}\")\n",
    "    "
   ]
  },
  {
   "cell_type": "code",
   "execution_count": 5,
   "id": "c56aa1be-8731-4241-8069-c3a2e9c05a28",
   "metadata": {},
   "outputs": [
    {
     "name": "stdin",
     "output_type": "stream",
     "text": [
      "enter your price :  5000\n"
     ]
    },
    {
     "name": "stdout",
     "output_type": "stream",
     "text": [
      "the product of price is 4000.0\n"
     ]
    }
   ],
   "source": [
    "product_price=int(input(\"enter your price : \"))\n",
    "if product_price>3000:\n",
    "    print(\"the product of price is {}\".format(product_price*0.8))\n",
    "elif product_price >=2000 and product_price <=3000:\n",
    "    print(\"The product of price is {}\".format(product_price*0.7))\n",
    "else:\n",
    "    print(\"The product of price is {}\".format(product_price*0.6))"
   ]
  },
  {
   "cell_type": "code",
   "execution_count": 3,
   "id": "d13dce8a-44bc-4054-af7d-06c04395a358",
   "metadata": {},
   "outputs": [
    {
     "name": "stdin",
     "output_type": "stream",
     "text": [
      "enter your price :  2500\n"
     ]
    },
    {
     "name": "stdout",
     "output_type": "stream",
     "text": [
      "The product of price is 1750.0\n"
     ]
    }
   ],
   "source": [
    "product_price=int(input(\"enter your price : \"))\n",
    "if product_price>3000:\n",
    "    print(\"the product of price is {}\".format(product_price*0.8))\n",
    "elif product_price >=2000 and product_price <=3000:\n",
    "    print(\"The product of price is {}\".format(product_price*0.7))\n",
    "else:\n",
    "    print(\"The product of price is {}\".format(product_price*0.6))"
   ]
  },
  {
   "cell_type": "code",
   "execution_count": 4,
   "id": "a55609af-70fa-4a4b-aef4-480245f2358f",
   "metadata": {},
   "outputs": [
    {
     "name": "stdin",
     "output_type": "stream",
     "text": [
      "enter your price :  1000\n"
     ]
    },
    {
     "name": "stdout",
     "output_type": "stream",
     "text": [
      "The product of price is 600.0\n"
     ]
    }
   ],
   "source": [
    "product_price=int(input(\"enter your price : \"))\n",
    "if product_price>3000:\n",
    "    print(\"the product of price is {}\".format(product_price*0.8))\n",
    "elif product_price >=2000 and product_price <=3000:\n",
    "    print(\"The product of price is {}\".format(product_price*0.7))\n",
    "else:\n",
    "    print(\"The product of price is {}\".format(product_price*0.6))"
   ]
  },
  {
   "cell_type": "code",
   "execution_count": 6,
   "id": "b9950784-563a-4878-a06c-91b77c6a6fc4",
   "metadata": {},
   "outputs": [
    {
     "name": "stdin",
     "output_type": "stream",
     "text": [
      "enter your price :  5000\n"
     ]
    },
    {
     "name": "stdout",
     "output_type": "stream",
     "text": [
      "the product of price is 4000.0\n"
     ]
    }
   ],
   "source": [
    "product_price=int(input(\"enter your price : \"))\n",
    "if product_price>3000:\n",
    "    print(\"the product of price is {}\".format(product_price*0.8))\n",
    "elif product_price >=2000 and product_price <=3000:\n",
    "    print(\"The product of price is {}\".format(product_price*0.7))\n",
    "elif product_price >=10 and product_price<=2000:\n",
    "    print(\"The product of price is {}\".format(product_price*0.6))\n",
    "else:\n",
    "    print(\"There is no discount\")"
   ]
  },
  {
   "cell_type": "code",
   "execution_count": 7,
   "id": "78a724fd-111b-483b-b7dc-dd588ad08e97",
   "metadata": {},
   "outputs": [
    {
     "name": "stdin",
     "output_type": "stream",
     "text": [
      "enter your price :  2500\n"
     ]
    },
    {
     "name": "stdout",
     "output_type": "stream",
     "text": [
      "The product of price is 1750.0\n"
     ]
    }
   ],
   "source": [
    "product_price=int(input(\"enter your price : \"))\n",
    "if product_price>3000:\n",
    "    print(\"the product of price is {}\".format(product_price*0.8))\n",
    "elif product_price >=2000 and product_price <=3000:\n",
    "    print(\"The product of price is {}\".format(product_price*0.7))\n",
    "elif product_price >=10 and product_price<=2000:\n",
    "    print(\"The product of price is {}\".format(product_price*0.6))\n",
    "else:\n",
    "    print(\"There is no discount\")"
   ]
  },
  {
   "cell_type": "code",
   "execution_count": 8,
   "id": "a2637e8c-59e2-4677-8665-71cbfa7b000f",
   "metadata": {},
   "outputs": [
    {
     "name": "stdin",
     "output_type": "stream",
     "text": [
      "enter your price :  1000\n"
     ]
    },
    {
     "name": "stdout",
     "output_type": "stream",
     "text": [
      "The product of price is 600.0\n"
     ]
    }
   ],
   "source": [
    "product_price=int(input(\"enter your price : \"))\n",
    "if product_price>3000:\n",
    "    print(\"the product of price is {}\".format(product_price*0.8))\n",
    "elif product_price >=2000 and product_price <=3000:\n",
    "    print(\"The product of price is {}\".format(product_price*0.7))\n",
    "elif product_price >=10 and product_price<=2000:\n",
    "    print(\"The product of price is {}\".format(product_price*0.6))\n",
    "else:\n",
    "    print(\"There is no discount\")"
   ]
  },
  {
   "cell_type": "code",
   "execution_count": 9,
   "id": "6b822122-52f9-45b1-bb15-5b211f09c4a0",
   "metadata": {},
   "outputs": [
    {
     "name": "stdin",
     "output_type": "stream",
     "text": [
      "enter your price :  5\n"
     ]
    },
    {
     "name": "stdout",
     "output_type": "stream",
     "text": [
      "There is no discount\n"
     ]
    }
   ],
   "source": [
    "product_price=int(input(\"enter your price : \"))\n",
    "if product_price>3000:\n",
    "    print(\"the product of price is {}\".format(product_price*0.8))\n",
    "elif product_price >=2000 and product_price <=3000:\n",
    "    print(\"The product of price is {}\".format(product_price*0.7))\n",
    "elif product_price >=10 and product_price<=2000:\n",
    "    print(\"The product of price is {}\".format(product_price*0.6))\n",
    "else:\n",
    "    print(\"There is no discount\")"
   ]
  },
  {
   "cell_type": "code",
   "execution_count": 10,
   "id": "3551553d-20c5-4b5e-8c62-8da720eb6db6",
   "metadata": {},
   "outputs": [
    {
     "name": "stdin",
     "output_type": "stream",
     "text": [
      "enter your price :  2999\n"
     ]
    },
    {
     "name": "stdout",
     "output_type": "stream",
     "text": [
      "Congratulations you won a gift\n",
      "The product of price is 2099.2999999999997\n"
     ]
    }
   ],
   "source": [
    "# if statement inside a elif statement or if statement is nested if statement\n",
    "product_price=int(input(\"enter your price : \"))\n",
    "if product_price>3000:\n",
    "    print(\"the product of price is {}\".format(product_price*0.8))\n",
    "elif product_price >=2000 and product_price <=3000:\n",
    "    if product_price==2999:\n",
    "        print(\"Congratulations you won a gift\")\n",
    "    print(\"The product of price is {}\".format(product_price*0.7))\n",
    "elif product_price >=10 and product_price<=2000:\n",
    "    print(\"The product of price is {}\".format(product_price*0.6))\n",
    "else:\n",
    "    print(\"There is no discount\")"
   ]
  },
  {
   "cell_type": "code",
   "execution_count": 11,
   "id": "f71d7d52-3a19-4476-95bd-bec415bc13fd",
   "metadata": {},
   "outputs": [
    {
     "name": "stdin",
     "output_type": "stream",
     "text": [
      "enter your price :  4999\n"
     ]
    },
    {
     "name": "stdout",
     "output_type": "stream",
     "text": [
      "Congratulations you won a goa trip\n",
      "the product of price is 3999.2000000000003\n"
     ]
    }
   ],
   "source": [
    "product_price=int(input(\"enter your price : \"))\n",
    "if product_price>3000:\n",
    "    if product_price==4999:\n",
    "        print(\"Congratulations you won a goa trip\")\n",
    "    print(\"the product of price is {}\".format(product_price*0.8))\n",
    "elif product_price >=2000 and product_price <=3000:\n",
    "    if product_price==2999:\n",
    "        print(\"Congratulations you won a gift\")\n",
    "    print(\"The product of price is {}\".format(product_price*0.7))\n",
    "elif product_price >=10 and product_price<=2000:\n",
    "    print(\"The product of price is {}\".format(product_price*0.6))\n",
    "else:\n",
    "    print(\"There is no discount\")\n",
    "    "
   ]
  },
  {
   "cell_type": "code",
   "execution_count": 12,
   "id": "ac391e7c-8984-4e62-9b6a-5f52ae2ba6fe",
   "metadata": {},
   "outputs": [
    {
     "name": "stdin",
     "output_type": "stream",
     "text": [
      "enter your price :  5\n"
     ]
    },
    {
     "name": "stdout",
     "output_type": "stream",
     "text": [
      "There is no discount\n",
      "enjoy shopping\n"
     ]
    }
   ],
   "source": [
    "product_price=int(input(\"enter your price : \"))\n",
    "if product_price>3000:\n",
    "    if product_price==4999:\n",
    "        print(\"Congratulations you won a goa trip\")\n",
    "    print(\"the product of price is {}\".format(product_price*0.8))\n",
    "elif product_price >=2000 and product_price <=3000:\n",
    "    if product_price==2999:\n",
    "        print(\"Congratulations you won a gift\")\n",
    "    print(\"The product of price is {}\".format(product_price*0.7))\n",
    "elif product_price >=10 and product_price<=2000:\n",
    "    print(\"The product of price is {}\".format(product_price*0.6))\n",
    "else:\n",
    "    print(\"There is no discount\")\n",
    "    print(\"enjoy shopping\")"
   ]
  },
  {
   "cell_type": "code",
   "execution_count": 13,
   "id": "d90b70af-5cf6-47c2-bbdb-2283be155d3f",
   "metadata": {},
   "outputs": [
    {
     "name": "stdin",
     "output_type": "stream",
     "text": [
      "enter your price :  4000\n"
     ]
    },
    {
     "name": "stdout",
     "output_type": "stream",
     "text": [
      "the product of price is 3200.0\n"
     ]
    }
   ],
   "source": [
    "product_price=int(input(\"enter your price : \"))\n",
    "if product_price>3000:\n",
    "    if product_price==4999:\n",
    "        print(\"Congratulations you won a goa trip\")\n",
    "    print(\"the product of price is {}\".format(product_price*0.8))\n",
    "elif product_price >=2000 and product_price <=3000:\n",
    "    if product_price==2999:\n",
    "        print(\"Congratulations you won a gift\")\n",
    "    print(\"The product of price is {}\".format(product_price*0.7))\n",
    "elif product_price >=10 and product_price<=2000:\n",
    "    print(\"The product of price is {}\".format(product_price*0.6))\n",
    "else:\n",
    "    print(\"There is no discount\")\n",
    "    print(\"enjoy shopping\")"
   ]
  },
  {
   "cell_type": "code",
   "execution_count": 14,
   "id": "d2c9fb78-cceb-4e8c-8457-083e198ebfa2",
   "metadata": {},
   "outputs": [
    {
     "name": "stdin",
     "output_type": "stream",
     "text": [
      "enter your price :  2500\n"
     ]
    },
    {
     "name": "stdout",
     "output_type": "stream",
     "text": [
      "The product of price is 1750.0\n"
     ]
    }
   ],
   "source": [
    "product_price=int(input(\"enter your price : \"))\n",
    "if product_price>3000:\n",
    "    if product_price==4999:\n",
    "        print(\"Congratulations you won a goa trip\")\n",
    "    print(\"the product of price is {}\".format(product_price*0.8))\n",
    "elif product_price >=2000 and product_price <=3000:\n",
    "    if product_price==2999:\n",
    "        print(\"Congratulations you won a gift\")\n",
    "    print(\"The product of price is {}\".format(product_price*0.7))\n",
    "elif product_price >=10 and product_price<=2000:\n",
    "    print(\"The product of price is {}\".format(product_price*0.6))\n",
    "else:\n",
    "    print(\"There is no discount\")\n",
    "    print(\"enjoy shopping\")"
   ]
  },
  {
   "cell_type": "code",
   "execution_count": 16,
   "id": "a1ba3071-ff2d-4e57-8b69-eb138efbb72d",
   "metadata": {},
   "outputs": [
    {
     "name": "stdin",
     "output_type": "stream",
     "text": [
      "Enter the price: 1200\n"
     ]
    },
    {
     "name": "stdout",
     "output_type": "stream",
     "text": [
      "Value is greater than or equal to 999\n"
     ]
    }
   ],
   "source": [
    "#single statement\n",
    "val=int(input(\"Enter the price:\"))\n",
    "if val>=999:print(\"Value is greater than or equal to 999\")"
   ]
  },
  {
   "cell_type": "code",
   "execution_count": 17,
   "id": "56c25a5a-4482-4d3e-8e90-c9498e00e8d0",
   "metadata": {},
   "outputs": [
    {
     "name": "stdin",
     "output_type": "stream",
     "text": [
      "Enter the price: 100\n"
     ]
    },
    {
     "name": "stdout",
     "output_type": "stream",
     "text": [
      "bye\n"
     ]
    }
   ],
   "source": [
    "#single statement\n",
    "val=int(input(\"Enter the price:\"))\n",
    "if val>=999:print(\"Value is greater than or equal to 999\")\n",
    "else:\n",
    "    print(\"bye\")"
   ]
  },
  {
   "cell_type": "code",
   "execution_count": 18,
   "id": "fefe6c58-ec14-4f8e-9f39-98f0b23208a8",
   "metadata": {},
   "outputs": [
    {
     "name": "stdin",
     "output_type": "stream",
     "text": [
      "Enter the price: 100\n"
     ]
    },
    {
     "name": "stdout",
     "output_type": "stream",
     "text": [
      "bye\n"
     ]
    }
   ],
   "source": [
    "#single statement\n",
    "val=int(input(\"Enter the price:\"))\n",
    "if val>=999:print(\"Value is greater than or equal to 999\")\n",
    "else:print(\"bye\")"
   ]
  },
  {
   "cell_type": "markdown",
   "id": "bdc0b38b-c540-4d72-8716-8ca74700d42d",
   "metadata": {},
   "source": [
    "## loop statements\n",
    "  1) while loop\n",
    "  2) for loop\n",
    "  3) nested loops\n",
    "  4) loop control (break,continue,pass)"
   ]
  },
  {
   "cell_type": "code",
   "execution_count": 2,
   "id": "f058d65d-3acf-4931-9e90-2471a91c4d38",
   "metadata": {},
   "outputs": [
    {
     "name": "stdout",
     "output_type": "stream",
     "text": [
      "41\n",
      "42\n",
      "43\n",
      "44\n",
      "45\n",
      "46\n",
      "47\n",
      "48\n",
      "49\n",
      "50\n",
      "51\n",
      "52\n",
      "53\n",
      "54\n",
      "55\n",
      "56\n",
      "57\n",
      "58\n",
      "59\n",
      "60\n",
      "61\n"
     ]
    }
   ],
   "source": [
    "# while loop\n",
    "joining_age=40\n",
    "while joining_age<=60:\n",
    "    joining_age=joining_age+1\n",
    "    print(joining_age)"
   ]
  },
  {
   "cell_type": "code",
   "execution_count": 3,
   "id": "2d0d1dff-4272-4f9b-beac-abd8a9cac255",
   "metadata": {},
   "outputs": [
    {
     "name": "stdout",
     "output_type": "stream",
     "text": [
      "41\n",
      "42\n",
      "43\n",
      "44\n",
      "45\n",
      "46\n",
      "47\n",
      "48\n",
      "49\n",
      "50\n",
      "51\n"
     ]
    }
   ],
   "source": [
    "# while loop\n",
    "joining_age=40\n",
    "while joining_age<=50:\n",
    "    joining_age=joining_age+1\n",
    "    print(joining_age)"
   ]
  },
  {
   "cell_type": "code",
   "execution_count": 6,
   "id": "54621f3b-b035-497c-9680-a06dff2761a7",
   "metadata": {},
   "outputs": [
    {
     "name": "stdout",
     "output_type": "stream",
     "text": [
      "41\n",
      "42\n",
      "43\n",
      "44\n",
      "45\n",
      "46\n"
     ]
    }
   ],
   "source": [
    "# while loop\n",
    "joining_age=40\n",
    "while joining_age<=45:\n",
    "    joining_age=joining_age+1\n",
    "    print(joining_age)"
   ]
  },
  {
   "cell_type": "code",
   "execution_count": 6,
   "id": "7c5f4bdc-8881-4f9e-b9a4-8808f0a37aff",
   "metadata": {},
   "outputs": [
    {
     "name": "stdout",
     "output_type": "stream",
     "text": [
      "41\n",
      "42\n",
      "43\n",
      "44\n",
      "45\n",
      "46\n"
     ]
    }
   ],
   "source": [
    "# while loop\n",
    "joining_age=40\n",
    "while joining_age<=45:\n",
    "    joining_age=joining_age+1\n",
    "    print(joining_age)"
   ]
  },
  {
   "cell_type": "code",
   "execution_count": 7,
   "id": "e3785c59-0cb9-40d6-a152-7b5596f72219",
   "metadata": {},
   "outputs": [
    {
     "name": "stdout",
     "output_type": "stream",
     "text": [
      "41\n",
      "42\n",
      "43\n",
      "44\n",
      "45\n",
      "46\n",
      "retirement age\n"
     ]
    }
   ],
   "source": [
    "# while loop\n",
    "joining_age=40\n",
    "while joining_age<=45:\n",
    "    joining_age=joining_age+1\n",
    "    print(joining_age)\n",
    "else:\n",
    "    print(\"retirement age\")"
   ]
  },
  {
   "cell_type": "code",
   "execution_count": 9,
   "id": "b4369fb1-79a8-4da5-81c3-700deacb03f9",
   "metadata": {},
   "outputs": [
    {
     "name": "stdout",
     "output_type": "stream",
     "text": [
      "40\n",
      "41\n",
      "42\n",
      "43\n",
      "44\n",
      "45\n",
      "retirement age\n"
     ]
    }
   ],
   "source": [
    "# while loop\n",
    "joining_age=40\n",
    "while joining_age<=45:\n",
    "    print(joining_age)\n",
    "    joining_age=joining_age+1\n",
    "    \n",
    "else:\n",
    "    print(\"retirement age\")"
   ]
  },
  {
   "cell_type": "code",
   "execution_count": 12,
   "id": "c95fbd23-5b5d-4873-940e-76b931f191e7",
   "metadata": {},
   "outputs": [
    {
     "name": "stdout",
     "output_type": "stream",
     "text": [
      "1000\n",
      "900\n",
      "800\n",
      "700\n",
      "600\n",
      "500\n",
      "400\n",
      "300\n",
      "200\n",
      "100\n"
     ]
    }
   ],
   "source": [
    "#example for while loop\n",
    "total_amount=1000\n",
    "while total_amount!=0:\n",
    "    print(total_amount)\n",
    "    total_amount=total_amount-100"
   ]
  },
  {
   "cell_type": "code",
   "execution_count": 13,
   "id": "33503322-0942-4979-b025-d649f3ff051b",
   "metadata": {},
   "outputs": [
    {
     "name": "stdout",
     "output_type": "stream",
     "text": [
      "1000\n",
      "900\n",
      "800\n",
      "700\n",
      "600\n",
      "500\n",
      "400\n",
      "300\n",
      "200\n",
      "100\n",
      "no money\n"
     ]
    }
   ],
   "source": [
    "#example for while loop\n",
    "total_amount=1000\n",
    "while total_amount!=0:\n",
    "    print(total_amount)\n",
    "    total_amount=total_amount-100\n",
    "else:\n",
    "    print(\"no money\")"
   ]
  },
  {
   "cell_type": "code",
   "execution_count": 16,
   "id": "969906a0-d7ea-42e0-9786-f202cf84fb78",
   "metadata": {},
   "outputs": [
    {
     "name": "stdout",
     "output_type": "stream",
     "text": [
      "1000\n",
      "900\n",
      "800\n",
      "700\n",
      "600\n",
      "500\n",
      "400\n",
      "300\n",
      "200\n",
      "100\n",
      "no money\n",
      "hi\n"
     ]
    }
   ],
   "source": [
    "#example for while loop\n",
    "total_amount=1000\n",
    "while total_amount!=0:\n",
    "    print(total_amount)\n",
    "    total_amount=total_amount-100\n",
    "else:\n",
    "    print(\"no money\")\n",
    "print(\"hi\")"
   ]
  },
  {
   "cell_type": "code",
   "execution_count": 20,
   "id": "bd162fe6-e4b9-4188-b087-3a62c758c005",
   "metadata": {},
   "outputs": [],
   "source": [
    "# for loop\n",
    "lst=[\"pk\",1,2,3,4,\"apple\",\"banana\"]"
   ]
  },
  {
   "cell_type": "code",
   "execution_count": 21,
   "id": "9890366e-862e-4061-81b8-73fcce0fa6e7",
   "metadata": {},
   "outputs": [
    {
     "data": {
      "text/plain": [
       "list"
      ]
     },
     "execution_count": 21,
     "metadata": {},
     "output_type": "execute_result"
    }
   ],
   "source": [
    "type(lst)"
   ]
  },
  {
   "cell_type": "code",
   "execution_count": 23,
   "id": "e102964b-ec34-4235-b662-9fc6ca66fc4f",
   "metadata": {},
   "outputs": [
    {
     "data": {
      "text/plain": [
       "'pk'"
      ]
     },
     "execution_count": 23,
     "metadata": {},
     "output_type": "execute_result"
    }
   ],
   "source": [
    "lst[0]"
   ]
  },
  {
   "cell_type": "code",
   "execution_count": 24,
   "id": "a8e5bd54-de2c-45f9-9502-ff2b807b40d6",
   "metadata": {},
   "outputs": [
    {
     "data": {
      "text/plain": [
       "1"
      ]
     },
     "execution_count": 24,
     "metadata": {},
     "output_type": "execute_result"
    }
   ],
   "source": [
    "lst[1]"
   ]
  },
  {
   "cell_type": "code",
   "execution_count": 25,
   "id": "336ce01b-25f6-4c1d-95c2-152949764d62",
   "metadata": {},
   "outputs": [
    {
     "data": {
      "text/plain": [
       "3"
      ]
     },
     "execution_count": 25,
     "metadata": {},
     "output_type": "execute_result"
    }
   ],
   "source": [
    "lst[3]\n"
   ]
  },
  {
   "cell_type": "code",
   "execution_count": 26,
   "id": "f1ac4eae-5968-4ac9-910a-e135fe286121",
   "metadata": {},
   "outputs": [
    {
     "data": {
      "text/plain": [
       "'apple'"
      ]
     },
     "execution_count": 26,
     "metadata": {},
     "output_type": "execute_result"
    }
   ],
   "source": [
    "lst[5]"
   ]
  },
  {
   "cell_type": "code",
   "execution_count": 27,
   "id": "63782b1d-eb30-44f0-aa5a-b1814a3f448f",
   "metadata": {},
   "outputs": [
    {
     "data": {
      "text/plain": [
       "['pk', 1, 2, 3, 4, 'apple', 'banana']"
      ]
     },
     "execution_count": 27,
     "metadata": {},
     "output_type": "execute_result"
    }
   ],
   "source": [
    "lst"
   ]
  },
  {
   "cell_type": "code",
   "execution_count": 28,
   "id": "41df39d7-fdeb-4481-a0af-d3066e0481a4",
   "metadata": {},
   "outputs": [
    {
     "name": "stdout",
     "output_type": "stream",
     "text": [
      "pk\n",
      "1\n",
      "2\n",
      "3\n",
      "4\n",
      "apple\n",
      "banana\n"
     ]
    }
   ],
   "source": [
    "#the above list can be iterated through for loop\n",
    "for x in lst :\n",
    "    print(x)"
   ]
  },
  {
   "cell_type": "code",
   "execution_count": 29,
   "id": "d038b577-42f5-47a5-bb8b-3c50dc35d811",
   "metadata": {},
   "outputs": [],
   "source": [
    "fruits=[\"apple\",\"banana\",\"mango\",\"guava\",\"kiwi\"]"
   ]
  },
  {
   "cell_type": "code",
   "execution_count": 30,
   "id": "31b2ad55-ed3c-480a-8a8e-cad117bcad46",
   "metadata": {},
   "outputs": [
    {
     "name": "stdout",
     "output_type": "stream",
     "text": [
      "apple\n",
      "banana\n",
      "mango\n",
      "guava\n",
      "kiwi\n"
     ]
    }
   ],
   "source": [
    "for a in fruits:\n",
    "    print(a)"
   ]
  },
  {
   "cell_type": "code",
   "execution_count": 32,
   "id": "9e583b87-fc85-4ad1-a536-c9402f4f426f",
   "metadata": {},
   "outputs": [
    {
     "name": "stdout",
     "output_type": "stream",
     "text": [
      "apple\n",
      "banana\n",
      "mango\n",
      "mango is my fav\n",
      "guava\n",
      "kiwi\n"
     ]
    }
   ],
   "source": [
    "for a in fruits:\n",
    "    print(a)\n",
    "    if a==\"mango\":\n",
    "      print(\"mango is my fav\")  "
   ]
  },
  {
   "cell_type": "code",
   "execution_count": 33,
   "id": "32465d7d-ded5-4424-8ac0-8ae6520b55c6",
   "metadata": {},
   "outputs": [
    {
     "name": "stdout",
     "output_type": "stream",
     "text": [
      "applebananamangomango is my fav\n",
      "guavakiwi"
     ]
    }
   ],
   "source": [
    "for a in fruits:\n",
    "    print(a,end=\"\")\n",
    "    if a==\"mango\":\n",
    "      print(\"mango is my fav\")  "
   ]
  },
  {
   "cell_type": "code",
   "execution_count": 34,
   "id": "52a21a9e-b107-43be-8321-62df6b5befdf",
   "metadata": {},
   "outputs": [
    {
     "name": "stdout",
     "output_type": "stream",
     "text": [
      "apple-banana-mango-mango is my fav\n",
      "guava-kiwi-"
     ]
    }
   ],
   "source": [
    "for a in fruits:\n",
    "    print(a,end=\"-\")\n",
    "    if a==\"mango\":\n",
    "      print(\"mango is my fav\")  "
   ]
  },
  {
   "cell_type": "code",
   "execution_count": 39,
   "id": "7bb87da5-1b95-441f-9f01-de44319ce00f",
   "metadata": {},
   "outputs": [
    {
     "name": "stdout",
     "output_type": "stream",
     "text": [
      "apple\n",
      "banana\n",
      "mango\n",
      "guava\n",
      "mango is my fav\n"
     ]
    }
   ],
   "source": [
    "for a in fruits:\n",
    "    print(a)\n",
    "    if a==\"guava\":\n",
    "      print(\"mango is my fav\")  \n",
    "      break"
   ]
  },
  {
   "cell_type": "code",
   "execution_count": 40,
   "id": "9aca7bd7-3476-45e6-b494-3d229708695f",
   "metadata": {},
   "outputs": [
    {
     "name": "stdout",
     "output_type": "stream",
     "text": [
      "apple\n",
      "banana\n",
      "mango\n",
      "mango is my fav\n"
     ]
    }
   ],
   "source": [
    "for a in fruits:\n",
    "    print(a)\n",
    "    if a==\"mango\":\n",
    "      print(\"mango is my fav\")  \n",
    "      break"
   ]
  },
  {
   "cell_type": "code",
   "execution_count": 41,
   "id": "4a1c494c-56b5-413c-91c6-4f24b9f070b2",
   "metadata": {},
   "outputs": [
    {
     "name": "stdout",
     "output_type": "stream",
     "text": [
      "m\n",
      "a\n",
      "n\n",
      "g\n",
      "o\n"
     ]
    }
   ],
   "source": [
    "fruit='mango'\n",
    "for x in fruit:\n",
    "    print(x)"
   ]
  },
  {
   "cell_type": "code",
   "execution_count": 42,
   "id": "084ed95b-f70b-4584-ae2a-ed86923b3502",
   "metadata": {},
   "outputs": [
    {
     "name": "stdout",
     "output_type": "stream",
     "text": [
      "mango"
     ]
    }
   ],
   "source": [
    "fruit='mango'\n",
    "for x in fruit:\n",
    "    print(x,end='')"
   ]
  },
  {
   "cell_type": "code",
   "execution_count": 44,
   "id": "2ea7ee05-0d45-4bc5-8426-3ffeb4fc119c",
   "metadata": {},
   "outputs": [
    {
     "data": {
      "text/plain": [
       "'n'"
      ]
     },
     "execution_count": 44,
     "metadata": {},
     "output_type": "execute_result"
    }
   ],
   "source": [
    "fruit[2]\n"
   ]
  },
  {
   "cell_type": "code",
   "execution_count": 47,
   "id": "fa92c59e-8eed-4b98-ad67-4ae53b452593",
   "metadata": {},
   "outputs": [
    {
     "name": "stdout",
     "output_type": "stream",
     "text": [
      "1\n",
      "2\n",
      "3\n",
      "4\n",
      "5\n"
     ]
    }
   ],
   "source": [
    "# range\n",
    "for i in range(1,6):\n",
    "    print(i)"
   ]
  },
  {
   "cell_type": "code",
   "execution_count": 48,
   "id": "4e33e13f-311e-48a1-b83c-10677709e371",
   "metadata": {},
   "outputs": [
    {
     "name": "stdout",
     "output_type": "stream",
     "text": [
      "1\n",
      "3\n",
      "5\n"
     ]
    }
   ],
   "source": [
    "for i in range(1,6,2):\n",
    "    print(i)"
   ]
  },
  {
   "cell_type": "code",
   "execution_count": 49,
   "id": "f66a7392-a70a-428c-866f-c689ced8ebfb",
   "metadata": {},
   "outputs": [
    {
     "name": "stdout",
     "output_type": "stream",
     "text": [
      "1\n",
      "4\n"
     ]
    }
   ],
   "source": [
    "for i in range(1,6,3):\n",
    "    print(i)"
   ]
  },
  {
   "cell_type": "code",
   "execution_count": 50,
   "id": "670c8261-e8ca-43ca-a91f-963b83923f3c",
   "metadata": {},
   "outputs": [
    {
     "name": "stdout",
     "output_type": "stream",
     "text": [
      "*\n",
      "*\n",
      "*\n",
      "*\n",
      "*\n",
      "*\n",
      "*\n",
      "*\n",
      "*\n",
      "*\n",
      "*\n",
      "*\n",
      "*\n",
      "*\n",
      "*\n",
      "*\n",
      "*\n",
      "*\n",
      "*\n",
      "*\n",
      "*\n",
      "*\n",
      "*\n",
      "*\n",
      "*\n",
      "*\n",
      "*\n",
      "*\n"
     ]
    }
   ],
   "source": [
    "#nested loops\n",
    "n=7\n",
    "for i in range(0,n):\n",
    "    for j in range(0,i+1):\n",
    "        print(\"*\")"
   ]
  },
  {
   "cell_type": "code",
   "execution_count": 51,
   "id": "92d22d39-38ce-46c1-b0ac-0357d44076df",
   "metadata": {},
   "outputs": [
    {
     "name": "stdout",
     "output_type": "stream",
     "text": [
      "*\n",
      "\n",
      "*\n",
      "*\n",
      "\n",
      "*\n",
      "*\n",
      "*\n",
      "\n",
      "*\n",
      "*\n",
      "*\n",
      "*\n",
      "\n",
      "*\n",
      "*\n",
      "*\n",
      "*\n",
      "*\n",
      "\n",
      "*\n",
      "*\n",
      "*\n",
      "*\n",
      "*\n",
      "*\n",
      "\n",
      "*\n",
      "*\n",
      "*\n",
      "*\n",
      "*\n",
      "*\n",
      "*\n",
      "\n"
     ]
    }
   ],
   "source": [
    "n=7\n",
    "for i in range(0,n):\n",
    "    for j in range(0,i+1):\n",
    "        print(\"*\")\n",
    "    print(\"\\r\")"
   ]
  },
  {
   "cell_type": "code",
   "execution_count": 52,
   "id": "77bcf477-bb74-482c-8039-0f5e60d78af4",
   "metadata": {},
   "outputs": [
    {
     "name": "stdout",
     "output_type": "stream",
     "text": [
      "*\n",
      "**\n",
      "***\n",
      "****\n",
      "*****\n",
      "******\n",
      "*******\n"
     ]
    }
   ],
   "source": [
    "n=7\n",
    "for i in range(0,n):\n",
    "    for j in range(0,i+1):\n",
    "        print(\"*\",end='')\n",
    "    print(\"\\r\")"
   ]
  },
  {
   "cell_type": "code",
   "execution_count": 53,
   "id": "9fc6f6d6-7dea-411b-a45c-21590475b8c2",
   "metadata": {},
   "outputs": [
    {
     "name": "stdout",
     "output_type": "stream",
     "text": [
      "*\n",
      "\n",
      "**\n",
      "\n",
      "***\n",
      "\n",
      "****\n",
      "\n",
      "*****\n",
      "\n",
      "******\n",
      "\n",
      "*******\n",
      "\n"
     ]
    }
   ],
   "source": [
    "n=7\n",
    "for i in range(0,n):\n",
    "    for j in range(0,i+1):\n",
    "        print(\"*\",end='')\n",
    "    print(\"\\n\")"
   ]
  },
  {
   "cell_type": "code",
   "execution_count": 54,
   "id": "d539538f-e6e3-43a9-98cb-cad3a5704014",
   "metadata": {},
   "outputs": [
    {
     "name": "stdout",
     "output_type": "stream",
     "text": [
      "            *   \n",
      "           *  *   \n",
      "          *  *  *   \n",
      "         *  *  *  *   \n",
      "        *  *  *  *  *   \n",
      "       *  *  *  *  *  *   \n",
      "      *  *  *  *  *  *  *   \n"
     ]
    }
   ],
   "source": [
    "size = 7\n",
    "m = (2 * size) - 2\n",
    "for i in range(0, size):\n",
    "    for j in range(0, m):\n",
    "        print(end=\" \")\n",
    "    # decrementing m after each loop\n",
    "    m = m - 1\n",
    "    for j in range(0, i + 1):\n",
    "        print(\"* \", end=' ')\n",
    "    print(\" \")"
   ]
  },
  {
   "cell_type": "code",
   "execution_count": 55,
   "id": "93caad99-4446-4890-a7dd-923aa336474a",
   "metadata": {},
   "outputs": [],
   "source": [
    "## loop controls\n",
    "#break and continue\n",
    "fruits=[\"apple\",\"banana\",\"mango\",\"guava\",\"kiwi\"]"
   ]
  },
  {
   "cell_type": "code",
   "execution_count": 56,
   "id": "bdbfde47-6342-4257-ae11-0e9b5707547f",
   "metadata": {},
   "outputs": [
    {
     "name": "stdout",
     "output_type": "stream",
     "text": [
      "apple\n",
      "banana\n",
      "mango\n",
      "guava\n",
      "kiwi\n"
     ]
    }
   ],
   "source": [
    "for i in fruits:\n",
    "    print(i)"
   ]
  },
  {
   "cell_type": "code",
   "execution_count": 58,
   "id": "c4ca4175-d9b8-4420-bcef-2c758000006b",
   "metadata": {},
   "outputs": [
    {
     "name": "stdout",
     "output_type": "stream",
     "text": [
      "the fruit is apple\n",
      "apple\n",
      "banana\n",
      "mango\n",
      "guava\n",
      "kiwi\n"
     ]
    }
   ],
   "source": [
    "for i in fruits:\n",
    "    if i==\"apple\":\n",
    "        print(\"the fruit is apple\")\n",
    "    print(i)"
   ]
  },
  {
   "cell_type": "code",
   "execution_count": 59,
   "id": "ba313e72-bddd-45c6-a6e2-18bc71644380",
   "metadata": {},
   "outputs": [
    {
     "name": "stdout",
     "output_type": "stream",
     "text": [
      "apple\n",
      "banana\n",
      "the fruit is mango\n"
     ]
    }
   ],
   "source": [
    "for i in fruits:\n",
    "    if i==\"mango\":\n",
    "        print(\"the fruit is mango\")\n",
    "        break\n",
    "    print(i)"
   ]
  },
  {
   "cell_type": "code",
   "execution_count": 60,
   "id": "73280412-6cdd-4132-ad96-1ad0e316194a",
   "metadata": {},
   "outputs": [
    {
     "name": "stdout",
     "output_type": "stream",
     "text": [
      "apple\n",
      "banana\n",
      "the fruit is mango\n",
      "mango\n",
      "guava\n",
      "kiwi\n"
     ]
    }
   ],
   "source": [
    "for i in fruits:\n",
    "    if i==\"mango\":\n",
    "        print(\"the fruit is mango\")\n",
    "        pass\n",
    "    print(i)"
   ]
  },
  {
   "cell_type": "code",
   "execution_count": 61,
   "id": "1da5e28f-5768-4bb2-9bdf-8dcf7dcdbb6d",
   "metadata": {},
   "outputs": [
    {
     "name": "stdout",
     "output_type": "stream",
     "text": [
      "apple\n",
      "banana\n",
      "the fruit is mango\n",
      "guava\n",
      "kiwi\n"
     ]
    }
   ],
   "source": [
    "for i in fruits:\n",
    "    if i==\"mango\":\n",
    "        print(\"the fruit is mango\")\n",
    "        continue\n",
    "    print(i)"
   ]
  },
  {
   "cell_type": "code",
   "execution_count": null,
   "id": "89f7402d-4be2-4f03-9871-6beafcbcd0ab",
   "metadata": {},
   "outputs": [],
   "source": []
  }
 ],
 "metadata": {
  "kernelspec": {
   "display_name": "Python 3 (ipykernel)",
   "language": "python",
   "name": "python3"
  },
  "language_info": {
   "codemirror_mode": {
    "name": "ipython",
    "version": 3
   },
   "file_extension": ".py",
   "mimetype": "text/x-python",
   "name": "python",
   "nbconvert_exporter": "python",
   "pygments_lexer": "ipython3",
   "version": "3.10.8"
  }
 },
 "nbformat": 4,
 "nbformat_minor": 5
}
