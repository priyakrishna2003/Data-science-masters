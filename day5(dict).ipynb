{
 "cells": [
  {
   "cell_type": "markdown",
   "id": "5fe41e46-7668-4560-8637-9bb850128ea6",
   "metadata": {},
   "source": [
    "# dictionary"
   ]
  },
  {
   "cell_type": "code",
   "execution_count": 1,
   "id": "ec3617e2-ab94-49e9-bdd3-943f54ea7e7f",
   "metadata": {},
   "outputs": [],
   "source": [
    "d={}"
   ]
  },
  {
   "cell_type": "code",
   "execution_count": 2,
   "id": "538df487-f37c-4135-a161-86c2d4d6bea9",
   "metadata": {},
   "outputs": [
    {
     "data": {
      "text/plain": [
       "dict"
      ]
     },
     "execution_count": 2,
     "metadata": {},
     "output_type": "execute_result"
    }
   ],
   "source": [
    "type(d)"
   ]
  },
  {
   "cell_type": "code",
   "execution_count": 4,
   "id": "db11d81d-e4de-4806-b466-b68e404da2af",
   "metadata": {},
   "outputs": [],
   "source": [
    "d={\"name\":\"sudh\",'email':'@pk','num1':'1','num2':'2'}"
   ]
  },
  {
   "cell_type": "code",
   "execution_count": 5,
   "id": "bb0b6680-ac3d-4f83-8a62-624ea01d3e96",
   "metadata": {},
   "outputs": [
    {
     "data": {
      "text/plain": [
       "{'name': 'sudh', 'email': '@pk', 'num1': '1', 'num2': '2'}"
      ]
     },
     "execution_count": 5,
     "metadata": {},
     "output_type": "execute_result"
    }
   ],
   "source": [
    "d"
   ]
  },
  {
   "cell_type": "code",
   "execution_count": 6,
   "id": "bf0a9ea2-758b-4e7e-a1e8-44fa528229b5",
   "metadata": {},
   "outputs": [
    {
     "data": {
      "text/plain": [
       "dict"
      ]
     },
     "execution_count": 6,
     "metadata": {},
     "output_type": "execute_result"
    }
   ],
   "source": [
    "type(d)"
   ]
  },
  {
   "cell_type": "code",
   "execution_count": 9,
   "id": "3f48a428-6dd4-46c9-b5db-e397535b991e",
   "metadata": {},
   "outputs": [],
   "source": [
    "d1={\"name\":\"sudh\",'email':'@pk','num1':1,'num2':2}"
   ]
  },
  {
   "cell_type": "code",
   "execution_count": 11,
   "id": "0f79ad47-9775-49f2-babf-bee82165d0c6",
   "metadata": {},
   "outputs": [
    {
     "data": {
      "text/plain": [
       "{'name': 'sudh', 'email': '@pk', 'num1': 1, 'num2': 2}"
      ]
     },
     "execution_count": 11,
     "metadata": {},
     "output_type": "execute_result"
    }
   ],
   "source": [
    "d1"
   ]
  },
  {
   "cell_type": "code",
   "execution_count": 14,
   "id": "cbc3eeec-2299-47f2-a891-26bcb037b6f8",
   "metadata": {},
   "outputs": [],
   "source": [
    "d2={'name':'pk','name':'krishna'}     # key1 is over written by key2"
   ]
  },
  {
   "cell_type": "code",
   "execution_count": 15,
   "id": "66716442-3b09-4abc-ae0a-711ccbd07d33",
   "metadata": {},
   "outputs": [
    {
     "data": {
      "text/plain": [
       "{'name': 'krishna'}"
      ]
     },
     "execution_count": 15,
     "metadata": {},
     "output_type": "execute_result"
    }
   ],
   "source": [
    "d2  ## key should always be unique"
   ]
  },
  {
   "cell_type": "code",
   "execution_count": 16,
   "id": "fbd582c7-fa48-46d5-87f0-d718b193845d",
   "metadata": {},
   "outputs": [],
   "source": [
    "d3={123:'pk'}"
   ]
  },
  {
   "cell_type": "code",
   "execution_count": 17,
   "id": "abee0c7e-89c7-4ce7-9dd1-9f81b0f0b331",
   "metadata": {},
   "outputs": [
    {
     "data": {
      "text/plain": [
       "{123: 'pk'}"
      ]
     },
     "execution_count": 17,
     "metadata": {},
     "output_type": "execute_result"
    }
   ],
   "source": [
    "d3   # key can also be a numeric number"
   ]
  },
  {
   "cell_type": "code",
   "execution_count": 19,
   "id": "b90c8a53-daa9-493f-a471-8deddb4dca58",
   "metadata": {},
   "outputs": [],
   "source": [
    "d4={45.2:'krish'}     # key can also be a float value"
   ]
  },
  {
   "cell_type": "code",
   "execution_count": 20,
   "id": "759652b5-6db7-42fb-b52d-a6711d7d3430",
   "metadata": {},
   "outputs": [
    {
     "data": {
      "text/plain": [
       "{45.2: 'krish'}"
      ]
     },
     "execution_count": 20,
     "metadata": {},
     "output_type": "execute_result"
    }
   ],
   "source": [
    "d4"
   ]
  },
  {
   "cell_type": "code",
   "execution_count": 21,
   "id": "af9b1f6e-04a7-4b57-a3ce-e91fb5dd09c7",
   "metadata": {},
   "outputs": [],
   "source": [
    "d5={True:'abc'} # key can also be a bool value"
   ]
  },
  {
   "cell_type": "code",
   "execution_count": 22,
   "id": "43d92730-1cc7-45db-a29b-6c38bd213d34",
   "metadata": {},
   "outputs": [
    {
     "data": {
      "text/plain": [
       "{True: 'abc'}"
      ]
     },
     "execution_count": 22,
     "metadata": {},
     "output_type": "execute_result"
    }
   ],
   "source": [
    "d5"
   ]
  },
  {
   "cell_type": "code",
   "execution_count": 23,
   "id": "247f2f48-f210-4e99-8d9e-4457e3356d0e",
   "metadata": {},
   "outputs": [
    {
     "ename": "SyntaxError",
     "evalue": "invalid syntax (2877548464.py, line 1)",
     "output_type": "error",
     "traceback": [
      "\u001b[0;36m  Cell \u001b[0;32mIn[23], line 1\u001b[0;36m\u001b[0m\n\u001b[0;31m    d6={@:'ab'}    # key can not  be a ascii value\u001b[0m\n\u001b[0m        ^\u001b[0m\n\u001b[0;31mSyntaxError\u001b[0m\u001b[0;31m:\u001b[0m invalid syntax\n"
     ]
    }
   ],
   "source": [
    "d6={@:'ab'}    # key can not  be a ascii value"
   ]
  },
  {
   "cell_type": "code",
   "execution_count": 24,
   "id": "dff09464-5c43-4867-b579-4af0d4bb31b3",
   "metadata": {},
   "outputs": [
    {
     "ename": "SyntaxError",
     "evalue": "incomplete input (3203770273.py, line 1)",
     "output_type": "error",
     "traceback": [
      "\u001b[0;36m  Cell \u001b[0;32mIn[24], line 1\u001b[0;36m\u001b[0m\n\u001b[0;31m    d7={#:'ab'}\u001b[0m\n\u001b[0m               ^\u001b[0m\n\u001b[0;31mSyntaxError\u001b[0m\u001b[0;31m:\u001b[0m incomplete input\n"
     ]
    }
   ],
   "source": [
    "d7={#:'ab'}"
   ]
  },
  {
   "cell_type": "code",
   "execution_count": 25,
   "id": "68172085-70e7-4d60-83bb-3248eb19279b",
   "metadata": {},
   "outputs": [
    {
     "ename": "TypeError",
     "evalue": "unhashable type: 'list'",
     "output_type": "error",
     "traceback": [
      "\u001b[0;31m---------------------------------------------------------------------------\u001b[0m",
      "\u001b[0;31mTypeError\u001b[0m                                 Traceback (most recent call last)",
      "Cell \u001b[0;32mIn[25], line 1\u001b[0m\n\u001b[0;32m----> 1\u001b[0m d8\u001b[38;5;241m=\u001b[39m{[\u001b[38;5;241m1\u001b[39m,\u001b[38;5;241m2\u001b[39m]:\u001b[38;5;124m'\u001b[39m\u001b[38;5;124mab\u001b[39m\u001b[38;5;124m'\u001b[39m}     \u001b[38;5;66;03m# key can not be a list\u001b[39;00m\n",
      "\u001b[0;31mTypeError\u001b[0m: unhashable type: 'list'"
     ]
    }
   ],
   "source": [
    "d8={[1,2]:'ab'}     # key can not be a list"
   ]
  },
  {
   "cell_type": "code",
   "execution_count": 26,
   "id": "faa35ff9-d210-482d-aebe-55809b615e2d",
   "metadata": {},
   "outputs": [],
   "source": [
    "d8={(1,20):'ab'} # key can be a tuple\n"
   ]
  },
  {
   "cell_type": "code",
   "execution_count": 27,
   "id": "ceb73d32-6cc4-4cae-a676-3ad2132edc77",
   "metadata": {},
   "outputs": [
    {
     "data": {
      "text/plain": [
       "{(1, 20): 'ab'}"
      ]
     },
     "execution_count": 27,
     "metadata": {},
     "output_type": "execute_result"
    }
   ],
   "source": [
    "d8"
   ]
  },
  {
   "cell_type": "code",
   "execution_count": 28,
   "id": "2f26b444-74d5-432f-a233-690c52e99ede",
   "metadata": {},
   "outputs": [
    {
     "ename": "TypeError",
     "evalue": "unhashable type: 'set'",
     "output_type": "error",
     "traceback": [
      "\u001b[0;31m---------------------------------------------------------------------------\u001b[0m",
      "\u001b[0;31mTypeError\u001b[0m                                 Traceback (most recent call last)",
      "Cell \u001b[0;32mIn[28], line 1\u001b[0m\n\u001b[0;32m----> 1\u001b[0m d8\u001b[38;5;241m=\u001b[39m{{\u001b[38;5;241m1\u001b[39m,\u001b[38;5;241m2\u001b[39m}:\u001b[38;5;124m'\u001b[39m\u001b[38;5;124mab\u001b[39m\u001b[38;5;124m'\u001b[39m}\n",
      "\u001b[0;31mTypeError\u001b[0m: unhashable type: 'set'"
     ]
    }
   ],
   "source": [
    "d8={{1,2}:'ab'}  # key cannot be a set"
   ]
  },
  {
   "cell_type": "code",
   "execution_count": 29,
   "id": "75ce148b-c29a-4d60-91d9-e8f76b690004",
   "metadata": {},
   "outputs": [
    {
     "ename": "TypeError",
     "evalue": "unhashable type: 'dict'",
     "output_type": "error",
     "traceback": [
      "\u001b[0;31m---------------------------------------------------------------------------\u001b[0m",
      "\u001b[0;31mTypeError\u001b[0m                                 Traceback (most recent call last)",
      "Cell \u001b[0;32mIn[29], line 1\u001b[0m\n\u001b[0;32m----> 1\u001b[0m d11\u001b[38;5;241m=\u001b[39m{{\u001b[38;5;124m\"\u001b[39m\u001b[38;5;124mkey\u001b[39m\u001b[38;5;124m\"\u001b[39m:\u001b[38;5;241m123\u001b[39m}:\u001b[38;5;241m123\u001b[39m}\n",
      "\u001b[0;31mTypeError\u001b[0m: unhashable type: 'dict'"
     ]
    }
   ],
   "source": [
    "d11={{\"key\":123}:123} # dict cannot be used as a key"
   ]
  },
  {
   "cell_type": "code",
   "execution_count": 30,
   "id": "db25b147-efb7-452c-9778-60904d9bf37c",
   "metadata": {},
   "outputs": [],
   "source": [
    "d12={'course_name':[\"data science masters\",'web dev','java with dsa']}"
   ]
  },
  {
   "cell_type": "code",
   "execution_count": 31,
   "id": "dc9a2510-6b39-4541-b4ad-e9a68475d9be",
   "metadata": {},
   "outputs": [
    {
     "data": {
      "text/plain": [
       "{'course_name': ['data science masters', 'web dev', 'java with dsa']}"
      ]
     },
     "execution_count": 31,
     "metadata": {},
     "output_type": "execute_result"
    }
   ],
   "source": [
    "d12 # we can assign list(multiple values) to a single key"
   ]
  },
  {
   "cell_type": "code",
   "execution_count": 32,
   "id": "5be8852c-b519-489e-bbbe-f190110059e6",
   "metadata": {},
   "outputs": [],
   "source": [
    "d13={'key':(1,2,3)}   # value can be taken as a tuple"
   ]
  },
  {
   "cell_type": "code",
   "execution_count": 33,
   "id": "4a0ff12a-6e72-49ea-a14a-9713e456c1b9",
   "metadata": {},
   "outputs": [
    {
     "data": {
      "text/plain": [
       "{'key': (1, 2, 3)}"
      ]
     },
     "execution_count": 33,
     "metadata": {},
     "output_type": "execute_result"
    }
   ],
   "source": [
    "d13"
   ]
  },
  {
   "cell_type": "code",
   "execution_count": 34,
   "id": "a636c4f9-2dd5-4959-b42e-a413234e9aaa",
   "metadata": {},
   "outputs": [],
   "source": [
    "d14={'key':{1,2,3}} # value can be taken as a set"
   ]
  },
  {
   "cell_type": "code",
   "execution_count": 35,
   "id": "f7fd5168-926d-4fe0-94ab-f48de27c30db",
   "metadata": {},
   "outputs": [
    {
     "data": {
      "text/plain": [
       "{'key': {1, 2, 3}}"
      ]
     },
     "execution_count": 35,
     "metadata": {},
     "output_type": "execute_result"
    }
   ],
   "source": [
    "d14"
   ]
  },
  {
   "cell_type": "code",
   "execution_count": 37,
   "id": "71b951a1-833c-476b-a206-45c9b0df13f6",
   "metadata": {},
   "outputs": [],
   "source": [
    "d15={'key':{'key1':123}} # value can be taken as a dict"
   ]
  },
  {
   "cell_type": "code",
   "execution_count": 38,
   "id": "0f28fe85-4348-478f-a964-ff8c07710727",
   "metadata": {},
   "outputs": [
    {
     "data": {
      "text/plain": [
       "{'key': {'key1': 123}}"
      ]
     },
     "execution_count": 38,
     "metadata": {},
     "output_type": "execute_result"
    }
   ],
   "source": [
    "d15"
   ]
  },
  {
   "cell_type": "code",
   "execution_count": 39,
   "id": "5da966b9-8f3e-42b9-9600-26caa02437be",
   "metadata": {},
   "outputs": [],
   "source": [
    "d15={'key':{'key1':123,'hi':34}} # nested dictionary"
   ]
  },
  {
   "cell_type": "code",
   "execution_count": 40,
   "id": "0f8183c7-8a7b-4cb5-82e7-a956a7c9b1e3",
   "metadata": {},
   "outputs": [
    {
     "data": {
      "text/plain": [
       "{'key': {'key1': 123, 'hi': 34}}"
      ]
     },
     "execution_count": 40,
     "metadata": {},
     "output_type": "execute_result"
    }
   ],
   "source": [
    "d15"
   ]
  },
  {
   "cell_type": "code",
   "execution_count": 41,
   "id": "6bbc3f01-52be-4991-9097-9f5b04b530cf",
   "metadata": {},
   "outputs": [],
   "source": [
    "d16={\"bath_name\":[\"data science masters\",'web dev','java with dsa'],'start_date':(1,23),'mentor':{'krish','sudhanshu','sunny'},'end_date':{'date':'19nov','date2':'12nov'}}"
   ]
  },
  {
   "cell_type": "code",
   "execution_count": 42,
   "id": "cf361509-7c46-464c-8c88-513746f20c52",
   "metadata": {},
   "outputs": [
    {
     "data": {
      "text/plain": [
       "{'bath_name': ['data science masters', 'web dev', 'java with dsa'],\n",
       " 'start_date': (1, 23),\n",
       " 'mentor': {'krish', 'sudhanshu', 'sunny'},\n",
       " 'end_date': {'date': '19nov', 'date2': '12nov'}}"
      ]
     },
     "execution_count": 42,
     "metadata": {},
     "output_type": "execute_result"
    }
   ],
   "source": [
    "d16"
   ]
  },
  {
   "cell_type": "markdown",
   "id": "f13aae78-65c8-4929-9b46-1db5b3379101",
   "metadata": {},
   "source": [
    "### adding new pair into dict"
   ]
  },
  {
   "cell_type": "code",
   "execution_count": 47,
   "id": "2dd3e58b-e4b1-4caf-a904-b00501ae7711",
   "metadata": {},
   "outputs": [],
   "source": [
    "d16['timing']=('8 to 10')"
   ]
  },
  {
   "cell_type": "code",
   "execution_count": 48,
   "id": "ed529539-c304-471b-8a15-ddcc7e96dc77",
   "metadata": {},
   "outputs": [
    {
     "data": {
      "text/plain": [
       "{'bath_name': ['data science masters', 'web dev', 'java with dsa'],\n",
       " 'start_date': (1, 23),\n",
       " 'mentor': {'krish', 'sudhanshu', 'sunny'},\n",
       " 'end_date': {'date': '19nov', 'date2': '12nov'},\n",
       " 'timing': '8 to 10'}"
      ]
     },
     "execution_count": 48,
     "metadata": {},
     "output_type": "execute_result"
    }
   ],
   "source": [
    "d16"
   ]
  },
  {
   "cell_type": "code",
   "execution_count": 49,
   "id": "d9feeb93-5115-4461-84a8-1a534af8eb1c",
   "metadata": {},
   "outputs": [],
   "source": [
    "# if we give a existing key name it over writes the previous one"
   ]
  },
  {
   "cell_type": "code",
   "execution_count": 50,
   "id": "39af948a-f876-4d97-b71f-7830be1a36ed",
   "metadata": {},
   "outputs": [],
   "source": [
    "d16['end_date']={'date1':'nov19','date2':'nov12'}"
   ]
  },
  {
   "cell_type": "code",
   "execution_count": 51,
   "id": "92f7756a-2fc3-4f06-bfbb-aaba0909eef8",
   "metadata": {},
   "outputs": [
    {
     "data": {
      "text/plain": [
       "{'bath_name': ['data science masters', 'web dev', 'java with dsa'],\n",
       " 'start_date': (1, 23),\n",
       " 'mentor': {'krish', 'sudhanshu', 'sunny'},\n",
       " 'end_date': {'date1': 'nov19', 'date2': 'nov12'},\n",
       " 'timing': '8 to 10'}"
      ]
     },
     "execution_count": 51,
     "metadata": {},
     "output_type": "execute_result"
    }
   ],
   "source": [
    "d16"
   ]
  },
  {
   "cell_type": "markdown",
   "id": "7ed8ba6f-1be4-4fb1-ae21-e19ddd7de078",
   "metadata": {},
   "source": [
    "### extracting data from dict"
   ]
  },
  {
   "cell_type": "code",
   "execution_count": 53,
   "id": "a30ff881-a3f0-4534-b111-503f326c261e",
   "metadata": {},
   "outputs": [],
   "source": [
    "# dict stores key as index"
   ]
  },
  {
   "cell_type": "code",
   "execution_count": 54,
   "id": "e0223fc7-f2f6-4d1f-80de-352a1a2af64b",
   "metadata": {},
   "outputs": [
    {
     "data": {
      "text/plain": [
       "(1, 23)"
      ]
     },
     "execution_count": 54,
     "metadata": {},
     "output_type": "execute_result"
    }
   ],
   "source": [
    "d16['start_date']"
   ]
  },
  {
   "cell_type": "code",
   "execution_count": 55,
   "id": "03bed8ac-2c4a-4586-971a-a1cf317e2a40",
   "metadata": {},
   "outputs": [
    {
     "data": {
      "text/plain": [
       "{'krish', 'sudhanshu', 'sunny'}"
      ]
     },
     "execution_count": 55,
     "metadata": {},
     "output_type": "execute_result"
    }
   ],
   "source": [
    "d16['mentor']"
   ]
  },
  {
   "cell_type": "code",
   "execution_count": 56,
   "id": "fd2f3ca5-4197-4bb7-b7b1-c2a28d583568",
   "metadata": {},
   "outputs": [
    {
     "ename": "KeyError",
     "evalue": "'key'",
     "output_type": "error",
     "traceback": [
      "\u001b[0;31m---------------------------------------------------------------------------\u001b[0m",
      "\u001b[0;31mKeyError\u001b[0m                                  Traceback (most recent call last)",
      "Cell \u001b[0;32mIn[56], line 1\u001b[0m\n\u001b[0;32m----> 1\u001b[0m \u001b[43md16\u001b[49m\u001b[43m[\u001b[49m\u001b[38;5;124;43m'\u001b[39;49m\u001b[38;5;124;43mkey\u001b[39;49m\u001b[38;5;124;43m'\u001b[39;49m\u001b[43m]\u001b[49m \u001b[38;5;66;03m# if given key doesnt exist in data it produces a error\u001b[39;00m\n",
      "\u001b[0;31mKeyError\u001b[0m: 'key'"
     ]
    }
   ],
   "source": [
    "d16['key'] # if given key doesnt exist in data it produces a error"
   ]
  },
  {
   "cell_type": "code",
   "execution_count": 62,
   "id": "f913cfe9-89c5-44eb-8bf8-cf4d79df3c9e",
   "metadata": {},
   "outputs": [],
   "source": [
    "# adding name\n",
    "d16['name']='priya'"
   ]
  },
  {
   "cell_type": "code",
   "execution_count": 63,
   "id": "0810aa50-8126-4574-82f7-0833b672bde4",
   "metadata": {},
   "outputs": [
    {
     "data": {
      "text/plain": [
       "{'bath_name': ['data science masters', 'web dev', 'java with dsa'],\n",
       " 'start_date': (1, 23),\n",
       " 'mentor': {'krish', 'sudhanshu', 'sunny'},\n",
       " 'end_date': {'date1': 'nov19', 'date2': 'nov12'},\n",
       " 'timing': '8 to 10',\n",
       " 'name': 'priya'}"
      ]
     },
     "execution_count": 63,
     "metadata": {},
     "output_type": "execute_result"
    }
   ],
   "source": [
    "d16"
   ]
  },
  {
   "cell_type": "code",
   "execution_count": 64,
   "id": "6f1919a5-9f01-4b91-9910-337ed6761127",
   "metadata": {},
   "outputs": [
    {
     "data": {
      "text/plain": [
       "'PRIYA'"
      ]
     },
     "execution_count": 64,
     "metadata": {},
     "output_type": "execute_result"
    }
   ],
   "source": [
    "# changing lower case to upper case\n",
    "d16['name'].upper()"
   ]
  },
  {
   "cell_type": "code",
   "execution_count": 65,
   "id": "9de96df0-1a1a-4a99-b11e-79090206359f",
   "metadata": {},
   "outputs": [],
   "source": [
    "d15={'key':{'key1':123,'hi':34}}"
   ]
  },
  {
   "cell_type": "code",
   "execution_count": 66,
   "id": "816f35be-315b-4c36-b95b-3df6f07e9c79",
   "metadata": {},
   "outputs": [
    {
     "data": {
      "text/plain": [
       "{'key': {'key1': 123, 'hi': 34}}"
      ]
     },
     "execution_count": 66,
     "metadata": {},
     "output_type": "execute_result"
    }
   ],
   "source": [
    "d15"
   ]
  },
  {
   "cell_type": "code",
   "execution_count": 68,
   "id": "c575c5e3-ce6e-432b-a9a5-870360b12615",
   "metadata": {},
   "outputs": [
    {
     "data": {
      "text/plain": [
       "{'key1': 123, 'hi': 34}"
      ]
     },
     "execution_count": 68,
     "metadata": {},
     "output_type": "execute_result"
    }
   ],
   "source": [
    "d15['key']"
   ]
  },
  {
   "cell_type": "code",
   "execution_count": 69,
   "id": "273982c9-6ec7-438b-b13f-c78c3fd2a0cf",
   "metadata": {},
   "outputs": [
    {
     "data": {
      "text/plain": [
       "34"
      ]
     },
     "execution_count": 69,
     "metadata": {},
     "output_type": "execute_result"
    }
   ],
   "source": [
    "d15['key']['hi']"
   ]
  },
  {
   "cell_type": "code",
   "execution_count": 87,
   "id": "dc68ee1f-68b5-4545-92b1-b0a75aebf96f",
   "metadata": {},
   "outputs": [],
   "source": [
    "d17={'key':{'key1':{'num':123,'num2':234},'hi':34}}"
   ]
  },
  {
   "cell_type": "code",
   "execution_count": 88,
   "id": "46dcb25a-a49e-4cf1-b681-7df70b44e87e",
   "metadata": {},
   "outputs": [
    {
     "data": {
      "text/plain": [
       "{'key': {'key1': {'num': 123, 'num2': 234}, 'hi': 34}}"
      ]
     },
     "execution_count": 88,
     "metadata": {},
     "output_type": "execute_result"
    }
   ],
   "source": [
    "d17"
   ]
  },
  {
   "cell_type": "code",
   "execution_count": 89,
   "id": "79af9141-8746-40ce-97ad-662db54654c6",
   "metadata": {},
   "outputs": [
    {
     "data": {
      "text/plain": [
       "{'key1': {'num': 123, 'num2': 234}, 'hi': 34}"
      ]
     },
     "execution_count": 89,
     "metadata": {},
     "output_type": "execute_result"
    }
   ],
   "source": [
    "d17['key']"
   ]
  },
  {
   "cell_type": "code",
   "execution_count": 90,
   "id": "656495da-0646-4c47-bfa0-8b808d2db5d4",
   "metadata": {},
   "outputs": [
    {
     "data": {
      "text/plain": [
       "{'num': 123, 'num2': 234}"
      ]
     },
     "execution_count": 90,
     "metadata": {},
     "output_type": "execute_result"
    }
   ],
   "source": [
    "d17['key']['key1']"
   ]
  },
  {
   "cell_type": "code",
   "execution_count": 91,
   "id": "77a7d397-fda5-44a5-a727-fd1242f97e2f",
   "metadata": {},
   "outputs": [
    {
     "data": {
      "text/plain": [
       "123"
      ]
     },
     "execution_count": 91,
     "metadata": {},
     "output_type": "execute_result"
    }
   ],
   "source": [
    "d17['key']['key1']['num']"
   ]
  },
  {
   "cell_type": "code",
   "execution_count": 92,
   "id": "d5a8e49f-8e4c-41fd-89bc-9c6ab551eac3",
   "metadata": {},
   "outputs": [
    {
     "data": {
      "text/plain": [
       "234"
      ]
     },
     "execution_count": 92,
     "metadata": {},
     "output_type": "execute_result"
    }
   ],
   "source": [
    "d17['key']['key1']['num2']"
   ]
  },
  {
   "cell_type": "code",
   "execution_count": 97,
   "id": "44880494-5f18-47c0-9992-dd39fbefe688",
   "metadata": {},
   "outputs": [],
   "source": [
    "# deleting a key and its value\n",
    "del d17['key']"
   ]
  },
  {
   "cell_type": "code",
   "execution_count": 98,
   "id": "98a6892f-9357-4cad-b374-ba7d0314123c",
   "metadata": {},
   "outputs": [
    {
     "data": {
      "text/plain": [
       "{}"
      ]
     },
     "execution_count": 98,
     "metadata": {},
     "output_type": "execute_result"
    }
   ],
   "source": [
    "d17"
   ]
  },
  {
   "cell_type": "code",
   "execution_count": 99,
   "id": "12dbbd28-bbe9-4074-8505-6256126831e1",
   "metadata": {},
   "outputs": [],
   "source": [
    "d17={'key':{'key1':{'num':123,'num2':234},'hi':34},'key2':123}"
   ]
  },
  {
   "cell_type": "code",
   "execution_count": 100,
   "id": "c683999b-4ec4-4bd0-8e26-5099c6a579d6",
   "metadata": {},
   "outputs": [],
   "source": [
    "del d17['key2']"
   ]
  },
  {
   "cell_type": "code",
   "execution_count": 101,
   "id": "50a8911b-3511-4581-8863-a10313ff01d9",
   "metadata": {},
   "outputs": [
    {
     "data": {
      "text/plain": [
       "{'key': {'key1': {'num': 123, 'num2': 234}, 'hi': 34}}"
      ]
     },
     "execution_count": 101,
     "metadata": {},
     "output_type": "execute_result"
    }
   ],
   "source": [
    "d17"
   ]
  },
  {
   "cell_type": "code",
   "execution_count": 102,
   "id": "b46deaf9-388c-4918-8023-8c19fb6b46c7",
   "metadata": {},
   "outputs": [
    {
     "data": {
      "text/plain": [
       "{'bath_name': ['data science masters', 'web dev', 'java with dsa'],\n",
       " 'start_date': (1, 23),\n",
       " 'mentor': {'krish', 'sudhanshu', 'sunny'},\n",
       " 'end_date': {'date1': 'nov19', 'date2': 'nov12'},\n",
       " 'timing': '8 to 10',\n",
       " 'name': 'priya'}"
      ]
     },
     "execution_count": 102,
     "metadata": {},
     "output_type": "execute_result"
    }
   ],
   "source": [
    "d16"
   ]
  },
  {
   "cell_type": "code",
   "execution_count": 103,
   "id": "6e0a5b64-5663-47aa-b425-970307055735",
   "metadata": {},
   "outputs": [],
   "source": [
    "# clears every key and its values\n",
    "d16.clear()"
   ]
  },
  {
   "cell_type": "code",
   "execution_count": 104,
   "id": "9cecf26f-2f25-4495-9420-98ab08c45e8b",
   "metadata": {},
   "outputs": [
    {
     "data": {
      "text/plain": [
       "{}"
      ]
     },
     "execution_count": 104,
     "metadata": {},
     "output_type": "execute_result"
    }
   ],
   "source": [
    "d16"
   ]
  },
  {
   "cell_type": "code",
   "execution_count": 105,
   "id": "1b886c52-8778-461e-b391-70e01610ed94",
   "metadata": {},
   "outputs": [],
   "source": [
    "d20={\"bath_name\":[\"data science masters\",'web dev','java with dsa'],'start_date':(1,23),'mentor':{'krish','sudhanshu','sunny'},'end_date':{'date':'19nov','date2':'12nov'}}"
   ]
  },
  {
   "cell_type": "code",
   "execution_count": 107,
   "id": "36368fe9-c008-4414-945d-bd31e6b327ce",
   "metadata": {},
   "outputs": [
    {
     "data": {
      "text/plain": [
       "4"
      ]
     },
     "execution_count": 107,
     "metadata": {},
     "output_type": "execute_result"
    }
   ],
   "source": [
    "len(d20)"
   ]
  },
  {
   "cell_type": "code",
   "execution_count": 109,
   "id": "b1c12bc9-bc5d-4096-8052-bf10613c1935",
   "metadata": {},
   "outputs": [],
   "source": [
    "d20['timing']=('8 to 10')"
   ]
  },
  {
   "cell_type": "code",
   "execution_count": 110,
   "id": "c72946bb-3cc7-4b4b-8cf6-ab0c61936da9",
   "metadata": {},
   "outputs": [
    {
     "data": {
      "text/plain": [
       "{'bath_name': ['data science masters', 'web dev', 'java with dsa'],\n",
       " 'start_date': (1, 23),\n",
       " 'mentor': {'krish', 'sudhanshu', 'sunny'},\n",
       " 'end_date': {'date': '19nov', 'date2': '12nov'},\n",
       " 'timing': '8 to 10'}"
      ]
     },
     "execution_count": 110,
     "metadata": {},
     "output_type": "execute_result"
    }
   ],
   "source": [
    "d20"
   ]
  },
  {
   "cell_type": "code",
   "execution_count": 111,
   "id": "ef62fad9-8fa5-41d7-9766-192ea2352551",
   "metadata": {},
   "outputs": [
    {
     "data": {
      "text/plain": [
       "5"
      ]
     },
     "execution_count": 111,
     "metadata": {},
     "output_type": "execute_result"
    }
   ],
   "source": [
    "len(d20)"
   ]
  },
  {
   "cell_type": "code",
   "execution_count": 113,
   "id": "41507a45-b492-4908-bcc9-b74b4628a993",
   "metadata": {},
   "outputs": [
    {
     "data": {
      "text/plain": [
       "dict_keys(['bath_name', 'start_date', 'mentor', 'end_date', 'timing'])"
      ]
     },
     "execution_count": 113,
     "metadata": {},
     "output_type": "execute_result"
    }
   ],
   "source": [
    "d20.keys()"
   ]
  },
  {
   "cell_type": "code",
   "execution_count": 114,
   "id": "b0ace517-52ff-4df2-813e-156ce3df7aa8",
   "metadata": {},
   "outputs": [
    {
     "data": {
      "text/plain": [
       "dict_values([['data science masters', 'web dev', 'java with dsa'], (1, 23), {'krish', 'sunny', 'sudhanshu'}, {'date': '19nov', 'date2': '12nov'}, '8 to 10'])"
      ]
     },
     "execution_count": 114,
     "metadata": {},
     "output_type": "execute_result"
    }
   ],
   "source": [
    "d20.values()"
   ]
  },
  {
   "cell_type": "code",
   "execution_count": 115,
   "id": "b36182e6-ec0d-4365-a8ae-9980ba212796",
   "metadata": {},
   "outputs": [
    {
     "data": {
      "text/plain": [
       "[['data science masters', 'web dev', 'java with dsa'],\n",
       " (1, 23),\n",
       " {'krish', 'sudhanshu', 'sunny'},\n",
       " {'date': '19nov', 'date2': '12nov'},\n",
       " '8 to 10']"
      ]
     },
     "execution_count": 115,
     "metadata": {},
     "output_type": "execute_result"
    }
   ],
   "source": [
    "# converting complete output into lists\n",
    "list(d20.values())"
   ]
  },
  {
   "cell_type": "code",
   "execution_count": 116,
   "id": "e93ab1b8-e73f-48c3-a905-036378c4468e",
   "metadata": {},
   "outputs": [
    {
     "data": {
      "text/plain": [
       "['bath_name', 'start_date', 'mentor', 'end_date', 'timing']"
      ]
     },
     "execution_count": 116,
     "metadata": {},
     "output_type": "execute_result"
    }
   ],
   "source": [
    "list(d20.keys())"
   ]
  },
  {
   "cell_type": "code",
   "execution_count": 117,
   "id": "a66cb1cc-7526-4999-8f92-444452a9a001",
   "metadata": {},
   "outputs": [
    {
     "data": {
      "text/plain": [
       "dict_items([('bath_name', ['data science masters', 'web dev', 'java with dsa']), ('start_date', (1, 23)), ('mentor', {'krish', 'sunny', 'sudhanshu'}), ('end_date', {'date': '19nov', 'date2': '12nov'}), ('timing', '8 to 10')])"
      ]
     },
     "execution_count": 117,
     "metadata": {},
     "output_type": "execute_result"
    }
   ],
   "source": [
    "d20.items()"
   ]
  },
  {
   "cell_type": "code",
   "execution_count": 2,
   "id": "82fc31d7-ab81-4ecd-8d17-047f95efcbf3",
   "metadata": {},
   "outputs": [],
   "source": [
    "d20={\"bath_name\":[\"data science masters\",'web dev','java with dsa'],'start_date':(1,23),'mentor':{'krish','sudhanshu','sunny'},'end_date':{'date':'19nov','date2':'12nov'}}"
   ]
  },
  {
   "cell_type": "code",
   "execution_count": 3,
   "id": "ee5c5872-19d6-443a-b3d0-ecf4bcec178c",
   "metadata": {},
   "outputs": [
    {
     "data": {
      "text/plain": [
       "{'bath_name': ['data science masters', 'web dev', 'java with dsa'],\n",
       " 'start_date': (1, 23),\n",
       " 'mentor': {'krish', 'sudhanshu', 'sunny'},\n",
       " 'end_date': {'date': '19nov', 'date2': '12nov'}}"
      ]
     },
     "execution_count": 3,
     "metadata": {},
     "output_type": "execute_result"
    }
   ],
   "source": [
    "#creating a replica\n",
    "d20"
   ]
  },
  {
   "cell_type": "code",
   "execution_count": 4,
   "id": "412e43d1-307b-4cd6-8543-c787d291d1b9",
   "metadata": {},
   "outputs": [],
   "source": [
    "d21=d20.copy()"
   ]
  },
  {
   "cell_type": "code",
   "execution_count": 5,
   "id": "80084db6-510f-45be-9571-d37781cfc835",
   "metadata": {},
   "outputs": [
    {
     "data": {
      "text/plain": [
       "{'bath_name': ['data science masters', 'web dev', 'java with dsa'],\n",
       " 'start_date': (1, 23),\n",
       " 'mentor': {'krish', 'sudhanshu', 'sunny'},\n",
       " 'end_date': {'date': '19nov', 'date2': '12nov'}}"
      ]
     },
     "execution_count": 5,
     "metadata": {},
     "output_type": "execute_result"
    }
   ],
   "source": [
    "d21    "
   ]
  },
  {
   "cell_type": "code",
   "execution_count": 6,
   "id": "62cbb3f9-23db-4fdd-a7d0-c143e3dc301a",
   "metadata": {},
   "outputs": [],
   "source": [
    "# another method of replica\n",
    "d22=d20"
   ]
  },
  {
   "cell_type": "code",
   "execution_count": 7,
   "id": "012d9d55-af5e-461a-b3ea-7ee2ffd87baf",
   "metadata": {},
   "outputs": [
    {
     "data": {
      "text/plain": [
       "{'bath_name': ['data science masters', 'web dev', 'java with dsa'],\n",
       " 'start_date': (1, 23),\n",
       " 'mentor': {'krish', 'sudhanshu', 'sunny'},\n",
       " 'end_date': {'date': '19nov', 'date2': '12nov'}}"
      ]
     },
     "execution_count": 7,
     "metadata": {},
     "output_type": "execute_result"
    }
   ],
   "source": [
    "d22"
   ]
  },
  {
   "cell_type": "markdown",
   "id": "65b2f598-703d-4cd5-9409-e2b4c12e1237",
   "metadata": {},
   "source": [
    "##### the difference between the two methods of creating a replica is one can not be affected if there are any changes in original values but the other one does get affected"
   ]
  },
  {
   "cell_type": "code",
   "execution_count": 8,
   "id": "3fbc3b0e-b828-4015-8ec2-158617edb1ea",
   "metadata": {},
   "outputs": [
    {
     "data": {
      "text/plain": [
       "{'bath_name': ['data science masters', 'web dev', 'java with dsa'],\n",
       " 'start_date': (1, 23),\n",
       " 'mentor': {'krish', 'sudhanshu', 'sunny'},\n",
       " 'end_date': {'date': '19nov', 'date2': '12nov'}}"
      ]
     },
     "execution_count": 8,
     "metadata": {},
     "output_type": "execute_result"
    }
   ],
   "source": [
    "# method 1\n",
    "d20"
   ]
  },
  {
   "cell_type": "code",
   "execution_count": 9,
   "id": "ae106eeb-c09a-4a5b-8561-9b8014aae05e",
   "metadata": {},
   "outputs": [],
   "source": [
    "d21=d20.copy() # created a new memory to store d21 values"
   ]
  },
  {
   "cell_type": "code",
   "execution_count": 10,
   "id": "f32137e5-06da-459c-a5be-08e3a6066a7f",
   "metadata": {},
   "outputs": [
    {
     "data": {
      "text/plain": [
       "{'bath_name': ['data science masters', 'web dev', 'java with dsa'],\n",
       " 'start_date': (1, 23),\n",
       " 'mentor': {'krish', 'sudhanshu', 'sunny'},\n",
       " 'end_date': {'date': '19nov', 'date2': '12nov'}}"
      ]
     },
     "execution_count": 10,
     "metadata": {},
     "output_type": "execute_result"
    }
   ],
   "source": [
    "d21"
   ]
  },
  {
   "cell_type": "code",
   "execution_count": 11,
   "id": "c8c8db30-a157-444a-8266-2e5bdd2ba7dc",
   "metadata": {},
   "outputs": [],
   "source": [
    "del d20['start_date']"
   ]
  },
  {
   "cell_type": "code",
   "execution_count": 12,
   "id": "7d69f6c1-5eaa-419b-b4d4-fc189f1f5ee6",
   "metadata": {},
   "outputs": [
    {
     "data": {
      "text/plain": [
       "{'bath_name': ['data science masters', 'web dev', 'java with dsa'],\n",
       " 'mentor': {'krish', 'sudhanshu', 'sunny'},\n",
       " 'end_date': {'date': '19nov', 'date2': '12nov'}}"
      ]
     },
     "execution_count": 12,
     "metadata": {},
     "output_type": "execute_result"
    }
   ],
   "source": [
    "d20"
   ]
  },
  {
   "cell_type": "code",
   "execution_count": 13,
   "id": "c1ff6274-e101-42da-907e-0780b7609fc8",
   "metadata": {},
   "outputs": [
    {
     "data": {
      "text/plain": [
       "{'bath_name': ['data science masters', 'web dev', 'java with dsa'],\n",
       " 'start_date': (1, 23),\n",
       " 'mentor': {'krish', 'sudhanshu', 'sunny'},\n",
       " 'end_date': {'date': '19nov', 'date2': '12nov'}}"
      ]
     },
     "execution_count": 13,
     "metadata": {},
     "output_type": "execute_result"
    }
   ],
   "source": [
    "d21"
   ]
  },
  {
   "cell_type": "code",
   "execution_count": 15,
   "id": "a2a0dd93-cca9-4939-aff9-78d4f651f7b5",
   "metadata": {},
   "outputs": [],
   "source": [
    "# method 2\n",
    "d20={\"bath_name\":[\"data science masters\",'web dev','java with dsa'],'start_date':(1,23),'mentor':{'krish','sudhanshu','sunny'},'end_date':{'date':'19nov','date2':'12nov'}}"
   ]
  },
  {
   "cell_type": "code",
   "execution_count": 16,
   "id": "992fa83a-664e-443e-8616-2eb3311672d9",
   "metadata": {},
   "outputs": [
    {
     "data": {
      "text/plain": [
       "{'bath_name': ['data science masters', 'web dev', 'java with dsa'],\n",
       " 'start_date': (1, 23),\n",
       " 'mentor': {'krish', 'sudhanshu', 'sunny'},\n",
       " 'end_date': {'date': '19nov', 'date2': '12nov'}}"
      ]
     },
     "execution_count": 16,
     "metadata": {},
     "output_type": "execute_result"
    }
   ],
   "source": [
    "d20"
   ]
  },
  {
   "cell_type": "code",
   "execution_count": 17,
   "id": "c464dd54-470a-49de-b2b9-f7aadeee135c",
   "metadata": {},
   "outputs": [],
   "source": [
    "d22=d20    # pointing to the same memory"
   ]
  },
  {
   "cell_type": "code",
   "execution_count": 18,
   "id": "259feaf8-b4f3-436a-a989-c6ef9b6c1df2",
   "metadata": {},
   "outputs": [
    {
     "data": {
      "text/plain": [
       "{'bath_name': ['data science masters', 'web dev', 'java with dsa'],\n",
       " 'start_date': (1, 23),\n",
       " 'mentor': {'krish', 'sudhanshu', 'sunny'},\n",
       " 'end_date': {'date': '19nov', 'date2': '12nov'}}"
      ]
     },
     "execution_count": 18,
     "metadata": {},
     "output_type": "execute_result"
    }
   ],
   "source": [
    "d22"
   ]
  },
  {
   "cell_type": "code",
   "execution_count": 19,
   "id": "b0932803-44c3-40c5-9d2f-1d38c703c8aa",
   "metadata": {},
   "outputs": [],
   "source": [
    "del d20['start_date']"
   ]
  },
  {
   "cell_type": "code",
   "execution_count": 20,
   "id": "f4a22539-7512-4575-b0ce-cc8f01853db1",
   "metadata": {},
   "outputs": [
    {
     "data": {
      "text/plain": [
       "{'bath_name': ['data science masters', 'web dev', 'java with dsa'],\n",
       " 'mentor': {'krish', 'sudhanshu', 'sunny'},\n",
       " 'end_date': {'date': '19nov', 'date2': '12nov'}}"
      ]
     },
     "execution_count": 20,
     "metadata": {},
     "output_type": "execute_result"
    }
   ],
   "source": [
    "d20"
   ]
  },
  {
   "cell_type": "code",
   "execution_count": 21,
   "id": "86fa50c9-5f83-416d-b6f2-f40d309dcf7d",
   "metadata": {},
   "outputs": [
    {
     "data": {
      "text/plain": [
       "{'bath_name': ['data science masters', 'web dev', 'java with dsa'],\n",
       " 'mentor': {'krish', 'sudhanshu', 'sunny'},\n",
       " 'end_date': {'date': '19nov', 'date2': '12nov'}}"
      ]
     },
     "execution_count": 21,
     "metadata": {},
     "output_type": "execute_result"
    }
   ],
   "source": [
    "d22"
   ]
  },
  {
   "cell_type": "code",
   "execution_count": 22,
   "id": "8b55b047-fe1d-4697-85b6-15cd97aeb781",
   "metadata": {},
   "outputs": [
    {
     "data": {
      "text/plain": [
       "{'bath_name': ['data science masters', 'web dev', 'java with dsa'],\n",
       " 'start_date': (1, 23),\n",
       " 'mentor': {'krish', 'sudhanshu', 'sunny'},\n",
       " 'end_date': {'date': '19nov', 'date2': '12nov'}}"
      ]
     },
     "execution_count": 22,
     "metadata": {},
     "output_type": "execute_result"
    }
   ],
   "source": [
    "d21"
   ]
  },
  {
   "cell_type": "code",
   "execution_count": 23,
   "id": "28aa2f77-cb91-4d58-8bcb-e958572b3a81",
   "metadata": {},
   "outputs": [
    {
     "ename": "TypeError",
     "evalue": "pop expected at least 1 argument, got 0",
     "output_type": "error",
     "traceback": [
      "\u001b[0;31m---------------------------------------------------------------------------\u001b[0m",
      "\u001b[0;31mTypeError\u001b[0m                                 Traceback (most recent call last)",
      "Cell \u001b[0;32mIn[23], line 2\u001b[0m\n\u001b[1;32m      1\u001b[0m \u001b[38;5;66;03m# inbuit functions\u001b[39;00m\n\u001b[0;32m----> 2\u001b[0m \u001b[43md21\u001b[49m\u001b[38;5;241;43m.\u001b[39;49m\u001b[43mpop\u001b[49m\u001b[43m(\u001b[49m\u001b[43m)\u001b[49m    \u001b[38;5;66;03m# arguments should be given other wise it produces an error\u001b[39;00m\n",
      "\u001b[0;31mTypeError\u001b[0m: pop expected at least 1 argument, got 0"
     ]
    }
   ],
   "source": [
    "# inbuit functions\n",
    "d21.pop()    # arguments should be given other wise it produces an error"
   ]
  },
  {
   "cell_type": "code",
   "execution_count": 25,
   "id": "b128303d-0e4f-450f-a07d-cdbe99aec312",
   "metadata": {},
   "outputs": [
    {
     "data": {
      "text/plain": [
       "{'krish', 'sudhanshu', 'sunny'}"
      ]
     },
     "execution_count": 25,
     "metadata": {},
     "output_type": "execute_result"
    }
   ],
   "source": [
    "d21.pop('mentor')"
   ]
  },
  {
   "cell_type": "code",
   "execution_count": 26,
   "id": "f3a44470-0bc0-4835-98c6-0a369bd7a47c",
   "metadata": {},
   "outputs": [
    {
     "data": {
      "text/plain": [
       "{'bath_name': ['data science masters', 'web dev', 'java with dsa'],\n",
       " 'start_date': (1, 23),\n",
       " 'end_date': {'date': '19nov', 'date2': '12nov'}}"
      ]
     },
     "execution_count": 26,
     "metadata": {},
     "output_type": "execute_result"
    }
   ],
   "source": [
    "d21"
   ]
  },
  {
   "cell_type": "code",
   "execution_count": 29,
   "id": "b7f3cc54-02a9-412b-bf81-1065bb7c3fc2",
   "metadata": {},
   "outputs": [],
   "source": [
    "d={}"
   ]
  },
  {
   "cell_type": "code",
   "execution_count": 30,
   "id": "b763a64c-a934-425f-93fc-ac302ee59825",
   "metadata": {},
   "outputs": [
    {
     "data": {
      "text/plain": [
       "{1: ('a', 'b', 'c'), 2: ('a', 'b', 'c'), 3: ('a', 'b', 'c')}"
      ]
     },
     "execution_count": 30,
     "metadata": {},
     "output_type": "execute_result"
    }
   ],
   "source": [
    "d.fromkeys((1,2,3),('a','b','c'))"
   ]
  },
  {
   "cell_type": "code",
   "execution_count": 38,
   "id": "f7a3c576-cbc1-4bee-8fbc-4a96ff768646",
   "metadata": {},
   "outputs": [],
   "source": [
    "d25 = {\"key1\" : \"value\" , \"key2\" : \"value2\"}\n",
    "d26 = {\"key3\" : \"value3\" , \"key4\" :\"value4\"}"
   ]
  },
  {
   "cell_type": "code",
   "execution_count": 39,
   "id": "6e4abf5e-5a96-47f7-876b-93a56162e8d0",
   "metadata": {},
   "outputs": [
    {
     "data": {
      "text/plain": [
       "({'key1': 'value', 'key2': 'value2'}, {'key3': 'value3', 'key4': 'value4'})"
      ]
     },
     "execution_count": 39,
     "metadata": {},
     "output_type": "execute_result"
    }
   ],
   "source": [
    "(d25,d26)"
   ]
  },
  {
   "cell_type": "code",
   "execution_count": 40,
   "id": "97ced3c9-61df-46f8-aa7b-d6eacba016f4",
   "metadata": {},
   "outputs": [
    {
     "data": {
      "text/plain": [
       "{'key1': 'value', 'key2': 'value2'}"
      ]
     },
     "execution_count": 40,
     "metadata": {},
     "output_type": "execute_result"
    }
   ],
   "source": [
    "d25"
   ]
  },
  {
   "cell_type": "code",
   "execution_count": 41,
   "id": "a1bbbaa0-9b00-4b43-8604-f05c68f25867",
   "metadata": {},
   "outputs": [
    {
     "data": {
      "text/plain": [
       "{'key3': 'value3', 'key4': 'value4'}"
      ]
     },
     "execution_count": 41,
     "metadata": {},
     "output_type": "execute_result"
    }
   ],
   "source": [
    "d26"
   ]
  },
  {
   "cell_type": "code",
   "execution_count": 42,
   "id": "f9bd09c5-a75a-44c4-bd50-9c80b17b4d18",
   "metadata": {},
   "outputs": [],
   "source": [
    "d25.update(d26)"
   ]
  },
  {
   "cell_type": "code",
   "execution_count": 43,
   "id": "4aec844d-beed-4973-ac97-e9d2fa32fe94",
   "metadata": {},
   "outputs": [
    {
     "data": {
      "text/plain": [
       "{'key1': 'value', 'key2': 'value2', 'key3': 'value3', 'key4': 'value4'}"
      ]
     },
     "execution_count": 43,
     "metadata": {},
     "output_type": "execute_result"
    }
   ],
   "source": [
    "d25"
   ]
  },
  {
   "cell_type": "code",
   "execution_count": 44,
   "id": "b2f196f6-3870-415b-bd79-9987e8e25857",
   "metadata": {},
   "outputs": [
    {
     "data": {
      "text/plain": [
       "{'key3': 'value3', 'key4': 'value4'}"
      ]
     },
     "execution_count": 44,
     "metadata": {},
     "output_type": "execute_result"
    }
   ],
   "source": [
    "d26"
   ]
  },
  {
   "cell_type": "code",
   "execution_count": 45,
   "id": "6ab849d3-a473-4ea6-85b5-88e31ac56bdf",
   "metadata": {},
   "outputs": [
    {
     "data": {
      "text/plain": [
       "'value3'"
      ]
     },
     "execution_count": 45,
     "metadata": {},
     "output_type": "execute_result"
    }
   ],
   "source": [
    "d25.get('key3')"
   ]
  },
  {
   "cell_type": "code",
   "execution_count": 48,
   "id": "3f3df843-d1cd-4f0c-8716-544c88120f81",
   "metadata": {},
   "outputs": [
    {
     "data": {
      "text/plain": [
       "'value3'"
      ]
     },
     "execution_count": 48,
     "metadata": {},
     "output_type": "execute_result"
    }
   ],
   "source": [
    "d25['key3']"
   ]
  },
  {
   "cell_type": "code",
   "execution_count": 46,
   "id": "31dd779c-57a7-4a5a-90f4-2e63b26a41d3",
   "metadata": {},
   "outputs": [],
   "source": [
    "d25.get('pk') # no output is generated because no such data exista in d25"
   ]
  },
  {
   "cell_type": "code",
   "execution_count": 49,
   "id": "ef3b8962-c4b6-4fa4-94c6-fd6738c7b9a3",
   "metadata": {},
   "outputs": [
    {
     "ename": "KeyError",
     "evalue": "'pk'",
     "output_type": "error",
     "traceback": [
      "\u001b[0;31m---------------------------------------------------------------------------\u001b[0m",
      "\u001b[0;31mKeyError\u001b[0m                                  Traceback (most recent call last)",
      "Cell \u001b[0;32mIn[49], line 1\u001b[0m\n\u001b[0;32m----> 1\u001b[0m \u001b[43md25\u001b[49m\u001b[43m[\u001b[49m\u001b[38;5;124;43m'\u001b[39;49m\u001b[38;5;124;43mpk\u001b[39;49m\u001b[38;5;124;43m'\u001b[39;49m\u001b[43m]\u001b[49m\n",
      "\u001b[0;31mKeyError\u001b[0m: 'pk'"
     ]
    }
   ],
   "source": [
    "d25['pk']    # errors are produced unlike get function"
   ]
  },
  {
   "cell_type": "markdown",
   "id": "4020b053-ef3d-4eac-8645-ccf7bbab3ebb",
   "metadata": {},
   "source": [
    "## dictionary comprehension"
   ]
  },
  {
   "cell_type": "code",
   "execution_count": 50,
   "id": "a0212d01-ffca-473b-a5aa-feec5810dd6d",
   "metadata": {},
   "outputs": [
    {
     "data": {
      "text/plain": [
       "{1: 1, 2: 4, 3: 9, 4: 16, 5: 25, 6: 36, 7: 49, 8: 64, 9: 81, 10: 100}"
      ]
     },
     "execution_count": 50,
     "metadata": {},
     "output_type": "execute_result"
    }
   ],
   "source": [
    "# producing key and its square as value\n",
    "{i : i**2 for i in range(1,11)}"
   ]
  },
  {
   "cell_type": "code",
   "execution_count": 51,
   "id": "f64b2b62-4a75-471d-94f4-586260a011bb",
   "metadata": {},
   "outputs": [
    {
     "data": {
      "text/plain": [
       "{1: 2, 2: 4, 3: 6, 4: 8, 5: 10, 6: 12, 7: 14, 8: 16, 9: 18, 10: 20}"
      ]
     },
     "execution_count": 51,
     "metadata": {},
     "output_type": "execute_result"
    }
   ],
   "source": [
    "\n",
    "{i : i*2 for i in range(1,11)}"
   ]
  },
  {
   "cell_type": "code",
   "execution_count": 52,
   "id": "c4c207c1-43e6-4732-a725-db1869ea92f2",
   "metadata": {},
   "outputs": [
    {
     "data": {
      "text/plain": [
       "{1: 3, 2: 4, 3: 5, 4: 6, 5: 7, 6: 8, 7: 9, 8: 10, 9: 11, 10: 12}"
      ]
     },
     "execution_count": 52,
     "metadata": {},
     "output_type": "execute_result"
    }
   ],
   "source": [
    "{i : i+2 for i in range(1,11)}"
   ]
  },
  {
   "cell_type": "code",
   "execution_count": 53,
   "id": "db2857ce-dafe-447c-916b-5aca007481c1",
   "metadata": {},
   "outputs": [
    {
     "data": {
      "text/plain": [
       "{1: 11, 2: 12, 3: 13, 4: 14, 5: 15, 6: 16, 7: 17, 8: 18, 9: 19, 10: 20}"
      ]
     },
     "execution_count": 53,
     "metadata": {},
     "output_type": "execute_result"
    }
   ],
   "source": [
    "{i : i+10 for i in range(1,11)}"
   ]
  },
  {
   "cell_type": "code",
   "execution_count": 58,
   "id": "c80aa721-3d7d-458b-8097-7601cfc98002",
   "metadata": {},
   "outputs": [
    {
     "data": {
      "text/plain": [
       "{1: 0.0,\n",
       " 2: 0.6931471805599453,\n",
       " 3: 1.0986122886681098,\n",
       " 4: 1.3862943611198906,\n",
       " 5: 1.6094379124341003,\n",
       " 6: 1.791759469228055,\n",
       " 7: 1.9459101490553132,\n",
       " 8: 2.0794415416798357,\n",
       " 9: 2.1972245773362196,\n",
       " 10: 2.302585092994046}"
      ]
     },
     "execution_count": 58,
     "metadata": {},
     "output_type": "execute_result"
    }
   ],
   "source": [
    "import math\n",
    "{i :math.log(i) for i in range(1,11)}"
   ]
  },
  {
   "cell_type": "code",
   "execution_count": 60,
   "id": "c9796bc3-01e5-45eb-8014-856c18c1c0ff",
   "metadata": {},
   "outputs": [
    {
     "data": {
      "text/plain": [
       "{'key3': 'value3', 'key4': 'value4'}"
      ]
     },
     "execution_count": 60,
     "metadata": {},
     "output_type": "execute_result"
    }
   ],
   "source": [
    "d20"
   ]
  },
  {
   "cell_type": "code",
   "execution_count": 63,
   "id": "af95d91e-578c-4963-bdf0-5b0792f8235a",
   "metadata": {},
   "outputs": [],
   "source": [
    "d20={\"bath_name\":[\"data science masters\",'web dev','java with dsa'],'start_date':(1,23),'mentor':{'krish','sudhanshu','sunny'},'end_date':{'date':'19nov','date2':'12nov'}}"
   ]
  },
  {
   "cell_type": "code",
   "execution_count": 64,
   "id": "3f7ef94e-61e4-4eeb-b08c-741d5b2c482b",
   "metadata": {},
   "outputs": [
    {
     "data": {
      "text/plain": [
       "{'bath_name': ['data science masters', 'web dev', 'java with dsa'],\n",
       " 'start_date': (1, 23),\n",
       " 'mentor': {'krish', 'sudhanshu', 'sunny'},\n",
       " 'end_date': {'date': '19nov', 'date2': '12nov'}}"
      ]
     },
     "execution_count": 64,
     "metadata": {},
     "output_type": "execute_result"
    }
   ],
   "source": [
    "d20"
   ]
  },
  {
   "cell_type": "code",
   "execution_count": 62,
   "id": "60a5f240-2da7-480d-8246-d73854c2db96",
   "metadata": {},
   "outputs": [
    {
     "data": {
      "text/plain": [
       "False"
      ]
     },
     "execution_count": 62,
     "metadata": {},
     "output_type": "execute_result"
    }
   ],
   "source": [
    "'batch_name' in d20"
   ]
  },
  {
   "cell_type": "code",
   "execution_count": 65,
   "id": "cce94c5d-48ac-4f73-8a4f-a677b717866d",
   "metadata": {},
   "outputs": [
    {
     "data": {
      "text/plain": [
       "True"
      ]
     },
     "execution_count": 65,
     "metadata": {},
     "output_type": "execute_result"
    }
   ],
   "source": [
    "'mentor' in d20"
   ]
  },
  {
   "cell_type": "code",
   "execution_count": 66,
   "id": "3481f4ae-731e-46ef-b55d-585fe714727f",
   "metadata": {},
   "outputs": [],
   "source": [
    "d21={1: 0.0,\n",
    " 2: 0.6931471805599453,\n",
    " 3: 1.0986122886681098,\n",
    " 4: 1.3862943611198906,\n",
    " 5: 1.6094379124341003,\n",
    " 6: 1.791759469228055,\n",
    " 7: 1.9459101490553132,\n",
    " 8: 2.0794415416798357,\n",
    " 9: 2.1972245773362196,\n",
    " 10: 2.302585092994046}"
   ]
  },
  {
   "cell_type": "code",
   "execution_count": 67,
   "id": "523eb066-0b2a-4a3f-a695-a896398249c2",
   "metadata": {},
   "outputs": [
    {
     "data": {
      "text/plain": [
       "{1: 0.0,\n",
       " 2: 0.6931471805599453,\n",
       " 3: 1.0986122886681098,\n",
       " 4: 1.3862943611198906,\n",
       " 5: 1.6094379124341003,\n",
       " 6: 1.791759469228055,\n",
       " 7: 1.9459101490553132,\n",
       " 8: 2.0794415416798357,\n",
       " 9: 2.1972245773362196,\n",
       " 10: 2.302585092994046}"
      ]
     },
     "execution_count": 67,
     "metadata": {},
     "output_type": "execute_result"
    }
   ],
   "source": [
    "d21"
   ]
  },
  {
   "cell_type": "code",
   "execution_count": 70,
   "id": "5f5f0a3a-6ad7-495b-b8c9-4471362968e3",
   "metadata": {},
   "outputs": [
    {
     "data": {
      "text/plain": [
       "dict_keys([1, 2, 3, 4, 5, 6, 7, 8, 9, 10])"
      ]
     },
     "execution_count": 70,
     "metadata": {},
     "output_type": "execute_result"
    }
   ],
   "source": [
    "d21.keys()"
   ]
  },
  {
   "cell_type": "code",
   "execution_count": 68,
   "id": "3b84b775-a10f-4865-9938-e6069527025e",
   "metadata": {},
   "outputs": [
    {
     "name": "stdout",
     "output_type": "stream",
     "text": [
      "0.6931471805599453\n",
      "1.3862943611198906\n",
      "1.791759469228055\n",
      "2.0794415416798357\n",
      "2.302585092994046\n"
     ]
    }
   ],
   "source": [
    "# printing values with even numbers\n",
    "for i in d21:\n",
    "    if i%2==0:\n",
    "        print(d21[i])"
   ]
  },
  {
   "cell_type": "code",
   "execution_count": 73,
   "id": "0d271b05-edba-4490-89cf-c06dec8ba727",
   "metadata": {},
   "outputs": [
    {
     "name": "stdout",
     "output_type": "stream",
     "text": [
      "(100, 100)\n"
     ]
    }
   ],
   "source": [
    "atuple = (100,)\n",
    "\n",
    "print(atuple * 2)"
   ]
  },
  {
   "cell_type": "code",
   "execution_count": 74,
   "id": "fc4ba964-5935-4d1a-a40e-3242d091f482",
   "metadata": {},
   "outputs": [
    {
     "name": "stdout",
     "output_type": "stream",
     "text": [
      "None\n"
     ]
    }
   ],
   "source": []
  },
  {
   "cell_type": "code",
   "execution_count": null,
   "id": "c9409496-64cb-4b58-94e9-d29255463742",
   "metadata": {},
   "outputs": [],
   "source": []
  }
 ],
 "metadata": {
  "kernelspec": {
   "display_name": "Python 3 (ipykernel)",
   "language": "python",
   "name": "python3"
  },
  "language_info": {
   "codemirror_mode": {
    "name": "ipython",
    "version": 3
   },
   "file_extension": ".py",
   "mimetype": "text/x-python",
   "name": "python",
   "nbconvert_exporter": "python",
   "pygments_lexer": "ipython3",
   "version": "3.10.8"
  }
 },
 "nbformat": 4,
 "nbformat_minor": 5
}
