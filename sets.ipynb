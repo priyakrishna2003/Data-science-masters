{
 "cells": [
  {
   "cell_type": "markdown",
   "id": "321097c2-de0b-4af6-a624-ee3a41c37105",
   "metadata": {},
   "source": [
    "# sets"
   ]
  },
  {
   "cell_type": "code",
   "execution_count": 1,
   "id": "47b1f7c9-2f89-4fc5-9aaa-a28942274aaa",
   "metadata": {},
   "outputs": [],
   "source": [
    "s={}"
   ]
  },
  {
   "cell_type": "code",
   "execution_count": 2,
   "id": "8bdf72b6-6bb8-4a5e-b452-d18fd6eca187",
   "metadata": {},
   "outputs": [
    {
     "data": {
      "text/plain": [
       "dict"
      ]
     },
     "execution_count": 2,
     "metadata": {},
     "output_type": "execute_result"
    }
   ],
   "source": [
    "type(s)"
   ]
  },
  {
   "cell_type": "code",
   "execution_count": 3,
   "id": "0d586788-13f9-465c-8203-ec7cfd797747",
   "metadata": {},
   "outputs": [],
   "source": [
    "s1={1,2,3,4,5}"
   ]
  },
  {
   "cell_type": "code",
   "execution_count": 4,
   "id": "c3b51a8e-94e1-4878-9afe-3aa0bce75bf6",
   "metadata": {},
   "outputs": [
    {
     "data": {
      "text/plain": [
       "set"
      ]
     },
     "execution_count": 4,
     "metadata": {},
     "output_type": "execute_result"
    }
   ],
   "source": [
    "type(s1)"
   ]
  },
  {
   "cell_type": "code",
   "execution_count": 5,
   "id": "60b92670-d144-4555-a838-c0ef3dbfb262",
   "metadata": {},
   "outputs": [],
   "source": [
    "s2={1,1,12,3,4,5,5,5,6,6,4,3,3,6,67,6,7,4}"
   ]
  },
  {
   "cell_type": "code",
   "execution_count": 6,
   "id": "4080dc6a-7208-4b4c-bd5b-d9d69d7d4301",
   "metadata": {},
   "outputs": [
    {
     "data": {
      "text/plain": [
       "{1, 3, 4, 5, 6, 7, 12, 67}"
      ]
     },
     "execution_count": 6,
     "metadata": {},
     "output_type": "execute_result"
    }
   ],
   "source": [
    "s2            # removes all the duplicates"
   ]
  },
  {
   "cell_type": "code",
   "execution_count": 7,
   "id": "4645ba25-105d-4954-96a8-cd30dc866b1a",
   "metadata": {},
   "outputs": [
    {
     "data": {
      "text/plain": [
       "[1, 3, 4, 5, 6, 67, 7, 12]"
      ]
     },
     "execution_count": 7,
     "metadata": {},
     "output_type": "execute_result"
    }
   ],
   "source": [
    "list(s2)"
   ]
  },
  {
   "cell_type": "code",
   "execution_count": 8,
   "id": "da6cf484-95b8-4101-b787-6d6861befe3d",
   "metadata": {},
   "outputs": [
    {
     "data": {
      "text/plain": [
       "{1, 3, 4, 5, 6, 7, 12, 67}"
      ]
     },
     "execution_count": 8,
     "metadata": {},
     "output_type": "execute_result"
    }
   ],
   "source": [
    "s2"
   ]
  },
  {
   "cell_type": "code",
   "execution_count": 9,
   "id": "d511f71e-8b43-4853-b748-93d44deedd74",
   "metadata": {},
   "outputs": [
    {
     "data": {
      "text/plain": [
       "(1, 3, 4, 5, 6, 67, 7, 12)"
      ]
     },
     "execution_count": 9,
     "metadata": {},
     "output_type": "execute_result"
    }
   ],
   "source": [
    "tuple(s2)"
   ]
  },
  {
   "cell_type": "code",
   "execution_count": 10,
   "id": "f01a150f-2626-4ce1-8a04-51d3c08bce1f",
   "metadata": {},
   "outputs": [],
   "source": [
    "l=list(s2)"
   ]
  },
  {
   "cell_type": "code",
   "execution_count": 11,
   "id": "288fde22-5131-4bf6-a8b2-3d2b38dda13b",
   "metadata": {},
   "outputs": [
    {
     "data": {
      "text/plain": [
       "[1, 3, 4, 5, 6, 67, 7, 12]"
      ]
     },
     "execution_count": 11,
     "metadata": {},
     "output_type": "execute_result"
    }
   ],
   "source": [
    "l"
   ]
  },
  {
   "cell_type": "code",
   "execution_count": 12,
   "id": "0a355fa5-70b0-4a04-ad24-83fc5e8b0bf0",
   "metadata": {},
   "outputs": [
    {
     "data": {
      "text/plain": [
       "{1, 3, 4, 5, 6, 7, 12, 67}"
      ]
     },
     "execution_count": 12,
     "metadata": {},
     "output_type": "execute_result"
    }
   ],
   "source": [
    "set(l)"
   ]
  },
  {
   "cell_type": "code",
   "execution_count": 13,
   "id": "76ff0a43-fd64-44a5-9ee9-53e5e5e996f6",
   "metadata": {},
   "outputs": [],
   "source": [
    "s3=set(l)"
   ]
  },
  {
   "cell_type": "code",
   "execution_count": 14,
   "id": "05e46c67-6dfc-4c11-99a1-5a879eea8af2",
   "metadata": {},
   "outputs": [
    {
     "data": {
      "text/plain": [
       "{1, 3, 4, 5, 6, 7, 12, 67}"
      ]
     },
     "execution_count": 14,
     "metadata": {},
     "output_type": "execute_result"
    }
   ],
   "source": [
    "s3"
   ]
  },
  {
   "cell_type": "code",
   "execution_count": 15,
   "id": "3c5966e6-87d9-420a-b14b-bee9acd6aa84",
   "metadata": {},
   "outputs": [
    {
     "ename": "TypeError",
     "evalue": "unhashable type: 'list'",
     "output_type": "error",
     "traceback": [
      "\u001b[0;31m---------------------------------------------------------------------------\u001b[0m",
      "\u001b[0;31mTypeError\u001b[0m                                 Traceback (most recent call last)",
      "Cell \u001b[0;32mIn[15], line 1\u001b[0m\n\u001b[0;32m----> 1\u001b[0m s4\u001b[38;5;241m=\u001b[39m{\u001b[38;5;241m1\u001b[39m,\u001b[38;5;241m2\u001b[39m,\u001b[38;5;241m3\u001b[39m,\u001b[38;5;241m4\u001b[39m,[\u001b[38;5;241m1\u001b[39m,\u001b[38;5;241m2\u001b[39m]}\n",
      "\u001b[0;31mTypeError\u001b[0m: unhashable type: 'list'"
     ]
    }
   ],
   "source": [
    "s4={1,2,3,4,[1,2]}   # we cant store a list inside a set because list are mutable"
   ]
  },
  {
   "cell_type": "code",
   "execution_count": 16,
   "id": "a60eb65c-a885-49e5-813d-e204fb676684",
   "metadata": {},
   "outputs": [],
   "source": [
    "s5={1,2,3,4,(1,2,3)}  # we can store tuples and sets together because tuples are immutable"
   ]
  },
  {
   "cell_type": "code",
   "execution_count": 17,
   "id": "78275e5f-eb60-4e56-8f14-59f831b9e827",
   "metadata": {},
   "outputs": [
    {
     "data": {
      "text/plain": [
       "{(1, 2, 3), 1, 2, 3, 4}"
      ]
     },
     "execution_count": 17,
     "metadata": {},
     "output_type": "execute_result"
    }
   ],
   "source": [
    "s5"
   ]
  },
  {
   "cell_type": "code",
   "execution_count": 19,
   "id": "aacc2aeb-d764-456e-9db9-08b21bc234e8",
   "metadata": {},
   "outputs": [],
   "source": [
    "s6={'priya','Priya',2,3,4,5}"
   ]
  },
  {
   "cell_type": "code",
   "execution_count": 20,
   "id": "5e214db8-4688-432c-bcbc-980b888b2889",
   "metadata": {},
   "outputs": [
    {
     "data": {
      "text/plain": [
       "{2, 3, 4, 5, 'Priya', 'priya'}"
      ]
     },
     "execution_count": 20,
     "metadata": {},
     "output_type": "execute_result"
    }
   ],
   "source": [
    "s6    # python is case sensitive "
   ]
  },
  {
   "cell_type": "code",
   "execution_count": 21,
   "id": "45473baf-e81d-484e-9da1-01759312c6a8",
   "metadata": {},
   "outputs": [],
   "source": [
    "s7={'priya','priya',2,3,4,5}"
   ]
  },
  {
   "cell_type": "code",
   "execution_count": 22,
   "id": "88745d97-0a9a-4a84-afac-6f79cc955729",
   "metadata": {},
   "outputs": [
    {
     "data": {
      "text/plain": [
       "{2, 3, 4, 5, 'priya'}"
      ]
     },
     "execution_count": 22,
     "metadata": {},
     "output_type": "execute_result"
    }
   ],
   "source": [
    "s7"
   ]
  },
  {
   "cell_type": "code",
   "execution_count": 23,
   "id": "d2edcc33-27df-4951-a119-00d4470d1f41",
   "metadata": {},
   "outputs": [
    {
     "ename": "TypeError",
     "evalue": "'set' object is not subscriptable",
     "output_type": "error",
     "traceback": [
      "\u001b[0;31m---------------------------------------------------------------------------\u001b[0m",
      "\u001b[0;31mTypeError\u001b[0m                                 Traceback (most recent call last)",
      "Cell \u001b[0;32mIn[23], line 2\u001b[0m\n\u001b[1;32m      1\u001b[0m \u001b[38;5;66;03m# index concept doesnt work in sets\u001b[39;00m\n\u001b[0;32m----> 2\u001b[0m \u001b[43ms7\u001b[49m\u001b[43m[\u001b[49m\u001b[38;5;241;43m0\u001b[39;49m\u001b[43m]\u001b[49m\n",
      "\u001b[0;31mTypeError\u001b[0m: 'set' object is not subscriptable"
     ]
    }
   ],
   "source": [
    "# index concept doesnt work in sets\n",
    "s7[0]"
   ]
  },
  {
   "cell_type": "code",
   "execution_count": 24,
   "id": "fbc397be-aca5-41eb-ad8d-58f6d951c86c",
   "metadata": {},
   "outputs": [
    {
     "ename": "TypeError",
     "evalue": "'set' object is not subscriptable",
     "output_type": "error",
     "traceback": [
      "\u001b[0;31m---------------------------------------------------------------------------\u001b[0m",
      "\u001b[0;31mTypeError\u001b[0m                                 Traceback (most recent call last)",
      "Cell \u001b[0;32mIn[24], line 2\u001b[0m\n\u001b[1;32m      1\u001b[0m \u001b[38;5;66;03m# slicing concepts cannot be used\u001b[39;00m\n\u001b[0;32m----> 2\u001b[0m \u001b[43ms7\u001b[49m\u001b[43m[\u001b[49m\u001b[43m:\u001b[49m\u001b[43m:\u001b[49m\u001b[38;5;241;43m-\u001b[39;49m\u001b[38;5;241;43m1\u001b[39;49m\u001b[43m]\u001b[49m\n",
      "\u001b[0;31mTypeError\u001b[0m: 'set' object is not subscriptable"
     ]
    }
   ],
   "source": [
    "# slicing concepts cannot be used\n",
    "s7[::-1]"
   ]
  },
  {
   "cell_type": "code",
   "execution_count": 25,
   "id": "3b4e8ca6-75cf-4456-9186-73a237c56887",
   "metadata": {},
   "outputs": [
    {
     "name": "stdout",
     "output_type": "stream",
     "text": [
      "priya\n",
      "2\n",
      "3\n",
      "4\n",
      "5\n"
     ]
    }
   ],
   "source": [
    "# for loop\n",
    "for i in s7:\n",
    "    print(i)"
   ]
  },
  {
   "cell_type": "code",
   "execution_count": 26,
   "id": "8d3d22f6-f453-4016-8a0a-5f7b3b155578",
   "metadata": {},
   "outputs": [
    {
     "name": "stdout",
     "output_type": "stream",
     "text": [
      "priya <class 'str'>\n",
      "2 <class 'int'>\n",
      "3 <class 'int'>\n",
      "4 <class 'int'>\n",
      "5 <class 'int'>\n"
     ]
    }
   ],
   "source": [
    "for i in s7:\n",
    "    print(i,type(i))"
   ]
  },
  {
   "cell_type": "markdown",
   "id": "640d3eb6-b767-4b81-8c92-7c82dddcf80d",
   "metadata": {},
   "source": [
    "### inbuilt functions of sets"
   ]
  },
  {
   "cell_type": "code",
   "execution_count": 27,
   "id": "7fa2dc62-dfc1-48ff-ba6a-1710ca86e0d0",
   "metadata": {},
   "outputs": [],
   "source": [
    "# adds element to existing set\n",
    "s7.add(6)"
   ]
  },
  {
   "cell_type": "code",
   "execution_count": 28,
   "id": "3e5c7750-7088-45c4-9434-23961206e2db",
   "metadata": {},
   "outputs": [
    {
     "data": {
      "text/plain": [
       "{2, 3, 4, 5, 6, 'priya'}"
      ]
     },
     "execution_count": 28,
     "metadata": {},
     "output_type": "execute_result"
    }
   ],
   "source": [
    "s7"
   ]
  },
  {
   "cell_type": "code",
   "execution_count": 29,
   "id": "dc039834-6f9c-4033-9c9f-d99c39ce951d",
   "metadata": {},
   "outputs": [],
   "source": [
    "s7.add(24)"
   ]
  },
  {
   "cell_type": "code",
   "execution_count": 30,
   "id": "26c0d90c-89ca-4a31-9070-0d8f79dac04c",
   "metadata": {},
   "outputs": [
    {
     "data": {
      "text/plain": [
       "{2, 24, 3, 4, 5, 6, 'priya'}"
      ]
     },
     "execution_count": 30,
     "metadata": {},
     "output_type": "execute_result"
    }
   ],
   "source": [
    "s7"
   ]
  },
  {
   "cell_type": "code",
   "execution_count": 31,
   "id": "b995bc90-dc22-4bcd-9eff-00c7b89f1cb0",
   "metadata": {},
   "outputs": [
    {
     "data": {
      "text/plain": [
       "7"
      ]
     },
     "execution_count": 31,
     "metadata": {},
     "output_type": "execute_result"
    }
   ],
   "source": [
    "len(s7)"
   ]
  },
  {
   "cell_type": "code",
   "execution_count": 32,
   "id": "c30ffb32-16d6-47b5-b323-2c4087728f0a",
   "metadata": {},
   "outputs": [
    {
     "data": {
      "text/plain": [
       "'priya'"
      ]
     },
     "execution_count": 32,
     "metadata": {},
     "output_type": "execute_result"
    }
   ],
   "source": [
    "# poping the element\n",
    "# poping is done considering the hashing order that the elements stored\n",
    "s7.pop()"
   ]
  },
  {
   "cell_type": "code",
   "execution_count": 33,
   "id": "cf30bac4-7391-4952-bcd3-76e79cc7d6c7",
   "metadata": {},
   "outputs": [
    {
     "data": {
      "text/plain": [
       "{2, 3, 4, 5, 6, 24}"
      ]
     },
     "execution_count": 33,
     "metadata": {},
     "output_type": "execute_result"
    }
   ],
   "source": [
    "s7"
   ]
  },
  {
   "cell_type": "code",
   "execution_count": 34,
   "id": "332709d4-150f-4923-8760-cceb326beca1",
   "metadata": {},
   "outputs": [
    {
     "data": {
      "text/plain": [
       "2"
      ]
     },
     "execution_count": 34,
     "metadata": {},
     "output_type": "execute_result"
    }
   ],
   "source": [
    "s7.pop()"
   ]
  },
  {
   "cell_type": "code",
   "execution_count": 35,
   "id": "00c4f827-6222-440b-8332-10e9cf705218",
   "metadata": {},
   "outputs": [
    {
     "data": {
      "text/plain": [
       "3"
      ]
     },
     "execution_count": 35,
     "metadata": {},
     "output_type": "execute_result"
    }
   ],
   "source": [
    "s7.pop()"
   ]
  },
  {
   "cell_type": "code",
   "execution_count": 36,
   "id": "f9c4d8ce-9ea4-419f-b21a-20960b850222",
   "metadata": {},
   "outputs": [
    {
     "data": {
      "text/plain": [
       "{4, 5, 6, 24}"
      ]
     },
     "execution_count": 36,
     "metadata": {},
     "output_type": "execute_result"
    }
   ],
   "source": [
    "s7"
   ]
  },
  {
   "cell_type": "code",
   "execution_count": 37,
   "id": "a12d414a-3702-4e94-9239-9216576a6b82",
   "metadata": {},
   "outputs": [],
   "source": [
    "s7.clear()     # removes all elements from the set"
   ]
  },
  {
   "cell_type": "code",
   "execution_count": 38,
   "id": "3648e97f-dab1-40c9-a036-def36d6d5b54",
   "metadata": {},
   "outputs": [
    {
     "data": {
      "text/plain": [
       "set()"
      ]
     },
     "execution_count": 38,
     "metadata": {},
     "output_type": "execute_result"
    }
   ],
   "source": [
    "s7"
   ]
  },
  {
   "cell_type": "code",
   "execution_count": 39,
   "id": "0be88d7d-91f2-4ccc-8362-8f0bed3239b0",
   "metadata": {},
   "outputs": [],
   "source": [
    "s8={1,2,3,4}\n",
    "s9={1,5,6,8}"
   ]
  },
  {
   "cell_type": "code",
   "execution_count": 40,
   "id": "95cca884-d914-4d35-a209-9274b4bee953",
   "metadata": {},
   "outputs": [
    {
     "data": {
      "text/plain": [
       "{2, 3, 4}"
      ]
     },
     "execution_count": 40,
     "metadata": {},
     "output_type": "execute_result"
    }
   ],
   "source": [
    "# checks difference between s8 and s9\n",
    "s8.difference(s9)"
   ]
  },
  {
   "cell_type": "code",
   "execution_count": null,
   "id": "50db3d6d-374c-4e40-a20c-d202427ec02f",
   "metadata": {},
   "outputs": [],
   "source": []
  }
 ],
 "metadata": {
  "kernelspec": {
   "display_name": "Python 3 (ipykernel)",
   "language": "python",
   "name": "python3"
  },
  "language_info": {
   "codemirror_mode": {
    "name": "ipython",
    "version": 3
   },
   "file_extension": ".py",
   "mimetype": "text/x-python",
   "name": "python",
   "nbconvert_exporter": "python",
   "pygments_lexer": "ipython3",
   "version": "3.10.8"
  }
 },
 "nbformat": 4,
 "nbformat_minor": 5
}
