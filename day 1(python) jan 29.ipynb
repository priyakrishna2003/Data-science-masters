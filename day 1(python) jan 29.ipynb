{
 "cells": [
  {
   "cell_type": "code",
   "execution_count": 1,
   "id": "cafe2bb3-ae1a-4c3c-b0f0-5b182ae7a445",
   "metadata": {},
   "outputs": [
    {
     "data": {
      "text/plain": [
       "4"
      ]
     },
     "execution_count": 1,
     "metadata": {},
     "output_type": "execute_result"
    }
   ],
   "source": [
    "1+3"
   ]
  },
  {
   "cell_type": "code",
   "execution_count": 3,
   "id": "9629a921-bca2-4842-a7b4-a8724e117a11",
   "metadata": {},
   "outputs": [
    {
     "name": "stdout",
     "output_type": "stream",
     "text": [
      "4\n"
     ]
    }
   ],
   "source": [
    "print(1+3)"
   ]
  },
  {
   "cell_type": "code",
   "execution_count": 4,
   "id": "9f372ddd-af3f-422c-9a4e-dfd397914425",
   "metadata": {},
   "outputs": [
    {
     "data": {
      "text/plain": [
       "5"
      ]
     },
     "execution_count": 4,
     "metadata": {},
     "output_type": "execute_result"
    }
   ],
   "source": [
    "a=5\n",
    "a"
   ]
  },
  {
   "cell_type": "code",
   "execution_count": 5,
   "id": "1f362a17-fb47-40a1-9545-beb9dffbe2d5",
   "metadata": {},
   "outputs": [
    {
     "name": "stdout",
     "output_type": "stream",
     "text": [
      "5\n"
     ]
    }
   ],
   "source": [
    "print(a) \n"
   ]
  },
  {
   "cell_type": "code",
   "execution_count": 7,
   "id": "7f92e052-b3b9-4ed3-b55b-a21ac939f3fa",
   "metadata": {},
   "outputs": [
    {
     "ename": "SyntaxError",
     "evalue": "unterminated string literal (detected at line 1) (1358584050.py, line 1)",
     "output_type": "error",
     "traceback": [
      "\u001b[0;36m  Cell \u001b[0;32mIn[7], line 1\u001b[0;36m\u001b[0m\n\u001b[0;31m    print(\"Hello pw skills\u001b[0m\n\u001b[0m          ^\u001b[0m\n\u001b[0;31mSyntaxError\u001b[0m\u001b[0;31m:\u001b[0m unterminated string literal (detected at line 1)\n"
     ]
    }
   ],
   "source": [
    "print(\"Hello pw skills \n",
    "        this is data science masters\")    # for 2 lines or new line \\n is used"
   ]
  },
  {
   "cell_type": "code",
   "execution_count": 8,
   "id": "250bf5f7-f08f-4d52-88d1-ea47b4dfbb66",
   "metadata": {},
   "outputs": [
    {
     "name": "stdout",
     "output_type": "stream",
     "text": [
      "Hello pw skills \n",
      " this is data science masters\n"
     ]
    }
   ],
   "source": [
    "print(\"Hello pw skills \\n this is data science masters\")    # for 2 lines or new line \\n is used"
   ]
  },
  {
   "cell_type": "markdown",
   "id": "295affa7-a7a9-4967-ad51-4764714e1b34",
   "metadata": {},
   "source": [
    "# Variable assignment"
   ]
  },
  {
   "cell_type": "code",
   "execution_count": 10,
   "id": "4ea5a1d7-f9f9-4e3d-86a4-9e28e5b5f5a1",
   "metadata": {},
   "outputs": [],
   "source": [
    "name='priya' # anything written in single or double quotes is called string \n",
    "college='khit'"
   ]
  },
  {
   "cell_type": "code",
   "execution_count": 11,
   "id": "135ccdcb-c707-489e-8be1-bcbc662b31eb",
   "metadata": {},
   "outputs": [
    {
     "data": {
      "text/plain": [
       "'khit'"
      ]
     },
     "execution_count": 11,
     "metadata": {},
     "output_type": "execute_result"
    }
   ],
   "source": [
    "college"
   ]
  },
  {
   "cell_type": "code",
   "execution_count": 12,
   "id": "4db9fb8a-4610-4d05-adec-55f509d1d141",
   "metadata": {},
   "outputs": [],
   "source": [
    "# variable name used to define a variable is called variable assignment"
   ]
  },
  {
   "cell_type": "code",
   "execution_count": 13,
   "id": "0193bbf5-acb9-42eb-bfc8-2391a7aa09de",
   "metadata": {},
   "outputs": [
    {
     "data": {
      "text/plain": [
       "10"
      ]
     },
     "execution_count": 13,
     "metadata": {},
     "output_type": "execute_result"
    }
   ],
   "source": [
    "a=10\n",
    "a"
   ]
  },
  {
   "cell_type": "code",
   "execution_count": 15,
   "id": "87b5d7d6-0cc3-4b23-ac13-b08e9cfee2fa",
   "metadata": {},
   "outputs": [
    {
     "data": {
      "text/plain": [
       "20"
      ]
     },
     "execution_count": 15,
     "metadata": {},
     "output_type": "execute_result"
    }
   ],
   "source": [
    "a=20          # 10 is over written by 20\n",
    "a"
   ]
  },
  {
   "cell_type": "markdown",
   "id": "67cfcca5-bd54-4525-9647-915158c07d00",
   "metadata": {},
   "source": [
    "# type casting"
   ]
  },
  {
   "cell_type": "code",
   "execution_count": 16,
   "id": "6791b61e-cb96-40b5-b753-11aa351b2433",
   "metadata": {},
   "outputs": [
    {
     "data": {
      "text/plain": [
       "int"
      ]
     },
     "execution_count": 16,
     "metadata": {},
     "output_type": "execute_result"
    }
   ],
   "source": [
    "# type is used to know type of data\n",
    "type(10)"
   ]
  },
  {
   "cell_type": "code",
   "execution_count": 17,
   "id": "81889cf5-0531-4ad5-b11e-9d1420f34444",
   "metadata": {},
   "outputs": [
    {
     "data": {
      "text/plain": [
       "float"
      ]
     },
     "execution_count": 17,
     "metadata": {},
     "output_type": "execute_result"
    }
   ],
   "source": [
    "type(10.5)"
   ]
  },
  {
   "cell_type": "code",
   "execution_count": 18,
   "id": "cb763c2a-f2cf-4e12-9196-0cf64530477c",
   "metadata": {},
   "outputs": [
    {
     "data": {
      "text/plain": [
       "str"
      ]
     },
     "execution_count": 18,
     "metadata": {},
     "output_type": "execute_result"
    }
   ],
   "source": [
    "type(name)"
   ]
  },
  {
   "cell_type": "code",
   "execution_count": 19,
   "id": "97ea25ed-182d-487b-887a-fa84e8792436",
   "metadata": {},
   "outputs": [
    {
     "data": {
      "text/plain": [
       "str"
      ]
     },
     "execution_count": 19,
     "metadata": {},
     "output_type": "execute_result"
    }
   ],
   "source": [
    "type('name')"
   ]
  },
  {
   "cell_type": "markdown",
   "id": "56178c0b-9cfd-447e-bdd9-71643149e2ee",
   "metadata": {},
   "source": [
    "# *ways to write a varible name\n",
    "  ### it should not start with number\n",
    "  ### no special symbols are used\n",
    "  ### they are case sensitive\n",
    "  ### reserved keywords should not be used as variable                                 name(int,float,string......)"
   ]
  },
  {
   "cell_type": "code",
   "execution_count": 23,
   "id": "9a78db9d-ca67-4b99-af87-b93369cb2bed",
   "metadata": {},
   "outputs": [
    {
     "ename": "SyntaxError",
     "evalue": "invalid decimal literal (2924371528.py, line 1)",
     "output_type": "error",
     "traceback": [
      "\u001b[0;36m  Cell \u001b[0;32mIn[23], line 1\u001b[0;36m\u001b[0m\n\u001b[0;31m    2a=5\u001b[0m\n\u001b[0m    ^\u001b[0m\n\u001b[0;31mSyntaxError\u001b[0m\u001b[0;31m:\u001b[0m invalid decimal literal\n"
     ]
    }
   ],
   "source": [
    "2a=5\n",
    "2a"
   ]
  },
  {
   "cell_type": "code",
   "execution_count": 22,
   "id": "836ae2cd-9995-44dd-a1e1-efb245718b30",
   "metadata": {},
   "outputs": [
    {
     "data": {
      "text/plain": [
       "5"
      ]
     },
     "execution_count": 22,
     "metadata": {},
     "output_type": "execute_result"
    }
   ],
   "source": [
    "a2=5\n",
    "a2"
   ]
  },
  {
   "cell_type": "code",
   "execution_count": 24,
   "id": "760881f9-310c-48b7-a05f-1a9c2ca515bb",
   "metadata": {},
   "outputs": [
    {
     "data": {
      "text/plain": [
       "2"
      ]
     },
     "execution_count": 24,
     "metadata": {},
     "output_type": "execute_result"
    }
   ],
   "source": [
    "_2=2\n",
    "_2"
   ]
  },
  {
   "cell_type": "code",
   "execution_count": 25,
   "id": "6163c57c-b891-44b0-bc31-a44c0f5d96a0",
   "metadata": {},
   "outputs": [
    {
     "ename": "SyntaxError",
     "evalue": "'literal' is an illegal expression for augmented assignment (1961187395.py, line 1)",
     "output_type": "error",
     "traceback": [
      "\u001b[0;36m  Cell \u001b[0;32mIn[25], line 1\u001b[0;36m\u001b[0m\n\u001b[0;31m    2@=5\u001b[0m\n\u001b[0m    ^\u001b[0m\n\u001b[0;31mSyntaxError\u001b[0m\u001b[0;31m:\u001b[0m 'literal' is an illegal expression for augmented assignment\n"
     ]
    }
   ],
   "source": [
    "2@=5\n",
    "2@"
   ]
  },
  {
   "cell_type": "code",
   "execution_count": 26,
   "id": "e5c6471c-4486-4479-aa8e-46096a6796a1",
   "metadata": {},
   "outputs": [
    {
     "ename": "SyntaxError",
     "evalue": "cannot assign to expression here. Maybe you meant '==' instead of '='? (3529414795.py, line 1)",
     "output_type": "error",
     "traceback": [
      "\u001b[0;36m  Cell \u001b[0;32mIn[26], line 1\u001b[0;36m\u001b[0m\n\u001b[0;31m    2-2=abc\u001b[0m\n\u001b[0m    ^\u001b[0m\n\u001b[0;31mSyntaxError\u001b[0m\u001b[0;31m:\u001b[0m cannot assign to expression here. Maybe you meant '==' instead of '='?\n"
     ]
    }
   ],
   "source": [
    "2-2=abc"
   ]
  },
  {
   "cell_type": "markdown",
   "id": "83a73bc3-9dfe-4e1c-bbc4-d9144d284a0c",
   "metadata": {},
   "source": [
    "# boolean"
   ]
  },
  {
   "cell_type": "code",
   "execution_count": 27,
   "id": "6ed6f17d-7706-440a-8987-1ae6646baa68",
   "metadata": {},
   "outputs": [],
   "source": [
    "# true \n",
    "# false"
   ]
  },
  {
   "cell_type": "code",
   "execution_count": 28,
   "id": "e3597b4a-729e-4870-b9c9-8a4cb5239168",
   "metadata": {},
   "outputs": [
    {
     "ename": "NameError",
     "evalue": "name 'true' is not defined",
     "output_type": "error",
     "traceback": [
      "\u001b[0;31m---------------------------------------------------------------------------\u001b[0m",
      "\u001b[0;31mNameError\u001b[0m                                 Traceback (most recent call last)",
      "Cell \u001b[0;32mIn[28], line 1\u001b[0m\n\u001b[0;32m----> 1\u001b[0m \u001b[43mtrue\u001b[49m\n",
      "\u001b[0;31mNameError\u001b[0m: name 'true' is not defined"
     ]
    }
   ],
   "source": [
    "true        #capital should be used"
   ]
  },
  {
   "cell_type": "code",
   "execution_count": 30,
   "id": "fa7842d6-5cf7-46c6-a320-eb750288b63d",
   "metadata": {},
   "outputs": [
    {
     "data": {
      "text/plain": [
       "True"
      ]
     },
     "execution_count": 30,
     "metadata": {},
     "output_type": "execute_result"
    }
   ],
   "source": [
    "True"
   ]
  },
  {
   "cell_type": "code",
   "execution_count": 31,
   "id": "f88f7c1d-aa9d-4894-8c45-afce5ed8e3aa",
   "metadata": {},
   "outputs": [
    {
     "data": {
      "text/plain": [
       "False"
      ]
     },
     "execution_count": 31,
     "metadata": {},
     "output_type": "execute_result"
    }
   ],
   "source": [
    "False"
   ]
  },
  {
   "cell_type": "code",
   "execution_count": 32,
   "id": "55082ad7-7555-492f-ba6f-16ad0297ed87",
   "metadata": {},
   "outputs": [
    {
     "data": {
      "text/plain": [
       "False"
      ]
     },
     "execution_count": 32,
     "metadata": {},
     "output_type": "execute_result"
    }
   ],
   "source": [
    "True and False"
   ]
  },
  {
   "cell_type": "code",
   "execution_count": 33,
   "id": "d7993bc8-e6e3-46ff-a089-6f13b878070d",
   "metadata": {},
   "outputs": [
    {
     "data": {
      "text/plain": [
       "True"
      ]
     },
     "execution_count": 33,
     "metadata": {},
     "output_type": "execute_result"
    }
   ],
   "source": [
    "True or False"
   ]
  },
  {
   "cell_type": "code",
   "execution_count": 34,
   "id": "7d81d423-1f33-41b7-9488-3785b42ed79a",
   "metadata": {},
   "outputs": [
    {
     "data": {
      "text/plain": [
       "False"
      ]
     },
     "execution_count": 34,
     "metadata": {},
     "output_type": "execute_result"
    }
   ],
   "source": [
    "not True"
   ]
  },
  {
   "cell_type": "code",
   "execution_count": 36,
   "id": "2dbacf3f-2830-4b5e-afc6-1353725905da",
   "metadata": {},
   "outputs": [
    {
     "data": {
      "text/plain": [
       "bool"
      ]
     },
     "execution_count": 36,
     "metadata": {},
     "output_type": "execute_result"
    }
   ],
   "source": [
    "type(not False)"
   ]
  },
  {
   "cell_type": "code",
   "execution_count": 37,
   "id": "286cd04d-88e0-41ed-acaa-be9e290272fd",
   "metadata": {},
   "outputs": [
    {
     "data": {
      "text/plain": [
       "False"
      ]
     },
     "execution_count": 37,
     "metadata": {},
     "output_type": "execute_result"
    }
   ],
   "source": [
    "bool(0)\n"
   ]
  },
  {
   "cell_type": "code",
   "execution_count": 38,
   "id": "35b95c3d-af47-4e14-83ba-ce953646140f",
   "metadata": {},
   "outputs": [
    {
     "data": {
      "text/plain": [
       "True"
      ]
     },
     "execution_count": 38,
     "metadata": {},
     "output_type": "execute_result"
    }
   ],
   "source": [
    "bool(1)"
   ]
  },
  {
   "cell_type": "code",
   "execution_count": 41,
   "id": "14a24b62-6324-4c54-afee-41c226ee990e",
   "metadata": {},
   "outputs": [
    {
     "name": "stdout",
     "output_type": "stream",
     "text": [
      "True\n"
     ]
    }
   ],
   "source": [
    "a=1\n",
    "if bool(a)==True:\n",
    "    print(\"True\")\n",
    "else:\n",
    "     print(\"False\")"
   ]
  },
  {
   "cell_type": "code",
   "execution_count": 45,
   "id": "a3ff0536-d6c8-49ca-80da-7157aef8226e",
   "metadata": {},
   "outputs": [
    {
     "name": "stdout",
     "output_type": "stream",
     "text": [
      "False\n"
     ]
    }
   ],
   "source": [
    "a=0\n",
    "if bool(a)==True:\n",
    "    print(\"True\")\n",
    "else:\n",
    "     print(\"False\")"
   ]
  },
  {
   "cell_type": "markdown",
   "id": "faec19ec-872e-4714-8102-1f6fb3505bd4",
   "metadata": {},
   "source": [
    "## Dynamic typing"
   ]
  },
  {
   "cell_type": "code",
   "execution_count": 46,
   "id": "25fea0ad-14c9-4d58-8c42-e7a7f063eca2",
   "metadata": {},
   "outputs": [],
   "source": [
    "a=10\n",
    "a='hi'"
   ]
  },
  {
   "cell_type": "code",
   "execution_count": 47,
   "id": "faca65d3-a41b-476a-b34e-16d81a2f819b",
   "metadata": {},
   "outputs": [
    {
     "data": {
      "text/plain": [
       "'hi'"
      ]
     },
     "execution_count": 47,
     "metadata": {},
     "output_type": "execute_result"
    }
   ],
   "source": [
    "a"
   ]
  },
  {
   "cell_type": "code",
   "execution_count": 48,
   "id": "7a45a822-6417-4b56-8254-3fa76570bf28",
   "metadata": {},
   "outputs": [
    {
     "name": "stdout",
     "output_type": "stream",
     "text": [
      "<class 'str'>\n"
     ]
    }
   ],
   "source": [
    "print(type(a))"
   ]
  },
  {
   "cell_type": "code",
   "execution_count": 49,
   "id": "fd466b58-a5c9-4d65-afd4-04d6ca227167",
   "metadata": {},
   "outputs": [
    {
     "data": {
      "text/plain": [
       "10.0"
      ]
     },
     "execution_count": 49,
     "metadata": {},
     "output_type": "execute_result"
    }
   ],
   "source": [
    "a=10\n",
    "float(a)"
   ]
  },
  {
   "cell_type": "code",
   "execution_count": 50,
   "id": "02e4747c-fade-4840-9eac-615b79932d25",
   "metadata": {},
   "outputs": [
    {
     "data": {
      "text/plain": [
       "10"
      ]
     },
     "execution_count": 50,
     "metadata": {},
     "output_type": "execute_result"
    }
   ],
   "source": [
    "a=10.5\n",
    "int(a)"
   ]
  },
  {
   "cell_type": "markdown",
   "id": "4a9402c2-973a-40b4-b32e-86515dc34593",
   "metadata": {},
   "source": [
    "### concatenation between different types"
   ]
  },
  {
   "cell_type": "code",
   "execution_count": 51,
   "id": "674be0eb-340b-405e-bde7-a76a8af91585",
   "metadata": {},
   "outputs": [],
   "source": [
    "# concatenation is merging or combining two stings without adding"
   ]
  },
  {
   "cell_type": "code",
   "execution_count": 52,
   "id": "29673d4a-2d8a-4f03-9267-9919bd238a0c",
   "metadata": {},
   "outputs": [
    {
     "data": {
      "text/plain": [
       "'11'"
      ]
     },
     "execution_count": 52,
     "metadata": {},
     "output_type": "execute_result"
    }
   ],
   "source": [
    "\"1\" + \"1\""
   ]
  },
  {
   "cell_type": "code",
   "execution_count": 53,
   "id": "e43b2398-7940-4d76-9956-75b35baa7692",
   "metadata": {},
   "outputs": [],
   "source": [
    "# 2 different data types cannot be concatenated"
   ]
  },
  {
   "cell_type": "code",
   "execution_count": 54,
   "id": "529c902d-43c8-4186-86be-5d63b4900ee4",
   "metadata": {},
   "outputs": [
    {
     "ename": "TypeError",
     "evalue": "unsupported operand type(s) for +: 'int' and 'str'",
     "output_type": "error",
     "traceback": [
      "\u001b[0;31m---------------------------------------------------------------------------\u001b[0m",
      "\u001b[0;31mTypeError\u001b[0m                                 Traceback (most recent call last)",
      "Cell \u001b[0;32mIn[54], line 1\u001b[0m\n\u001b[0;32m----> 1\u001b[0m \u001b[38;5;28;43mint\u001b[39;49m\u001b[43m(\u001b[49m\u001b[38;5;124;43m\"\u001b[39;49m\u001b[38;5;124;43m1\u001b[39;49m\u001b[38;5;124;43m\"\u001b[39;49m\u001b[43m)\u001b[49m\u001b[43m \u001b[49m\u001b[38;5;241;43m+\u001b[39;49m\u001b[43m \u001b[49m\u001b[38;5;124;43m\"\u001b[39;49m\u001b[38;5;124;43m1\u001b[39;49m\u001b[38;5;124;43m\"\u001b[39;49m\n",
      "\u001b[0;31mTypeError\u001b[0m: unsupported operand type(s) for +: 'int' and 'str'"
     ]
    }
   ],
   "source": [
    "int(\"1\") + \"1\""
   ]
  },
  {
   "cell_type": "code",
   "execution_count": 55,
   "id": "560d13c4-99de-44f8-ade7-527b53ce8446",
   "metadata": {},
   "outputs": [
    {
     "data": {
      "text/plain": [
       "'1111111111111111111111111111111111111111111111111111111111111111111111111111111111111111111111111111'"
      ]
     },
     "execution_count": 55,
     "metadata": {},
     "output_type": "execute_result"
    }
   ],
   "source": [
    "\"1\" * 100"
   ]
  },
  {
   "cell_type": "code",
   "execution_count": 57,
   "id": "a8aa7263-e2bd-4ec4-93d3-1e4c89c0e54e",
   "metadata": {},
   "outputs": [
    {
     "data": {
      "text/plain": [
       "'1'"
      ]
     },
     "execution_count": 57,
     "metadata": {},
     "output_type": "execute_result"
    }
   ],
   "source": [
    "\"1\" * 1"
   ]
  },
  {
   "cell_type": "code",
   "execution_count": 58,
   "id": "1079c7ed-5c62-4250-90f8-a76811cdb44f",
   "metadata": {},
   "outputs": [
    {
     "ename": "TypeError",
     "evalue": "can't multiply sequence by non-int of type 'str'",
     "output_type": "error",
     "traceback": [
      "\u001b[0;31m---------------------------------------------------------------------------\u001b[0m",
      "\u001b[0;31mTypeError\u001b[0m                                 Traceback (most recent call last)",
      "Cell \u001b[0;32mIn[58], line 1\u001b[0m\n\u001b[0;32m----> 1\u001b[0m \u001b[38;5;124;43m\"\u001b[39;49m\u001b[38;5;124;43m1\u001b[39;49m\u001b[38;5;124;43m\"\u001b[39;49m\u001b[43m \u001b[49m\u001b[38;5;241;43m*\u001b[39;49m\u001b[43m \u001b[49m\u001b[38;5;124;43m\"\u001b[39;49m\u001b[38;5;124;43m1\u001b[39;49m\u001b[38;5;124;43m\"\u001b[39;49m\n",
      "\u001b[0;31mTypeError\u001b[0m: can't multiply sequence by non-int of type 'str'"
     ]
    }
   ],
   "source": [
    "\"1\" * \"1\"   # strings cannot be multiplied"
   ]
  },
  {
   "cell_type": "code",
   "execution_count": null,
   "id": "91878539-7e3d-4b85-adac-65aabee0c06d",
   "metadata": {},
   "outputs": [],
   "source": []
  }
 ],
 "metadata": {
  "kernelspec": {
   "display_name": "Python 3 (ipykernel)",
   "language": "python",
   "name": "python3"
  },
  "language_info": {
   "codemirror_mode": {
    "name": "ipython",
    "version": 3
   },
   "file_extension": ".py",
   "mimetype": "text/x-python",
   "name": "python",
   "nbconvert_exporter": "python",
   "pygments_lexer": "ipython3",
   "version": "3.10.8"
  }
 },
 "nbformat": 4,
 "nbformat_minor": 5
}
