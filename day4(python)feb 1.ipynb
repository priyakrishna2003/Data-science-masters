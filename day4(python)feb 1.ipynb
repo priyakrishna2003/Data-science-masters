{
 "cells": [
  {
   "cell_type": "markdown",
   "id": "e083b632-74e9-4bdb-8257-adb80945baf0",
   "metadata": {},
   "source": [
    "### inbuilt functions of strings\n"
   ]
  },
  {
   "cell_type": "code",
   "execution_count": 2,
   "id": "d53f1040-5136-4a50-83e9-6f0cf9277aec",
   "metadata": {},
   "outputs": [],
   "source": [
    "name=\"Data Science Masters\""
   ]
  },
  {
   "cell_type": "code",
   "execution_count": 3,
   "id": "2ca5ef57-2751-4f03-a8ab-7456dbc121f6",
   "metadata": {},
   "outputs": [
    {
     "data": {
      "text/plain": [
       "'dATA sCIENCE mASTERS'"
      ]
     },
     "execution_count": 3,
     "metadata": {},
     "output_type": "execute_result"
    }
   ],
   "source": [
    "name.swapcase() #upper case is changed into lower case and vice-versa"
   ]
  },
  {
   "cell_type": "code",
   "execution_count": 4,
   "id": "e0d4cf68-d061-4b09-a990-db7aa5a3ef58",
   "metadata": {},
   "outputs": [
    {
     "data": {
      "text/plain": [
       "'Data Science Masters'"
      ]
     },
     "execution_count": 4,
     "metadata": {},
     "output_type": "execute_result"
    }
   ],
   "source": [
    "name.title() # first letter of every word is in upper case"
   ]
  },
  {
   "cell_type": "code",
   "execution_count": 5,
   "id": "f3b89944-4f18-4b8c-a440-d4ac74dc6331",
   "metadata": {},
   "outputs": [
    {
     "data": {
      "text/plain": [
       "'Data science masters'"
      ]
     },
     "execution_count": 5,
     "metadata": {},
     "output_type": "execute_result"
    }
   ],
   "source": [
    "name.capitalize()  # first letter capital all other are lower case"
   ]
  },
  {
   "cell_type": "markdown",
   "id": "e68d69b4-8c41-42d9-9623-f1914e172026",
   "metadata": {},
   "source": [
    "## Reverse a string"
   ]
  },
  {
   "cell_type": "code",
   "execution_count": 6,
   "id": "16d80d66-2d31-4125-9f6b-deb52f1532bd",
   "metadata": {},
   "outputs": [
    {
     "data": {
      "text/plain": [
       "'sretsaM ecneicS ataD'"
      ]
     },
     "execution_count": 6,
     "metadata": {},
     "output_type": "execute_result"
    }
   ],
   "source": [
    "name[::-1]"
   ]
  },
  {
   "cell_type": "code",
   "execution_count": 8,
   "id": "93509968-acf8-451a-b6d7-56c731844988",
   "metadata": {},
   "outputs": [
    {
     "data": {
      "text/plain": [
       "<reversed at 0x7f45b02e4550>"
      ]
     },
     "execution_count": 8,
     "metadata": {},
     "output_type": "execute_result"
    }
   ],
   "source": [
    "reversed(name)"
   ]
  },
  {
   "cell_type": "code",
   "execution_count": 10,
   "id": "622b93bd-9362-4281-9f58-c337345a22dd",
   "metadata": {},
   "outputs": [
    {
     "data": {
      "text/plain": [
       "'s r e t s a M   e c n e i c S   a t a D'"
      ]
     },
     "execution_count": 10,
     "metadata": {},
     "output_type": "execute_result"
    }
   ],
   "source": [
    "' '.join(reversed(name))"
   ]
  },
  {
   "cell_type": "code",
   "execution_count": 11,
   "id": "f0ca0359-50b7-4796-8d8e-b34de7a5c95e",
   "metadata": {},
   "outputs": [
    {
     "data": {
      "text/plain": [
       "'kpriyarpriyaipriyaspriyahpriyanpriyaa'"
      ]
     },
     "execution_count": 11,
     "metadata": {},
     "output_type": "execute_result"
    }
   ],
   "source": [
    "\"priya\".join(\"krishna\")"
   ]
  },
  {
   "cell_type": "code",
   "execution_count": 12,
   "id": "31477f68-d524-4d49-aea7-8ba65520f575",
   "metadata": {},
   "outputs": [
    {
     "data": {
      "text/plain": [
       "'a'"
      ]
     },
     "execution_count": 12,
     "metadata": {},
     "output_type": "execute_result"
    }
   ],
   "source": [
    "\"priya\".join(\"a\")"
   ]
  },
  {
   "cell_type": "code",
   "execution_count": 13,
   "id": "1e1ac20b-9f84-40ae-838d-a555522bc7d1",
   "metadata": {},
   "outputs": [
    {
     "data": {
      "text/plain": [
       "'apriyab'"
      ]
     },
     "execution_count": 13,
     "metadata": {},
     "output_type": "execute_result"
    }
   ],
   "source": [
    "\"priya\".join(\"ab\")"
   ]
  },
  {
   "cell_type": "code",
   "execution_count": 14,
   "id": "8f40f8bb-257c-462d-bb22-baf4c461b44a",
   "metadata": {},
   "outputs": [
    {
     "data": {
      "text/plain": [
       "'apriyabpriyac'"
      ]
     },
     "execution_count": 14,
     "metadata": {},
     "output_type": "execute_result"
    }
   ],
   "source": [
    "\"priya\".join(\"abc\")"
   ]
  },
  {
   "cell_type": "code",
   "execution_count": 15,
   "id": "c0639b4e-c868-4475-9438-caf8c79ec905",
   "metadata": {},
   "outputs": [
    {
     "data": {
      "text/plain": [
       "'a b c d'"
      ]
     },
     "execution_count": 15,
     "metadata": {},
     "output_type": "execute_result"
    }
   ],
   "source": [
    "' '.join(\"abcd\")"
   ]
  },
  {
   "cell_type": "code",
   "execution_count": 18,
   "id": "e5d9b0ff-88ad-4d70-96ce-744c1ab8f7be",
   "metadata": {},
   "outputs": [
    {
     "data": {
      "text/plain": [
       "'d c b a'"
      ]
     },
     "execution_count": 18,
     "metadata": {},
     "output_type": "execute_result"
    }
   ],
   "source": [
    "' '.join(reversed(\"abcd\"))"
   ]
  },
  {
   "cell_type": "code",
   "execution_count": 19,
   "id": "fa3bf4b9-d05b-4336-a049-43310b44d1c0",
   "metadata": {},
   "outputs": [
    {
     "data": {
      "text/plain": [
       "'a  n  t'"
      ]
     },
     "execution_count": 19,
     "metadata": {},
     "output_type": "execute_result"
    }
   ],
   "source": [
    "'  '.join(\"ant\")"
   ]
  },
  {
   "cell_type": "code",
   "execution_count": 21,
   "id": "4a996ca4-b5f7-4304-81a1-476d2b48822c",
   "metadata": {},
   "outputs": [
    {
     "data": {
      "text/plain": [
       "'a n t'"
      ]
     },
     "execution_count": 21,
     "metadata": {},
     "output_type": "execute_result"
    }
   ],
   "source": [
    "' '.join(\"ant\")"
   ]
  },
  {
   "cell_type": "code",
   "execution_count": 20,
   "id": "f98a6a6f-4c7a-473d-8078-73fb44a84895",
   "metadata": {},
   "outputs": [
    {
     "data": {
      "text/plain": [
       "'t n a'"
      ]
     },
     "execution_count": 20,
     "metadata": {},
     "output_type": "execute_result"
    }
   ],
   "source": [
    "' '.join(reversed(\"ant\"))"
   ]
  },
  {
   "cell_type": "code",
   "execution_count": 22,
   "id": "d69c1dac-b8d3-4e01-9655-42cfa18ff876",
   "metadata": {},
   "outputs": [
    {
     "data": {
      "text/plain": [
       "'tna'"
      ]
     },
     "execution_count": 22,
     "metadata": {},
     "output_type": "execute_result"
    }
   ],
   "source": [
    "''.join(reversed(\"ant\"))"
   ]
  },
  {
   "cell_type": "code",
   "execution_count": 23,
   "id": "5a13496a-9b04-4200-9477-d877498c08fb",
   "metadata": {},
   "outputs": [
    {
     "data": {
      "text/plain": [
       "'thellonhelloa'"
      ]
     },
     "execution_count": 23,
     "metadata": {},
     "output_type": "execute_result"
    }
   ],
   "source": [
    "\"hello\".join(reversed(\"ant\"))"
   ]
  },
  {
   "cell_type": "code",
   "execution_count": 24,
   "id": "92ec6e6a-d87e-49d2-b42e-5a1403390170",
   "metadata": {},
   "outputs": [
    {
     "data": {
      "text/plain": [
       "'t hello n hello a'"
      ]
     },
     "execution_count": 24,
     "metadata": {},
     "output_type": "execute_result"
    }
   ],
   "source": [
    "\" hello \".join(reversed(\"ant\"))"
   ]
  },
  {
   "cell_type": "raw",
   "id": "1fabfa0b-a10f-4076-b025-fb1e451877f2",
   "metadata": {},
   "source": [
    "Init signature: reversed(sequence, /)\n",
    "Docstring:      Return a reverse iterator over the values of the given sequence.\n",
    "Type:           type\n",
    "Subclasses:     \n"
   ]
  },
  {
   "cell_type": "code",
   "execution_count": 25,
   "id": "dc13bf15-7820-45ef-8d87-cc1c28bf9895",
   "metadata": {},
   "outputs": [
    {
     "data": {
      "text/plain": [
       "<reversed at 0x7f45b02e4d60>"
      ]
     },
     "execution_count": 25,
     "metadata": {},
     "output_type": "execute_result"
    }
   ],
   "source": [
    "reversed(\"Ant\")"
   ]
  },
  {
   "cell_type": "code",
   "execution_count": 26,
   "id": "4efb1579-97a9-4bd5-ab6a-d8bfd1af952e",
   "metadata": {},
   "outputs": [
    {
     "data": {
      "text/plain": [
       "['t', 'n', 'A']"
      ]
     },
     "execution_count": 26,
     "metadata": {},
     "output_type": "execute_result"
    }
   ],
   "source": [
    "list(reversed(\"Ant\"))"
   ]
  },
  {
   "cell_type": "code",
   "execution_count": 27,
   "id": "c80d24e5-1ba7-4250-bb7c-d303037ec64d",
   "metadata": {},
   "outputs": [
    {
     "data": {
      "text/plain": [
       "'<reversed object at 0x7f45b0229090>'"
      ]
     },
     "execution_count": 27,
     "metadata": {},
     "output_type": "execute_result"
    }
   ],
   "source": [
    "str(reversed(\"Ant\"))"
   ]
  },
  {
   "cell_type": "code",
   "execution_count": 28,
   "id": "3ae4a3c3-88c6-42d6-b16b-6def2d7a6a27",
   "metadata": {},
   "outputs": [],
   "source": [
    "str1=\"pw is a good company\""
   ]
  },
  {
   "cell_type": "code",
   "execution_count": 29,
   "id": "3af6a100-8d2a-4abf-a00f-b3ceec390369",
   "metadata": {},
   "outputs": [
    {
     "data": {
      "text/plain": [
       "'sskillstskillsrskills1'"
      ]
     },
     "execution_count": 29,
     "metadata": {},
     "output_type": "execute_result"
    }
   ],
   "source": [
    "\"skills\".join(\"str1\")"
   ]
  },
  {
   "cell_type": "code",
   "execution_count": 30,
   "id": "a1e48bb4-78ec-4129-8873-a74f15c5e07d",
   "metadata": {},
   "outputs": [
    {
     "data": {
      "text/plain": [
       "'s skills t skills r skills 1'"
      ]
     },
     "execution_count": 30,
     "metadata": {},
     "output_type": "execute_result"
    }
   ],
   "source": [
    "\" skills \".join(\"str1\")"
   ]
  },
  {
   "cell_type": "code",
   "execution_count": 31,
   "id": "89b9a0b1-9bd1-4ca7-b813-d8afc8b2db70",
   "metadata": {},
   "outputs": [
    {
     "data": {
      "text/plain": [
       "'p skills w skills   skills i skills s skills   skills a skills   skills g skills o skills o skills d skills   skills c skills o skills m skills p skills a skills n skills y'"
      ]
     },
     "execution_count": 31,
     "metadata": {},
     "output_type": "execute_result"
    }
   ],
   "source": [
    "\" skills \".join(str1)"
   ]
  },
  {
   "cell_type": "code",
   "execution_count": 32,
   "id": "95f103f7-ef08-49d2-aabe-0ad5e79c9774",
   "metadata": {},
   "outputs": [
    {
     "name": "stdout",
     "output_type": "stream",
     "text": [
      "sretsaM ecneicS ataD"
     ]
    }
   ],
   "source": [
    "for i in list(reversed(name)):\n",
    "    print(i,end='')\n"
   ]
  },
  {
   "cell_type": "markdown",
   "id": "cb78e266-de8a-400a-abca-ccc4523d39d5",
   "metadata": {},
   "source": [
    "### removing character from the end of the string"
   ]
  },
  {
   "cell_type": "code",
   "execution_count": 38,
   "id": "1b62a0e3-74f0-4243-9e27-d46f884ba9ee",
   "metadata": {},
   "outputs": [],
   "source": [
    "a=\"  pw skills   \""
   ]
  },
  {
   "cell_type": "code",
   "execution_count": 39,
   "id": "2e837492-41f5-4da0-a44b-7aaff25e8c2e",
   "metadata": {},
   "outputs": [
    {
     "data": {
      "text/plain": [
       "'pw skills'"
      ]
     },
     "execution_count": 39,
     "metadata": {},
     "output_type": "execute_result"
    }
   ],
   "source": [
    "a.strip(\" \")"
   ]
  },
  {
   "cell_type": "code",
   "execution_count": 40,
   "id": "32739386-540f-4657-8555-0c6957b88b59",
   "metadata": {},
   "outputs": [
    {
     "data": {
      "text/plain": [
       "'  pw skills   '"
      ]
     },
     "execution_count": 40,
     "metadata": {},
     "output_type": "execute_result"
    }
   ],
   "source": [
    "a.strip(\"s\")"
   ]
  },
  {
   "cell_type": "code",
   "execution_count": 41,
   "id": "51965cd6-99a3-4b32-9e9e-5b96da71b55a",
   "metadata": {},
   "outputs": [
    {
     "data": {
      "text/plain": [
       "'pw skills   '"
      ]
     },
     "execution_count": 41,
     "metadata": {},
     "output_type": "execute_result"
    }
   ],
   "source": [
    "a.lstrip(\" \")"
   ]
  },
  {
   "cell_type": "code",
   "execution_count": 42,
   "id": "1cefa6bd-0c6c-4c6d-ac9d-e431e628c50a",
   "metadata": {},
   "outputs": [
    {
     "data": {
      "text/plain": [
       "'  pw skills'"
      ]
     },
     "execution_count": 42,
     "metadata": {},
     "output_type": "execute_result"
    }
   ],
   "source": [
    "a.rstrip(\" \")"
   ]
  },
  {
   "cell_type": "code",
   "execution_count": 44,
   "id": "e16122e7-3492-49e1-a20c-e575932c87da",
   "metadata": {},
   "outputs": [
    {
     "data": {
      "text/plain": [
       "'greeting from pwskills'"
      ]
     },
     "execution_count": 44,
     "metadata": {},
     "output_type": "execute_result"
    }
   ],
   "source": [
    "b=\"greeting to pwskills\"\n",
    "b.replace(\"to\",\"from\")"
   ]
  },
  {
   "cell_type": "code",
   "execution_count": 45,
   "id": "bc83fae5-3231-4fbb-a738-ee1b05e713bd",
   "metadata": {},
   "outputs": [
    {
     "data": {
      "text/plain": [
       "'greeting to priya'"
      ]
     },
     "execution_count": 45,
     "metadata": {},
     "output_type": "execute_result"
    }
   ],
   "source": [
    "b=\"greeting to pwskills\"\n",
    "b.replace(\"pwskills\",\"priya\")"
   ]
  },
  {
   "cell_type": "code",
   "execution_count": 48,
   "id": "f62ea170-2d72-4151-a307-c543b1d92326",
   "metadata": {},
   "outputs": [
    {
     "data": {
      "text/plain": [
       "'greeting to wwskills'"
      ]
     },
     "execution_count": 48,
     "metadata": {},
     "output_type": "execute_result"
    }
   ],
   "source": [
    "b=\"greeting to pwskills\"\n",
    "b.replace(\"p\",\"w\")"
   ]
  },
  {
   "cell_type": "code",
   "execution_count": 53,
   "id": "0bfcc7dd-50d9-4cfa-931c-0f432a59c732",
   "metadata": {},
   "outputs": [
    {
     "data": {
      "text/plain": [
       "'greeting to    wskills'"
      ]
     },
     "execution_count": 53,
     "metadata": {},
     "output_type": "execute_result"
    }
   ],
   "source": [
    "b=\"greeting to pwskills\"\n",
    "b.replace(\"p\",\"   \")"
   ]
  },
  {
   "cell_type": "code",
   "execution_count": 47,
   "id": "b689d2f1-e814-4250-8264-673c68364452",
   "metadata": {},
   "outputs": [
    {
     "data": {
      "text/plain": [
       "'graating to pwskills'"
      ]
     },
     "execution_count": 47,
     "metadata": {},
     "output_type": "execute_result"
    }
   ],
   "source": [
    "b=\"greeting to pwskills\"\n",
    "b.replace(\"e\",\"a\")           \n",
    "# character cannot be changed but it can be replaced"
   ]
  },
  {
   "cell_type": "code",
   "execution_count": 49,
   "id": "996859b0-db8c-462d-83d6-3771a7e19592",
   "metadata": {},
   "outputs": [],
   "source": [
    "b=\"greeting to pwskills\"\n",
    "c=b.replace(\"p\",\"w\")"
   ]
  },
  {
   "cell_type": "code",
   "execution_count": 50,
   "id": "c303db05-ffc9-4e7c-a52b-cd0effb80a89",
   "metadata": {},
   "outputs": [
    {
     "name": "stdout",
     "output_type": "stream",
     "text": [
      "139937155895248\n",
      "139937155896448\n"
     ]
    }
   ],
   "source": [
    "print(id(b))\n",
    "print(id(c))"
   ]
  },
  {
   "cell_type": "code",
   "execution_count": 51,
   "id": "4edf9acc-87a8-47f0-96dc-47888c1b1860",
   "metadata": {},
   "outputs": [
    {
     "data": {
      "text/plain": [
       "'g'"
      ]
     },
     "execution_count": 51,
     "metadata": {},
     "output_type": "execute_result"
    }
   ],
   "source": [
    "b[0]"
   ]
  },
  {
   "cell_type": "code",
   "execution_count": 52,
   "id": "99164bb8-fdaa-4bfb-a6f2-2946e67d6810",
   "metadata": {},
   "outputs": [
    {
     "ename": "NameError",
     "evalue": "name 'e' is not defined",
     "output_type": "error",
     "traceback": [
      "\u001b[0;31m---------------------------------------------------------------------------\u001b[0m",
      "\u001b[0;31mNameError\u001b[0m                                 Traceback (most recent call last)",
      "Cell \u001b[0;32mIn[52], line 1\u001b[0m\n\u001b[0;32m----> 1\u001b[0m b[\u001b[38;5;241m0\u001b[39m]\u001b[38;5;241m=\u001b[39m\u001b[43me\u001b[49m\n",
      "\u001b[0;31mNameError\u001b[0m: name 'e' is not defined"
     ]
    }
   ],
   "source": [
    "b[0]=e   #string is immutable so character cannot be changed"
   ]
  },
  {
   "cell_type": "code",
   "execution_count": 54,
   "id": "117a7ac5-2f54-4efd-b9fd-9795bbbfb78e",
   "metadata": {},
   "outputs": [
    {
     "data": {
      "text/plain": [
       "'hello world'"
      ]
     },
     "execution_count": 54,
     "metadata": {},
     "output_type": "execute_result"
    }
   ],
   "source": [
    "'hello world'"
   ]
  },
  {
   "cell_type": "code",
   "execution_count": 55,
   "id": "fb94dc2a-3b97-4adf-93d9-f28bce048e17",
   "metadata": {},
   "outputs": [
    {
     "data": {
      "text/plain": [
       "'hello \\nworld'"
      ]
     },
     "execution_count": 55,
     "metadata": {},
     "output_type": "execute_result"
    }
   ],
   "source": [
    "'hello \\nworld'"
   ]
  },
  {
   "cell_type": "code",
   "execution_count": 56,
   "id": "010edf36-2d13-428d-90fc-72a26cd53509",
   "metadata": {},
   "outputs": [
    {
     "data": {
      "text/plain": [
       "'hello \\tworld'"
      ]
     },
     "execution_count": 56,
     "metadata": {},
     "output_type": "execute_result"
    }
   ],
   "source": [
    "'hello \\tworld'"
   ]
  },
  {
   "cell_type": "code",
   "execution_count": 58,
   "id": "ecd6144d-17ad-41ad-b4ac-b14a87e42ee7",
   "metadata": {},
   "outputs": [
    {
     "data": {
      "text/plain": [
       "'hello   world'"
      ]
     },
     "execution_count": 58,
     "metadata": {},
     "output_type": "execute_result"
    }
   ],
   "source": [
    "#expandtab is used to create space when \\t is used\n",
    "'hello \\tworld'.expandtabs()"
   ]
  },
  {
   "cell_type": "code",
   "execution_count": 59,
   "id": "35129a3e-b29b-4204-ba5b-07d65c9bfe3e",
   "metadata": {},
   "outputs": [],
   "source": [
    "A=\"welcome to pwskills.welcome to dat cience Masters\""
   ]
  },
  {
   "cell_type": "code",
   "execution_count": 62,
   "id": "be5acc7d-7add-4744-a5fa-e6b4a5385d6a",
   "metadata": {},
   "outputs": [
    {
     "data": {
      "text/plain": [
       "'welcome to pwskills.welcome to data science Masters'"
      ]
     },
     "execution_count": 62,
     "metadata": {},
     "output_type": "execute_result"
    }
   ],
   "source": [
    "A.replace(\"dat\",\"data\").replace(\"cience\",\"science\")"
   ]
  },
  {
   "cell_type": "code",
   "execution_count": 64,
   "id": "752e4107-e123-405a-b1f0-d8b48dc56f07",
   "metadata": {},
   "outputs": [
    {
     "data": {
      "text/plain": [
       "False"
      ]
     },
     "execution_count": 64,
     "metadata": {},
     "output_type": "execute_result"
    }
   ],
   "source": [
    "#checking idf string is in upper case or  not\n",
    "A.isupper()"
   ]
  },
  {
   "cell_type": "code",
   "execution_count": 65,
   "id": "57db7e0b-2f13-4142-9598-698391a37f2f",
   "metadata": {},
   "outputs": [],
   "source": [
    "B=\"PRIYA\""
   ]
  },
  {
   "cell_type": "code",
   "execution_count": 66,
   "id": "2ebee749-a983-4220-846f-6ff1bed9a321",
   "metadata": {},
   "outputs": [
    {
     "data": {
      "text/plain": [
       "True"
      ]
     },
     "execution_count": 66,
     "metadata": {},
     "output_type": "execute_result"
    }
   ],
   "source": [
    "B.isupper()"
   ]
  },
  {
   "cell_type": "code",
   "execution_count": 67,
   "id": "e85e149e-180a-4120-8c7c-98b49b75f22d",
   "metadata": {},
   "outputs": [
    {
     "data": {
      "text/plain": [
       "False"
      ]
     },
     "execution_count": 67,
     "metadata": {},
     "output_type": "execute_result"
    }
   ],
   "source": [
    "A.islower()"
   ]
  },
  {
   "cell_type": "code",
   "execution_count": 68,
   "id": "66c81005-fe67-4d3b-81d6-f96fd8f788ee",
   "metadata": {},
   "outputs": [
    {
     "data": {
      "text/plain": [
       "False"
      ]
     },
     "execution_count": 68,
     "metadata": {},
     "output_type": "execute_result"
    }
   ],
   "source": [
    "A.isspace()"
   ]
  },
  {
   "cell_type": "code",
   "execution_count": 69,
   "id": "d739033d-74c7-42c4-ba2b-af8f7dffd320",
   "metadata": {},
   "outputs": [
    {
     "data": {
      "text/plain": [
       "True"
      ]
     },
     "execution_count": 69,
     "metadata": {},
     "output_type": "execute_result"
    }
   ],
   "source": [
    "' '.isspace()"
   ]
  },
  {
   "cell_type": "code",
   "execution_count": 70,
   "id": "102817f7-f8ba-4834-95c7-00f96b0cdaac",
   "metadata": {},
   "outputs": [],
   "source": [
    "if A.isspace():\n",
    "    print(\"hello\")"
   ]
  },
  {
   "cell_type": "code",
   "execution_count": 71,
   "id": "5cbb0e03-d697-4907-a4cd-44162812e6aa",
   "metadata": {},
   "outputs": [
    {
     "name": "stdout",
     "output_type": "stream",
     "text": [
      "hello\n"
     ]
    }
   ],
   "source": [
    "if ' '.isspace():\n",
    "    print(\"hello\")"
   ]
  },
  {
   "cell_type": "code",
   "execution_count": 72,
   "id": "89ff804c-d622-4bd7-b561-5f8eab177788",
   "metadata": {},
   "outputs": [],
   "source": [
    "str2=\"pwskills\""
   ]
  },
  {
   "cell_type": "code",
   "execution_count": 73,
   "id": "2f6e9574-621e-4535-985c-438d525c1452",
   "metadata": {},
   "outputs": [
    {
     "data": {
      "text/plain": [
       "True"
      ]
     },
     "execution_count": 73,
     "metadata": {},
     "output_type": "execute_result"
    }
   ],
   "source": [
    "str2.endswith('s')"
   ]
  },
  {
   "cell_type": "code",
   "execution_count": 74,
   "id": "5cbbc743-8ffe-47fd-9d14-4fe2fabdad47",
   "metadata": {},
   "outputs": [
    {
     "data": {
      "text/plain": [
       "False"
      ]
     },
     "execution_count": 74,
     "metadata": {},
     "output_type": "execute_result"
    }
   ],
   "source": [
    "str2.endswith('a')"
   ]
  },
  {
   "cell_type": "code",
   "execution_count": 77,
   "id": "b26b7b73-02be-434b-bd36-e54e86119465",
   "metadata": {},
   "outputs": [
    {
     "data": {
      "text/plain": [
       "False"
      ]
     },
     "execution_count": 77,
     "metadata": {},
     "output_type": "execute_result"
    }
   ],
   "source": [
    "str2.startswith('a')"
   ]
  },
  {
   "cell_type": "code",
   "execution_count": 79,
   "id": "5fcb5eb7-1ece-4118-996f-11cf835d9ab7",
   "metadata": {},
   "outputs": [
    {
     "data": {
      "text/plain": [
       "True"
      ]
     },
     "execution_count": 79,
     "metadata": {},
     "output_type": "execute_result"
    }
   ],
   "source": [
    "str2.startswith('p')"
   ]
  },
  {
   "cell_type": "markdown",
   "id": "c8b42cee-a34f-4ef9-a15a-3be0d20a59c6",
   "metadata": {},
   "source": [
    " ### checks if all the char in string are alphanumeric"
   ]
  },
  {
   "cell_type": "code",
   "execution_count": 80,
   "id": "61c7cfe6-41ab-486a-a7b7-474007d0358e",
   "metadata": {},
   "outputs": [],
   "source": [
    "a=\"abcd123\""
   ]
  },
  {
   "cell_type": "code",
   "execution_count": 81,
   "id": "758012dd-d71c-4a94-9f45-2e6bfea889dd",
   "metadata": {},
   "outputs": [
    {
     "data": {
      "text/plain": [
       "True"
      ]
     },
     "execution_count": 81,
     "metadata": {},
     "output_type": "execute_result"
    }
   ],
   "source": [
    "a.isalnum()"
   ]
  },
  {
   "cell_type": "code",
   "execution_count": 84,
   "id": "25ffdbfd-e09f-4c25-ae53-4edc60f804f9",
   "metadata": {},
   "outputs": [
    {
     "name": "stdout",
     "output_type": "stream",
     "text": [
      "7\n"
     ]
    }
   ],
   "source": [
    "# code to count number of character in strings\n",
    "count=0\n",
    "for i in a:\n",
    "    count=count+1\n",
    "    \n",
    "print(count)"
   ]
  },
  {
   "cell_type": "code",
   "execution_count": 85,
   "id": "0117c702-18c8-4059-acd2-939db0f08495",
   "metadata": {},
   "outputs": [
    {
     "data": {
      "text/plain": [
       "7"
      ]
     },
     "execution_count": 85,
     "metadata": {},
     "output_type": "execute_result"
    }
   ],
   "source": [
    "len(a)"
   ]
  },
  {
   "cell_type": "code",
   "execution_count": 87,
   "id": "39ca00bd-7f11-4ab1-826d-c15831941ee3",
   "metadata": {},
   "outputs": [
    {
     "name": "stdout",
     "output_type": "stream",
     "text": [
      "a\n",
      "b\n",
      "c\n",
      "d\n",
      "1\n",
      "2\n",
      "3\n"
     ]
    }
   ],
   "source": [
    "# code to print one by one\n",
    "for i in a:\n",
    "    print(i)"
   ]
  },
  {
   "cell_type": "code",
   "execution_count": 88,
   "id": "d9a5e1dd-6c20-4d39-a11a-271e0c8e00ca",
   "metadata": {},
   "outputs": [
    {
     "name": "stdout",
     "output_type": "stream",
     "text": [
      "a\n",
      "b\n",
      "c\n",
      "d\n",
      "1\n",
      "2\n",
      "3\n"
     ]
    }
   ],
   "source": [
    "# display index wise\n",
    "for i in range(len(a)):\n",
    "    print(a[i])"
   ]
  },
  {
   "cell_type": "code",
   "execution_count": 90,
   "id": "5040e64d-8b6f-45ac-821b-626c56371bd8",
   "metadata": {},
   "outputs": [
    {
     "name": "stdout",
     "output_type": "stream",
     "text": [
      "0 = a\n",
      "1 = b\n",
      "2 = c\n",
      "3 = d\n",
      "4 = 1\n",
      "5 = 2\n",
      "6 = 3\n"
     ]
    }
   ],
   "source": [
    "# display index wise\n",
    "for i in range(len(a)):\n",
    "    print(i,\"=\",a[i])"
   ]
  },
  {
   "cell_type": "markdown",
   "id": "7817068b-fdee-4c8b-ba3b-ecb757540508",
   "metadata": {},
   "source": [
    "### We can use index to iterate string reverse direction"
   ]
  },
  {
   "cell_type": "code",
   "execution_count": 100,
   "id": "308c9edd-0e62-4ace-99d0-8f411d2178aa",
   "metadata": {},
   "outputs": [
    {
     "name": "stdout",
     "output_type": "stream",
     "text": [
      "s\n",
      "l\n",
      "l\n",
      "i\n",
      "k\n",
      "s\n",
      "w\n",
      "p\n"
     ]
    }
   ],
   "source": [
    "for i in range(len(str2)-1,-1,-1):\n",
    "    print(str2[i])"
   ]
  },
  {
   "cell_type": "code",
   "execution_count": 109,
   "id": "12ea2241-cf91-4e28-a94c-1832947d00cb",
   "metadata": {},
   "outputs": [
    {
     "data": {
      "text/plain": [
       "7"
      ]
     },
     "execution_count": 109,
     "metadata": {},
     "output_type": "execute_result"
    }
   ],
   "source": [
    "len(str2)-1\n"
   ]
  },
  {
   "cell_type": "code",
   "execution_count": 102,
   "id": "035ac3a8-c891-4b00-8b32-8fabe4f33e0f",
   "metadata": {},
   "outputs": [
    {
     "data": {
      "text/plain": [
       "(7, -1)"
      ]
     },
     "execution_count": 102,
     "metadata": {},
     "output_type": "execute_result"
    }
   ],
   "source": [
    "len(str2)-1,-1"
   ]
  },
  {
   "cell_type": "code",
   "execution_count": 103,
   "id": "50c66945-9d46-4b47-bdcf-41120c5697d0",
   "metadata": {},
   "outputs": [
    {
     "data": {
      "text/plain": [
       "(7, -1, -1)"
      ]
     },
     "execution_count": 103,
     "metadata": {},
     "output_type": "execute_result"
    }
   ],
   "source": [
    "len(str2)-1,-1,-1"
   ]
  },
  {
   "cell_type": "code",
   "execution_count": 104,
   "id": "dd7cd43f-6405-4bbd-8a46-f2cc50d6a678",
   "metadata": {},
   "outputs": [],
   "source": [
    "string=\"pwskills\"\n",
    "ch=len(string)-1"
   ]
  },
  {
   "cell_type": "code",
   "execution_count": 105,
   "id": "59b2eaac-092e-4004-811b-333594d4274e",
   "metadata": {},
   "outputs": [
    {
     "data": {
      "text/plain": [
       "7"
      ]
     },
     "execution_count": 105,
     "metadata": {},
     "output_type": "execute_result"
    }
   ],
   "source": [
    "ch"
   ]
  },
  {
   "cell_type": "code",
   "execution_count": 106,
   "id": "3f5113a7-40a8-455d-9431-7ebdb52d5d1e",
   "metadata": {},
   "outputs": [
    {
     "name": "stdout",
     "output_type": "stream",
     "text": [
      "s\n",
      "l\n",
      "l\n",
      "i\n",
      "k\n",
      "s\n",
      "w\n",
      "p\n"
     ]
    }
   ],
   "source": [
    "string=\"pwskills\"\n",
    "ch=len(string)-1\n",
    "while ch>=0:\n",
    "    print(string[ch])\n",
    "    ch=ch-1"
   ]
  },
  {
   "cell_type": "code",
   "execution_count": 131,
   "id": "839021be-51bb-47af-8205-0831754b7847",
   "metadata": {},
   "outputs": [
    {
     "data": {
      "text/plain": [
       "'s'"
      ]
     },
     "execution_count": 131,
     "metadata": {},
     "output_type": "execute_result"
    }
   ],
   "source": [
    "string[7]"
   ]
  },
  {
   "cell_type": "code",
   "execution_count": 132,
   "id": "b07f0848-6634-43cc-a8de-8946ef9485fd",
   "metadata": {},
   "outputs": [
    {
     "data": {
      "text/plain": [
       "('s', 'l')"
      ]
     },
     "execution_count": 132,
     "metadata": {},
     "output_type": "execute_result"
    }
   ],
   "source": [
    "string[7],string[6]"
   ]
  },
  {
   "cell_type": "code",
   "execution_count": 133,
   "id": "13dd0b31-7e72-4bb5-9a9b-0954c2ab2c00",
   "metadata": {},
   "outputs": [
    {
     "data": {
      "text/plain": [
       "('s', 'l', 'l')"
      ]
     },
     "execution_count": 133,
     "metadata": {},
     "output_type": "execute_result"
    }
   ],
   "source": [
    "string[7],string[6],string[5]"
   ]
  },
  {
   "cell_type": "code",
   "execution_count": 135,
   "id": "4163bd04-8b97-40d4-b300-903c4e3d87b1",
   "metadata": {},
   "outputs": [
    {
     "name": "stdout",
     "output_type": "stream",
     "text": [
      "s\n",
      "l\n",
      "l\n",
      "i\n",
      "k\n",
      "s\n",
      "w\n",
      "p\n"
     ]
    }
   ],
   "source": [
    "#Best solution \n",
    "for i in range(len(str2)):\n",
    "     print(str2[len(str2) - (i+1)])\n"
   ]
  },
  {
   "cell_type": "code",
   "execution_count": 136,
   "id": "c6026b6e-cf91-4d35-9f9b-9efbece14ae6",
   "metadata": {},
   "outputs": [
    {
     "data": {
      "text/plain": [
       "8"
      ]
     },
     "execution_count": 136,
     "metadata": {},
     "output_type": "execute_result"
    }
   ],
   "source": [
    "len(str2)"
   ]
  },
  {
   "cell_type": "code",
   "execution_count": 137,
   "id": "a7b2f4da-cf5b-4ecd-b25e-7327356ec2a7",
   "metadata": {},
   "outputs": [
    {
     "data": {
      "text/plain": [
       "7"
      ]
     },
     "execution_count": 137,
     "metadata": {},
     "output_type": "execute_result"
    }
   ],
   "source": [
    "i"
   ]
  },
  {
   "cell_type": "code",
   "execution_count": 138,
   "id": "ce35e170-eaf5-48b8-a183-4e9c38d9ff6a",
   "metadata": {},
   "outputs": [
    {
     "data": {
      "text/plain": [
       "0"
      ]
     },
     "execution_count": 138,
     "metadata": {},
     "output_type": "execute_result"
    }
   ],
   "source": [
    "len(str2)-(i+1)  # prints unitil 0"
   ]
  },
  {
   "cell_type": "code",
   "execution_count": 145,
   "id": "8e71f3b3-81bc-4d84-a46e-82c3a54990d3",
   "metadata": {},
   "outputs": [
    {
     "name": "stdout",
     "output_type": "stream",
     "text": [
      "s l l i k s w p "
     ]
    }
   ],
   "source": [
    "#Best solution \n",
    "for i in range(len(str2)):\n",
    "     print(str2[len(str2) - (i+1)],end=\" \")\n"
   ]
  },
  {
   "cell_type": "code",
   "execution_count": 146,
   "id": "ea2a3334-828d-4c0b-a0d3-2f5199406632",
   "metadata": {},
   "outputs": [
    {
     "name": "stdout",
     "output_type": "stream",
     "text": [
      "sllikswp"
     ]
    }
   ],
   "source": [
    "#Best solution \n",
    "for i in range(len(str2)):\n",
    "     print(str2[len(str2) - (i+1)],end=\"\")\n"
   ]
  },
  {
   "cell_type": "code",
   "execution_count": 147,
   "id": "1ab1e381-a0cf-4151-9819-6a90dbe5adb4",
   "metadata": {},
   "outputs": [],
   "source": [
    "#checking if selected string is a vowel or not\n",
    "Name = \"pwskills\"\n",
    "vowels = \"AaEeIiOoUu\""
   ]
  },
  {
   "cell_type": "code",
   "execution_count": 151,
   "id": "1c03a45c-ae78-4710-b2c7-69b59386abf8",
   "metadata": {},
   "outputs": [
    {
     "name": "stdout",
     "output_type": "stream",
     "text": [
      "p is not a vowel\n",
      "w is not a vowel\n",
      "s is not a vowel\n",
      "k is not a vowel\n",
      "i is a vowel\n",
      "l is not a vowel\n",
      "l is not a vowel\n",
      "s is not a vowel\n"
     ]
    }
   ],
   "source": [
    "for ch in Name:\n",
    "    if ch in vowels:\n",
    "        print(\"{} is a vowel\".format(ch))\n",
    "    else:\n",
    "        print(\"{} is not a vowel\".format(ch))"
   ]
  },
  {
   "cell_type": "markdown",
   "id": "bffdcc1c-0926-413d-b56b-307f9f23e87c",
   "metadata": {},
   "source": [
    "# list"
   ]
  },
  {
   "cell_type": "code",
   "execution_count": 1,
   "id": "c4dfead9-ae84-489d-8782-9a00521c05c0",
   "metadata": {},
   "outputs": [
    {
     "data": {
      "text/plain": [
       "[]"
      ]
     },
     "execution_count": 1,
     "metadata": {},
     "output_type": "execute_result"
    }
   ],
   "source": [
    "[]"
   ]
  },
  {
   "cell_type": "code",
   "execution_count": 2,
   "id": "108f723e-7f76-4b2a-87eb-2b0b912a165e",
   "metadata": {},
   "outputs": [
    {
     "data": {
      "text/plain": [
       "list"
      ]
     },
     "execution_count": 2,
     "metadata": {},
     "output_type": "execute_result"
    }
   ],
   "source": [
    "type([])"
   ]
  },
  {
   "cell_type": "code",
   "execution_count": 3,
   "id": "4b03cdf4-7f00-45e7-a6f4-39a5b1c5a880",
   "metadata": {},
   "outputs": [
    {
     "data": {
      "text/plain": [
       "['Krish', 'Naik', 'Pwskills', 32]"
      ]
     },
     "execution_count": 3,
     "metadata": {},
     "output_type": "execute_result"
    }
   ],
   "source": [
    "[\"Krish\",\"Naik\",\"Pwskills\",32]"
   ]
  },
  {
   "cell_type": "code",
   "execution_count": 4,
   "id": "f5fd4354-5378-4aad-b9b8-ce07f7e15c33",
   "metadata": {},
   "outputs": [
    {
     "data": {
      "text/plain": [
       "[1, 2, 3, 4, 5]"
      ]
     },
     "execution_count": 4,
     "metadata": {},
     "output_type": "execute_result"
    }
   ],
   "source": [
    "list([1,2,3,4,5])"
   ]
  },
  {
   "cell_type": "code",
   "execution_count": 7,
   "id": "6808fa98-8168-46cc-8ef1-005409b3f962",
   "metadata": {},
   "outputs": [],
   "source": [
    "str2=\"pwkills\""
   ]
  },
  {
   "cell_type": "code",
   "execution_count": 8,
   "id": "62677bae-3b64-445c-8ee4-68a5fc091839",
   "metadata": {},
   "outputs": [
    {
     "data": {
      "text/plain": [
       "['p', 'w', 'k', 'i', 'l', 'l', 's']"
      ]
     },
     "execution_count": 8,
     "metadata": {},
     "output_type": "execute_result"
    }
   ],
   "source": [
    "list(str2)"
   ]
  },
  {
   "cell_type": "code",
   "execution_count": 3,
   "id": "24e3f095-004a-4e8d-a822-40fdbf51a9bd",
   "metadata": {},
   "outputs": [],
   "source": [
    "str1=\"pw skills data science\""
   ]
  },
  {
   "cell_type": "code",
   "execution_count": 4,
   "id": "7d07de23-1ef4-46d5-89b8-85067291ac85",
   "metadata": {},
   "outputs": [
    {
     "data": {
      "text/plain": [
       "['p',\n",
       " 'w',\n",
       " ' ',\n",
       " 's',\n",
       " 'k',\n",
       " 'i',\n",
       " 'l',\n",
       " 'l',\n",
       " 's',\n",
       " ' ',\n",
       " 'd',\n",
       " 'a',\n",
       " 't',\n",
       " 'a',\n",
       " ' ',\n",
       " 's',\n",
       " 'c',\n",
       " 'i',\n",
       " 'e',\n",
       " 'n',\n",
       " 'c',\n",
       " 'e']"
      ]
     },
     "execution_count": 4,
     "metadata": {},
     "output_type": "execute_result"
    }
   ],
   "source": [
    "list(str1)"
   ]
  },
  {
   "cell_type": "code",
   "execution_count": 5,
   "id": "ab0e7276-6ebf-4d79-a68c-85e2163769f5",
   "metadata": {},
   "outputs": [
    {
     "data": {
      "text/plain": [
       "['pw', 'skills', 'data', 'science']"
      ]
     },
     "execution_count": 5,
     "metadata": {},
     "output_type": "execute_result"
    }
   ],
   "source": [
    "list(str1.split(\" \"))"
   ]
  },
  {
   "cell_type": "code",
   "execution_count": 6,
   "id": "74800ff4-ff61-4b34-b7ad-e709da0bd9c6",
   "metadata": {},
   "outputs": [
    {
     "data": {
      "text/plain": [
       "['pw skills data sci', 'nc', '']"
      ]
     },
     "execution_count": 6,
     "metadata": {},
     "output_type": "execute_result"
    }
   ],
   "source": [
    "list(str1.split(\"e\"))"
   ]
  },
  {
   "cell_type": "code",
   "execution_count": 7,
   "id": "58a4b742-8cce-4bdd-b9af-28675f3111f7",
   "metadata": {},
   "outputs": [
    {
     "data": {
      "text/plain": [
       "['pw', 'skills', 'data', 'science']"
      ]
     },
     "execution_count": 7,
     "metadata": {},
     "output_type": "execute_result"
    }
   ],
   "source": [
    "str1.split(\" \")"
   ]
  },
  {
   "cell_type": "code",
   "execution_count": 8,
   "id": "573e6a1e-8e33-45e4-a102-d874bddf4772",
   "metadata": {},
   "outputs": [],
   "source": [
    "lst1=str1.split(\" \")"
   ]
  },
  {
   "cell_type": "code",
   "execution_count": 9,
   "id": "2410b5e7-66fc-4638-b3fe-2f04409ff2ea",
   "metadata": {},
   "outputs": [
    {
     "data": {
      "text/plain": [
       "['pw', 'skills', 'data', 'science']"
      ]
     },
     "execution_count": 9,
     "metadata": {},
     "output_type": "execute_result"
    }
   ],
   "source": [
    "lst1"
   ]
  },
  {
   "cell_type": "code",
   "execution_count": 21,
   "id": "52166418-0baa-4af0-8d4e-61a34b186413",
   "metadata": {},
   "outputs": [
    {
     "data": {
      "text/plain": [
       "['skills', 'data', 'science']"
      ]
     },
     "execution_count": 21,
     "metadata": {},
     "output_type": "execute_result"
    }
   ],
   "source": [
    "lst1[1:]"
   ]
  },
  {
   "cell_type": "code",
   "execution_count": 22,
   "id": "50d4604f-1f2a-4f6a-94c6-e8d8380f1565",
   "metadata": {},
   "outputs": [
    {
     "data": {
      "text/plain": [
       "['pw', 'skills', 'data', 'science']"
      ]
     },
     "execution_count": 22,
     "metadata": {},
     "output_type": "execute_result"
    }
   ],
   "source": [
    "lst1[0:]"
   ]
  },
  {
   "cell_type": "code",
   "execution_count": 23,
   "id": "7dc4ee15-90cf-45da-94fc-5a876837a9f1",
   "metadata": {},
   "outputs": [
    {
     "data": {
      "text/plain": [
       "['data', 'science']"
      ]
     },
     "execution_count": 23,
     "metadata": {},
     "output_type": "execute_result"
    }
   ],
   "source": [
    "lst1[2:]"
   ]
  },
  {
   "cell_type": "code",
   "execution_count": 26,
   "id": "4c5d1afe-6297-44c2-9384-e4666393856e",
   "metadata": {},
   "outputs": [],
   "source": [
    "lst1[2]=\"hi\""
   ]
  },
  {
   "cell_type": "code",
   "execution_count": 27,
   "id": "1081d5d1-6849-4d9a-8e47-35f22624cf10",
   "metadata": {},
   "outputs": [
    {
     "data": {
      "text/plain": [
       "['pw', 'skills', 'hi', 'science']"
      ]
     },
     "execution_count": 27,
     "metadata": {},
     "output_type": "execute_result"
    }
   ],
   "source": [
    "lst1"
   ]
  },
  {
   "cell_type": "code",
   "execution_count": 28,
   "id": "9a85b6b2-ec4e-4184-b0d0-599e0ead23f0",
   "metadata": {},
   "outputs": [
    {
     "data": {
      "text/plain": [
       "'hi'"
      ]
     },
     "execution_count": 28,
     "metadata": {},
     "output_type": "execute_result"
    }
   ],
   "source": [
    "lst1[-2]"
   ]
  },
  {
   "cell_type": "code",
   "execution_count": 29,
   "id": "f39d7cf4-9c7f-47ae-96ac-b7af257cf953",
   "metadata": {},
   "outputs": [
    {
     "data": {
      "text/plain": [
       "['science', 'skills']"
      ]
     },
     "execution_count": 29,
     "metadata": {},
     "output_type": "execute_result"
    }
   ],
   "source": [
    "lst1[::-2]"
   ]
  },
  {
   "cell_type": "code",
   "execution_count": 33,
   "id": "62015bb1-d6a9-41c9-93cc-5aa876a9faa0",
   "metadata": {},
   "outputs": [
    {
     "data": {
      "text/plain": [
       "['hi']"
      ]
     },
     "execution_count": 33,
     "metadata": {},
     "output_type": "execute_result"
    }
   ],
   "source": [
    "lst1[2:-1]"
   ]
  },
  {
   "cell_type": "code",
   "execution_count": 34,
   "id": "8b211845-d22f-4b39-819e-6f714023151e",
   "metadata": {},
   "outputs": [
    {
     "data": {
      "text/plain": [
       "['skills', 'hi']"
      ]
     },
     "execution_count": 34,
     "metadata": {},
     "output_type": "execute_result"
    }
   ],
   "source": [
    "lst1[1:-1]"
   ]
  },
  {
   "cell_type": "code",
   "execution_count": 35,
   "id": "1f04dbf6-ba88-48fd-8d67-e27f9d85be40",
   "metadata": {},
   "outputs": [
    {
     "data": {
      "text/plain": [
       "['pw', 'skills', 'hi', 'science']"
      ]
     },
     "execution_count": 35,
     "metadata": {},
     "output_type": "execute_result"
    }
   ],
   "source": [
    "lst1"
   ]
  },
  {
   "cell_type": "code",
   "execution_count": 36,
   "id": "66e23ca2-2454-450e-b971-b35339e8f28e",
   "metadata": {},
   "outputs": [
    {
     "data": {
      "text/plain": [
       "['pw', 'skills', 'hi', 'science', 'data', 4]"
      ]
     },
     "execution_count": 36,
     "metadata": {},
     "output_type": "execute_result"
    }
   ],
   "source": [
    "#concatination operation\n",
    "lst1 + ['data',4]"
   ]
  },
  {
   "cell_type": "code",
   "execution_count": 40,
   "id": "7d9038bb-64d3-4655-93ba-80914e092ba0",
   "metadata": {},
   "outputs": [
    {
     "data": {
      "text/plain": [
       "['pw', 'skills', 'hi', 'science', 'data', 4, 'hello']"
      ]
     },
     "execution_count": 40,
     "metadata": {},
     "output_type": "execute_result"
    }
   ],
   "source": [
    "#concatination operation\n",
    "lst1 + ['data',4,'hello']"
   ]
  },
  {
   "cell_type": "code",
   "execution_count": 41,
   "id": "20ee5307-9e81-4faa-a2ad-e499a03b743c",
   "metadata": {},
   "outputs": [
    {
     "data": {
      "text/plain": [
       "['pw', 'skills', 'hi', 'science', 'data']"
      ]
     },
     "execution_count": 41,
     "metadata": {},
     "output_type": "execute_result"
    }
   ],
   "source": [
    "#concatination operation\n",
    "lst1 + ['data']"
   ]
  },
  {
   "cell_type": "code",
   "execution_count": 42,
   "id": "f6199141-40a6-4e2e-ae2b-416612b9a339",
   "metadata": {},
   "outputs": [
    {
     "data": {
      "text/plain": [
       "['pw', 'skills', 'hi', 'science']"
      ]
     },
     "execution_count": 42,
     "metadata": {},
     "output_type": "execute_result"
    }
   ],
   "source": [
    "lst1"
   ]
  },
  {
   "cell_type": "code",
   "execution_count": 43,
   "id": "6736da30-197f-4d80-a022-1b17f82b7af5",
   "metadata": {},
   "outputs": [
    {
     "data": {
      "text/plain": [
       "['pw', 'skills', 'hi', 'science', ['data']]"
      ]
     },
     "execution_count": 43,
     "metadata": {},
     "output_type": "execute_result"
    }
   ],
   "source": [
    "# multi concatination operation\n",
    "lst1 + [['data']]"
   ]
  },
  {
   "cell_type": "code",
   "execution_count": 45,
   "id": "357b48f5-a62d-448b-9283-a08cd638cd19",
   "metadata": {},
   "outputs": [],
   "source": [
    "\n",
    "lst2=lst1 + [['data']]"
   ]
  },
  {
   "cell_type": "code",
   "execution_count": 47,
   "id": "d802cfc6-7af1-463b-8544-f13922b8689f",
   "metadata": {},
   "outputs": [
    {
     "data": {
      "text/plain": [
       "['data']"
      ]
     },
     "execution_count": 47,
     "metadata": {},
     "output_type": "execute_result"
    }
   ],
   "source": [
    "lst2[-1]"
   ]
  },
  {
   "cell_type": "code",
   "execution_count": 48,
   "id": "a0295615-5149-410e-86ab-9ad5357eba60",
   "metadata": {},
   "outputs": [
    {
     "data": {
      "text/plain": [
       "'data'"
      ]
     },
     "execution_count": 48,
     "metadata": {},
     "output_type": "execute_result"
    }
   ],
   "source": [
    "lst2[-1][0]"
   ]
  },
  {
   "cell_type": "code",
   "execution_count": 10,
   "id": "b085a54b-f9ed-4773-af1f-d9f8db57a6af",
   "metadata": {},
   "outputs": [
    {
     "data": {
      "text/plain": [
       "['pw', 'skills', 'data', 'science']"
      ]
     },
     "execution_count": 10,
     "metadata": {},
     "output_type": "execute_result"
    }
   ],
   "source": [
    "lst1"
   ]
  },
  {
   "cell_type": "code",
   "execution_count": 11,
   "id": "05dc2a4f-7ba4-4e26-9376-777e17e5b89b",
   "metadata": {},
   "outputs": [
    {
     "data": {
      "text/plain": [
       "['pw', 'skills', 'data', 'science', 'pw', 'skills', 'data', 'science']"
      ]
     },
     "execution_count": 11,
     "metadata": {},
     "output_type": "execute_result"
    }
   ],
   "source": [
    "lst1 * 2    "
   ]
  },
  {
   "cell_type": "code",
   "execution_count": 12,
   "id": "320c1752-b848-41db-beac-4739e7592e12",
   "metadata": {},
   "outputs": [
    {
     "data": {
      "text/plain": [
       "['pw', 'skills', 'data', 'science']"
      ]
     },
     "execution_count": 12,
     "metadata": {},
     "output_type": "execute_result"
    }
   ],
   "source": [
    "lst1"
   ]
  },
  {
   "cell_type": "code",
   "execution_count": 13,
   "id": "030d2233-c127-4899-a69f-64703edab095",
   "metadata": {},
   "outputs": [],
   "source": [
    "lst1=['pw','skills','data','science','masters']"
   ]
  },
  {
   "cell_type": "code",
   "execution_count": 14,
   "id": "b7cab3e9-f5d1-4605-b3ff-a5d9963fcb77",
   "metadata": {},
   "outputs": [
    {
     "data": {
      "text/plain": [
       "['pw', 'skills', 'data', 'science', 'masters']"
      ]
     },
     "execution_count": 14,
     "metadata": {},
     "output_type": "execute_result"
    }
   ],
   "source": [
    "lst1"
   ]
  },
  {
   "cell_type": "code",
   "execution_count": 15,
   "id": "3340d6a9-8a78-4377-bc34-d67fe4463000",
   "metadata": {},
   "outputs": [
    {
     "name": "stdout",
     "output_type": "stream",
     "text": [
      "pw\n",
      "skills\n",
      "data\n",
      "science\n",
      "masters\n"
     ]
    }
   ],
   "source": [
    "for element in lst1:\n",
    "   print(element)\n",
    "    "
   ]
  },
  {
   "cell_type": "code",
   "execution_count": 16,
   "id": "6270ac1c-a976-419c-bc0b-8abfe7f0b72b",
   "metadata": {},
   "outputs": [
    {
     "name": "stdout",
     "output_type": "stream",
     "text": [
      "pw\n",
      "pw\n",
      "skills\n",
      "skills\n",
      "data\n",
      "data\n",
      "science\n",
      "science\n",
      "masters\n",
      "masters\n"
     ]
    }
   ],
   "source": [
    "for element in lst1:\n",
    "   print(element)\n",
    "   if element in lst1:\n",
    "        print(element)\n",
    "    "
   ]
  },
  {
   "cell_type": "code",
   "execution_count": 17,
   "id": "6b89ebbd-2f92-4ce7-b46a-1254eb12f58c",
   "metadata": {},
   "outputs": [
    {
     "name": "stdout",
     "output_type": "stream",
     "text": [
      "present\n"
     ]
    }
   ],
   "source": [
    "if \"science\" in lst1:\n",
    "    print(\"present\")"
   ]
  },
  {
   "cell_type": "code",
   "execution_count": 21,
   "id": "5951e494-968d-4d68-8bbc-0383efe3acdc",
   "metadata": {},
   "outputs": [
    {
     "name": "stdout",
     "output_type": "stream",
     "text": [
      "science\n"
     ]
    }
   ],
   "source": [
    "for elements in lst1:\n",
    "    if elements==\"science\":\n",
    "        print(elements)\n",
    "        break"
   ]
  },
  {
   "cell_type": "code",
   "execution_count": 22,
   "id": "9df35a87-6d2e-4e71-b67e-4fadd229320f",
   "metadata": {},
   "outputs": [
    {
     "data": {
      "text/plain": [
       "True"
      ]
     },
     "execution_count": 22,
     "metadata": {},
     "output_type": "execute_result"
    }
   ],
   "source": [
    "## check elements inside a list\n",
    "lst=[1,2,3,4]\n",
    "4 in lst"
   ]
  },
  {
   "cell_type": "code",
   "execution_count": 24,
   "id": "a6ca86fe-d373-4d07-bcd6-da64779453af",
   "metadata": {},
   "outputs": [
    {
     "data": {
      "text/plain": [
       "True"
      ]
     },
     "execution_count": 24,
     "metadata": {},
     "output_type": "execute_result"
    }
   ],
   "source": [
    "## check elements inside a list\n",
    "lst=[1,2,3,4]\n",
    "2.0 in lst"
   ]
  },
  {
   "cell_type": "code",
   "execution_count": 23,
   "id": "95a9b23d-8a6c-4078-9ea8-c70856114b2d",
   "metadata": {},
   "outputs": [
    {
     "data": {
      "text/plain": [
       "False"
      ]
     },
     "execution_count": 23,
     "metadata": {},
     "output_type": "execute_result"
    }
   ],
   "source": [
    "## check elements inside a list\n",
    "lst=[1,2,3,4]\n",
    "5 in lst"
   ]
  },
  {
   "cell_type": "code",
   "execution_count": 25,
   "id": "c5cdb83e-4919-4b29-bac5-67f5ba6f9819",
   "metadata": {},
   "outputs": [],
   "source": [
    "lst1=[\"zebra\",\"monkey\",\"donkey\",\"lion\"]\n",
    "lst2=[5,6,2,9,5,8,6]"
   ]
  },
  {
   "cell_type": "code",
   "execution_count": 26,
   "id": "283d6b63-ae7e-400c-87c0-69523f2052ef",
   "metadata": {},
   "outputs": [
    {
     "name": "stdout",
     "output_type": "stream",
     "text": [
      "zebra\n"
     ]
    }
   ],
   "source": [
    "print(max(lst1))    # checks alphabet through ascii character"
   ]
  },
  {
   "cell_type": "code",
   "execution_count": 27,
   "id": "6a36c3e0-3e84-4417-a23b-4aa85b975826",
   "metadata": {},
   "outputs": [
    {
     "name": "stdout",
     "output_type": "stream",
     "text": [
      "donkey\n"
     ]
    }
   ],
   "source": [
    "print(min(lst1))"
   ]
  },
  {
   "cell_type": "code",
   "execution_count": 28,
   "id": "071fbfa4-4496-4d0a-bda3-476cf8bc91fe",
   "metadata": {},
   "outputs": [
    {
     "name": "stdout",
     "output_type": "stream",
     "text": [
      "2\n"
     ]
    }
   ],
   "source": [
    "print(min(lst2))"
   ]
  },
  {
   "cell_type": "code",
   "execution_count": 29,
   "id": "902d1127-87fb-4b18-993f-34046eac4531",
   "metadata": {},
   "outputs": [
    {
     "name": "stdout",
     "output_type": "stream",
     "text": [
      "9\n"
     ]
    }
   ],
   "source": [
    "print(max(lst2))"
   ]
  },
  {
   "cell_type": "code",
   "execution_count": 30,
   "id": "ec4eda2d-ae84-43cb-871f-82177341c6dd",
   "metadata": {},
   "outputs": [
    {
     "data": {
      "text/plain": [
       "True"
      ]
     },
     "execution_count": 30,
     "metadata": {},
     "output_type": "execute_result"
    }
   ],
   "source": [
    "lst3=[5,6,2,9,5,8,6]\n",
    "type(lst3[0])  ## output is integer\n",
    "type(5.0)  ### output is float\n",
    "5.0 in lst3 ## output is TRUE\n"
   ]
  },
  {
   "cell_type": "code",
   "execution_count": 31,
   "id": "b6000cd8-91e8-4c6c-9023-2a8e28539726",
   "metadata": {},
   "outputs": [
    {
     "data": {
      "text/plain": [
       "True"
      ]
     },
     "execution_count": 31,
     "metadata": {},
     "output_type": "execute_result"
    }
   ],
   "source": [
    "5==5.0"
   ]
  },
  {
   "cell_type": "code",
   "execution_count": 32,
   "id": "bd7d52d4-03b1-4d44-b7b0-9baa88e87e3e",
   "metadata": {},
   "outputs": [],
   "source": [
    "## Append"
   ]
  },
  {
   "cell_type": "code",
   "execution_count": 33,
   "id": "868a723c-f6a4-41c6-a151-88ccc982b0ce",
   "metadata": {},
   "outputs": [],
   "source": [
    "lst=[1,2,3,4,5,6]"
   ]
  },
  {
   "cell_type": "code",
   "execution_count": 34,
   "id": "0cd36ca2-8b10-4fd9-9aa2-fbba8ba98d4d",
   "metadata": {},
   "outputs": [
    {
     "data": {
      "text/plain": [
       "[1, 2, 3, 4, 5, 6]"
      ]
     },
     "execution_count": 34,
     "metadata": {},
     "output_type": "execute_result"
    }
   ],
   "source": [
    "lst"
   ]
  },
  {
   "cell_type": "code",
   "execution_count": 35,
   "id": "2571c0cc-82d7-4ed7-8e9b-6152c798e3e2",
   "metadata": {},
   "outputs": [],
   "source": [
    "#in place operation\n",
    "lst.append(\"pw skills\")"
   ]
  },
  {
   "cell_type": "code",
   "execution_count": 36,
   "id": "bd3985a8-74fc-4ce7-b50f-b0fc7e061fc0",
   "metadata": {},
   "outputs": [
    {
     "data": {
      "text/plain": [
       "[1, 2, 3, 4, 5, 6, 'pw skills']"
      ]
     },
     "execution_count": 36,
     "metadata": {},
     "output_type": "execute_result"
    }
   ],
   "source": [
    "lst"
   ]
  },
  {
   "cell_type": "code",
   "execution_count": 37,
   "id": "117141fd-eff4-4168-ae14-3388d98c46c6",
   "metadata": {},
   "outputs": [],
   "source": [
    "lst.append(['Data','Science','Masters'])"
   ]
  },
  {
   "cell_type": "code",
   "execution_count": 38,
   "id": "99831302-8677-4793-ab0b-41d877c0348e",
   "metadata": {},
   "outputs": [
    {
     "data": {
      "text/plain": [
       "[1, 2, 3, 4, 5, 6, 'pw skills', ['Data', 'Science', 'Masters']]"
      ]
     },
     "execution_count": 38,
     "metadata": {},
     "output_type": "execute_result"
    }
   ],
   "source": [
    "lst"
   ]
  },
  {
   "cell_type": "code",
   "execution_count": 54,
   "id": "fe4cd7c8-58eb-4178-bb73-0438bdf0e8ff",
   "metadata": {},
   "outputs": [],
   "source": [
    "lst1=[\"Zebra\",\"Monkey\",\"Donkey\",\"Lion\"]"
   ]
  },
  {
   "cell_type": "code",
   "execution_count": 55,
   "id": "4179a08c-a482-4c9b-8d69-a5cbe693eed7",
   "metadata": {},
   "outputs": [
    {
     "data": {
      "text/plain": [
       "['Zebra', 'Monkey', 'Donkey', 'Lion']"
      ]
     },
     "execution_count": 55,
     "metadata": {},
     "output_type": "execute_result"
    }
   ],
   "source": [
    "lst1"
   ]
  },
  {
   "cell_type": "code",
   "execution_count": 56,
   "id": "67d67495-88e1-445d-a8eb-a0c0489a87c3",
   "metadata": {},
   "outputs": [
    {
     "data": {
      "text/plain": [
       "'Lion'"
      ]
     },
     "execution_count": 56,
     "metadata": {},
     "output_type": "execute_result"
    }
   ],
   "source": [
    "lst1.pop()"
   ]
  },
  {
   "cell_type": "code",
   "execution_count": 57,
   "id": "95f43fb7-a735-45d8-a6dd-53427725c9df",
   "metadata": {},
   "outputs": [
    {
     "data": {
      "text/plain": [
       "['Zebra', 'Monkey', 'Donkey']"
      ]
     },
     "execution_count": 57,
     "metadata": {},
     "output_type": "execute_result"
    }
   ],
   "source": [
    "lst1"
   ]
  },
  {
   "cell_type": "code",
   "execution_count": 58,
   "id": "bcb90d2f-0f08-42bc-b924-e464777d967e",
   "metadata": {},
   "outputs": [
    {
     "data": {
      "text/plain": [
       "'Zebra'"
      ]
     },
     "execution_count": 58,
     "metadata": {},
     "output_type": "execute_result"
    }
   ],
   "source": [
    "lst1.pop(0)"
   ]
  },
  {
   "cell_type": "code",
   "execution_count": 59,
   "id": "7d743701-c59d-45df-b3b1-753d219e05ae",
   "metadata": {},
   "outputs": [
    {
     "data": {
      "text/plain": [
       "['Monkey', 'Donkey']"
      ]
     },
     "execution_count": 59,
     "metadata": {},
     "output_type": "execute_result"
    }
   ],
   "source": [
    "lst1"
   ]
  },
  {
   "cell_type": "code",
   "execution_count": 60,
   "id": "ae555edd-93d6-4a6a-939c-c71dd9802f57",
   "metadata": {},
   "outputs": [],
   "source": [
    "lst1=[\"Zebra\",\"Monkey\",\"Donkey\",\"Lion\"]"
   ]
  },
  {
   "cell_type": "code",
   "execution_count": 61,
   "id": "d08f05cf-c72b-4242-91e9-dc852296ea98",
   "metadata": {},
   "outputs": [
    {
     "data": {
      "text/plain": [
       "'Zebra'"
      ]
     },
     "execution_count": 61,
     "metadata": {},
     "output_type": "execute_result"
    }
   ],
   "source": [
    "removed_element=lst1.pop(0)\n",
    "removed_element"
   ]
  },
  {
   "cell_type": "code",
   "execution_count": 62,
   "id": "d970fabc-142c-4619-94de-a40490b41f49",
   "metadata": {},
   "outputs": [
    {
     "data": {
      "text/plain": [
       "'Lion'"
      ]
     },
     "execution_count": 62,
     "metadata": {},
     "output_type": "execute_result"
    }
   ],
   "source": [
    "removed_element1=lst1.pop()\n",
    "removed_element1"
   ]
  },
  {
   "cell_type": "code",
   "execution_count": 63,
   "id": "4c3f3ab8-0fc7-4f73-8305-d5c618476270",
   "metadata": {},
   "outputs": [
    {
     "data": {
      "text/plain": [
       "['Monkey', 'Donkey']"
      ]
     },
     "execution_count": 63,
     "metadata": {},
     "output_type": "execute_result"
    }
   ],
   "source": [
    "lst1"
   ]
  },
  {
   "cell_type": "code",
   "execution_count": 64,
   "id": "a2b8f1b1-8b2a-4ccb-9939-4b57d298bc2d",
   "metadata": {},
   "outputs": [],
   "source": [
    "## Sorting and Reverse method in list"
   ]
  },
  {
   "cell_type": "code",
   "execution_count": 65,
   "id": "1fef04c2-b239-424a-93dc-84438917713d",
   "metadata": {},
   "outputs": [
    {
     "data": {
      "text/plain": [
       "['q', 'e', 'f', 's', 't', 'u']"
      ]
     },
     "execution_count": 65,
     "metadata": {},
     "output_type": "execute_result"
    }
   ],
   "source": [
    "new_list=['q','e','f','s','t','u']\n",
    "new_list"
   ]
  },
  {
   "cell_type": "code",
   "execution_count": 66,
   "id": "e19f6e72-cf20-41bb-addf-d8f4d23ed61f",
   "metadata": {},
   "outputs": [
    {
     "data": {
      "text/plain": [
       "['u', 't', 's', 'f', 'e', 'q']"
      ]
     },
     "execution_count": 66,
     "metadata": {},
     "output_type": "execute_result"
    }
   ],
   "source": [
    "new_list[::-1]"
   ]
  },
  {
   "cell_type": "code",
   "execution_count": 67,
   "id": "9bac6111-a598-49ae-bf98-62190385212e",
   "metadata": {},
   "outputs": [],
   "source": [
    "# in place operation\n",
    "new_list.reverse()"
   ]
  },
  {
   "cell_type": "code",
   "execution_count": 68,
   "id": "8b75f2e6-e4b0-44c2-b0c0-64a6938985bb",
   "metadata": {},
   "outputs": [
    {
     "data": {
      "text/plain": [
       "['u', 't', 's', 'f', 'e', 'q']"
      ]
     },
     "execution_count": 68,
     "metadata": {},
     "output_type": "execute_result"
    }
   ],
   "source": [
    "new_list"
   ]
  },
  {
   "cell_type": "code",
   "execution_count": 69,
   "id": "b51a986c-88f3-4553-8c96-69f4b3cf2668",
   "metadata": {},
   "outputs": [],
   "source": [
    "new_list.sort()"
   ]
  },
  {
   "cell_type": "code",
   "execution_count": 70,
   "id": "6e033e8f-b89d-430f-a70c-30c235ced949",
   "metadata": {},
   "outputs": [
    {
     "data": {
      "text/plain": [
       "['e', 'f', 'q', 's', 't', 'u']"
      ]
     },
     "execution_count": 70,
     "metadata": {},
     "output_type": "execute_result"
    }
   ],
   "source": [
    "new_list"
   ]
  },
  {
   "cell_type": "code",
   "execution_count": 72,
   "id": "0b6a0c13-2229-4cde-946b-5704b3c45cc5",
   "metadata": {},
   "outputs": [],
   "source": [
    "lst=[1,2,3,4,5,6]\n",
    "lst.append(10)"
   ]
  },
  {
   "cell_type": "code",
   "execution_count": 73,
   "id": "f82ac2c5-9c4a-4773-bb5b-3a92d91f3d28",
   "metadata": {},
   "outputs": [
    {
     "data": {
      "text/plain": [
       "[1, 2, 3, 4, 5, 6, 10]"
      ]
     },
     "execution_count": 73,
     "metadata": {},
     "output_type": "execute_result"
    }
   ],
   "source": [
    "lst"
   ]
  },
  {
   "cell_type": "code",
   "execution_count": 74,
   "id": "6c43cd33-ecd0-4e9e-95d2-91a9803a2ca0",
   "metadata": {},
   "outputs": [],
   "source": [
    "lst.append(['pw','skills'])  # not suitable for adding two elements at a same time"
   ]
  },
  {
   "cell_type": "code",
   "execution_count": 75,
   "id": "e8cdeeaa-822a-4a5e-9913-e2f475fed267",
   "metadata": {},
   "outputs": [
    {
     "data": {
      "text/plain": [
       "[1, 2, 3, 4, 5, 6, 10, ['pw', 'skills']]"
      ]
     },
     "execution_count": 75,
     "metadata": {},
     "output_type": "execute_result"
    }
   ],
   "source": [
    "lst"
   ]
  },
  {
   "cell_type": "code",
   "execution_count": 76,
   "id": "2d2372b8-c3b5-4931-855a-38bd57714d82",
   "metadata": {},
   "outputs": [],
   "source": [
    "lst.extend(['pw','skills'])"
   ]
  },
  {
   "cell_type": "code",
   "execution_count": 77,
   "id": "99491142-79b4-4683-b9ab-fe649d4ffd4d",
   "metadata": {},
   "outputs": [
    {
     "data": {
      "text/plain": [
       "[1, 2, 3, 4, 5, 6, 10, ['pw', 'skills'], 'pw', 'skills']"
      ]
     },
     "execution_count": 77,
     "metadata": {},
     "output_type": "execute_result"
    }
   ],
   "source": [
    "lst"
   ]
  },
  {
   "cell_type": "code",
   "execution_count": 78,
   "id": "dfeaaa10-ab23-48e1-936b-b788daff2a34",
   "metadata": {},
   "outputs": [
    {
     "data": {
      "text/plain": [
       "['pw', 'skills']"
      ]
     },
     "execution_count": 78,
     "metadata": {},
     "output_type": "execute_result"
    }
   ],
   "source": [
    "lst.pop(7)"
   ]
  },
  {
   "cell_type": "code",
   "execution_count": 79,
   "id": "2cfa4177-57fd-46e2-9899-a455849aa505",
   "metadata": {},
   "outputs": [
    {
     "data": {
      "text/plain": [
       "[1, 2, 3, 4, 5, 6, 10, 'pw', 'skills']"
      ]
     },
     "execution_count": 79,
     "metadata": {},
     "output_type": "execute_result"
    }
   ],
   "source": [
    "lst"
   ]
  },
  {
   "cell_type": "markdown",
   "id": "e41d9b39-c0bc-446e-a29e-e39d6f42bb99",
   "metadata": {},
   "source": [
    "## nested list"
   ]
  },
  {
   "cell_type": "code",
   "execution_count": 81,
   "id": "5d3fab8f-2ade-4eb1-a3f7-85841d121e7f",
   "metadata": {},
   "outputs": [],
   "source": [
    "# Let's make three lists\n",
    "lst_1=[1,2,3]\n",
    "lst_2=[4,5,6]\n",
    "lst_3=[7,8,9]\n",
    "\n",
    "# Make a list of lists to form a matrix\n",
    "matrix = [lst_1,lst_2,lst_3]"
   ]
  },
  {
   "cell_type": "code",
   "execution_count": 82,
   "id": "c66e0db7-fa7d-4e94-9728-9239764b19ac",
   "metadata": {},
   "outputs": [
    {
     "data": {
      "text/plain": [
       "[[1, 2, 3], [4, 5, 6], [7, 8, 9]]"
      ]
     },
     "execution_count": 82,
     "metadata": {},
     "output_type": "execute_result"
    }
   ],
   "source": [
    "matrix"
   ]
  },
  {
   "cell_type": "code",
   "execution_count": 83,
   "id": "20b03a4a-05e0-431d-ac9c-6de2e8311481",
   "metadata": {},
   "outputs": [
    {
     "data": {
      "text/plain": [
       "1"
      ]
     },
     "execution_count": 83,
     "metadata": {},
     "output_type": "execute_result"
    }
   ],
   "source": [
    "matrix[0][0]"
   ]
  },
  {
   "cell_type": "code",
   "execution_count": 84,
   "id": "799bae41-369d-42e2-a46b-c07c0f8c1307",
   "metadata": {},
   "outputs": [
    {
     "data": {
      "text/plain": [
       "2"
      ]
     },
     "execution_count": 84,
     "metadata": {},
     "output_type": "execute_result"
    }
   ],
   "source": [
    "matrix[0][1]"
   ]
  },
  {
   "cell_type": "code",
   "execution_count": 85,
   "id": "7ef74ade-4b0e-41cc-9f1f-b6a595a2bb23",
   "metadata": {},
   "outputs": [
    {
     "data": {
      "text/plain": [
       "3"
      ]
     },
     "execution_count": 85,
     "metadata": {},
     "output_type": "execute_result"
    }
   ],
   "source": [
    "matrix[0][2]"
   ]
  },
  {
   "cell_type": "code",
   "execution_count": 86,
   "id": "7da01b0f-7fa7-496f-b3df-4ef547a41cf0",
   "metadata": {},
   "outputs": [
    {
     "data": {
      "text/plain": [
       "4"
      ]
     },
     "execution_count": 86,
     "metadata": {},
     "output_type": "execute_result"
    }
   ],
   "source": [
    "matrix[1][0]"
   ]
  },
  {
   "cell_type": "code",
   "execution_count": 87,
   "id": "0e6b2a7e-0cb8-4997-a6f8-68e1d282ba6e",
   "metadata": {},
   "outputs": [
    {
     "data": {
      "text/plain": [
       "5"
      ]
     },
     "execution_count": 87,
     "metadata": {},
     "output_type": "execute_result"
    }
   ],
   "source": [
    "matrix[1][1]"
   ]
  },
  {
   "cell_type": "code",
   "execution_count": 88,
   "id": "79486a9b-583a-4981-885b-fc9d93479e43",
   "metadata": {},
   "outputs": [
    {
     "data": {
      "text/plain": [
       "6"
      ]
     },
     "execution_count": 88,
     "metadata": {},
     "output_type": "execute_result"
    }
   ],
   "source": [
    "matrix[1][2]"
   ]
  },
  {
   "cell_type": "code",
   "execution_count": 89,
   "id": "8c693a9c-03e2-4414-b127-71926aa7e879",
   "metadata": {},
   "outputs": [
    {
     "data": {
      "text/plain": [
       "7"
      ]
     },
     "execution_count": 89,
     "metadata": {},
     "output_type": "execute_result"
    }
   ],
   "source": [
    "matrix[2][0]"
   ]
  },
  {
   "cell_type": "code",
   "execution_count": 90,
   "id": "fab6149b-e108-4d51-8c5b-3bdfae756e89",
   "metadata": {},
   "outputs": [
    {
     "data": {
      "text/plain": [
       "8"
      ]
     },
     "execution_count": 90,
     "metadata": {},
     "output_type": "execute_result"
    }
   ],
   "source": [
    "matrix[2][1]"
   ]
  },
  {
   "cell_type": "code",
   "execution_count": 91,
   "id": "bcc802bb-baca-4666-9897-48c3f6e1c984",
   "metadata": {},
   "outputs": [
    {
     "data": {
      "text/plain": [
       "9"
      ]
     },
     "execution_count": 91,
     "metadata": {},
     "output_type": "execute_result"
    }
   ],
   "source": [
    "matrix[2][2]"
   ]
  },
  {
   "cell_type": "code",
   "execution_count": 95,
   "id": "4da99e6c-3cdf-4a96-99c8-3af25340c7eb",
   "metadata": {},
   "outputs": [
    {
     "data": {
      "text/plain": [
       "[8, 9]"
      ]
     },
     "execution_count": 95,
     "metadata": {},
     "output_type": "execute_result"
    }
   ],
   "source": [
    "matrix[2][1:]"
   ]
  },
  {
   "cell_type": "code",
   "execution_count": 100,
   "id": "30292e00-d812-44fc-949e-3db615cc5459",
   "metadata": {},
   "outputs": [
    {
     "data": {
      "text/plain": [
       "[[1, 2, 3], [4, 5, 6], [7, 8, 9]]"
      ]
     },
     "execution_count": 100,
     "metadata": {},
     "output_type": "execute_result"
    }
   ],
   "source": [
    "matrix[:]"
   ]
  },
  {
   "cell_type": "code",
   "execution_count": 102,
   "id": "476eb4a2-1718-4053-8adf-df58e3d6e3c7",
   "metadata": {},
   "outputs": [
    {
     "data": {
      "text/plain": [
       "[[1, 2, 3], [4, 5, 6], [7, 8, 9]]"
      ]
     },
     "execution_count": 102,
     "metadata": {},
     "output_type": "execute_result"
    }
   ],
   "source": [
    "matrix[0:][0:]"
   ]
  },
  {
   "cell_type": "code",
   "execution_count": 104,
   "id": "c8bb46c5-01e5-47af-8343-708bc0c77c5f",
   "metadata": {},
   "outputs": [
    {
     "data": {
      "text/plain": [
       "[[1, 2, 3], [4, 5, 6]]"
      ]
     },
     "execution_count": 104,
     "metadata": {},
     "output_type": "execute_result"
    }
   ],
   "source": [
    "matrix[0:][0:2]"
   ]
  },
  {
   "cell_type": "markdown",
   "id": "e0f0d936-9f76-45d7-ad35-6f8d876a61a1",
   "metadata": {},
   "source": [
    "## list comprehension"
   ]
  },
  {
   "cell_type": "code",
   "execution_count": 105,
   "id": "f39e9af3-c14b-40f5-987a-26226478aff4",
   "metadata": {},
   "outputs": [
    {
     "data": {
      "text/plain": [
       "[0, 1, 2, 3, 4, 5, 6, 7, 8, 9, 10, 11, 12, 13, 14, 15, 16, 17, 18, 19]"
      ]
     },
     "execution_count": 105,
     "metadata": {},
     "output_type": "execute_result"
    }
   ],
   "source": [
    "[i for i in range(20)]"
   ]
  },
  {
   "cell_type": "code",
   "execution_count": 110,
   "id": "e089d6b7-37d5-4f91-9054-efaba20a0331",
   "metadata": {},
   "outputs": [
    {
     "data": {
      "text/plain": [
       "[0,\n",
       " 'odd',\n",
       " 2,\n",
       " 'odd',\n",
       " 4,\n",
       " 'odd',\n",
       " 6,\n",
       " 'odd',\n",
       " 8,\n",
       " 'odd',\n",
       " 10,\n",
       " 'odd',\n",
       " 12,\n",
       " 'odd',\n",
       " 14,\n",
       " 'odd',\n",
       " 16,\n",
       " 'odd',\n",
       " 18,\n",
       " 'odd']"
      ]
     },
     "execution_count": 110,
     "metadata": {},
     "output_type": "execute_result"
    }
   ],
   "source": [
    "# even numbers\n",
    "[i if i%2==0 else \"odd\" for i in range(0,20)]"
   ]
  },
  {
   "cell_type": "code",
   "execution_count": 113,
   "id": "1d056e55-7465-4b8e-856d-7ddeb89948a2",
   "metadata": {},
   "outputs": [
    {
     "data": {
      "text/plain": [
       "[0, 1, 2, 3, 4, 5, 6, 7, 8, 9, 10, 11, 12, 13, 14, 15, 16, 17, 18, 19]"
      ]
     },
     "execution_count": 113,
     "metadata": {},
     "output_type": "execute_result"
    }
   ],
   "source": [
    "[i for i in range(0,20)]"
   ]
  },
  {
   "cell_type": "code",
   "execution_count": 114,
   "id": "cdf28817-8342-4226-af17-2113d15f1317",
   "metadata": {},
   "outputs": [
    {
     "data": {
      "text/plain": [
       "[0, '', 2, '', 4, '', 6, '', 8, '', 10, '', 12, '', 14, '', 16, '', 18, '']"
      ]
     },
     "execution_count": 114,
     "metadata": {},
     "output_type": "execute_result"
    }
   ],
   "source": [
    "[i if i%2==0 else \"\" for i in range(0,20)]"
   ]
  },
  {
   "cell_type": "code",
   "execution_count": 115,
   "id": "cc8e6cca-3fe5-4a13-971c-729338470934",
   "metadata": {},
   "outputs": [],
   "source": [
    "## Assignment \n",
    "## Sum of even numbers and odd numbers\n",
    "lst=[1,2,3,4,5,6,7,8]\n"
   ]
  },
  {
   "cell_type": "code",
   "execution_count": 116,
   "id": "73c0a911-7317-4247-888c-1d39cda1b7ad",
   "metadata": {},
   "outputs": [
    {
     "name": "stdout",
     "output_type": "stream",
     "text": [
      "20\n",
      "16\n"
     ]
    }
   ],
   "source": [
    "lst=[1,2,3,4,5,6,7,8]\n",
    "\n",
    "even_sum=0\n",
    "odd_sum=0\n",
    "for i in lst:\n",
    "    if i % 2 == 0:\n",
    "        even_sum += i\n",
    "    else:\n",
    "        odd_sum += i\n",
    "print(even_sum)\n",
    "print(odd_sum)"
   ]
  },
  {
   "cell_type": "code",
   "execution_count": 122,
   "id": "9ef048be-bce3-4cbf-9359-59e485a4cc9f",
   "metadata": {},
   "outputs": [
    {
     "data": {
      "text/plain": [
       "[2, 4, 6, 8]"
      ]
     },
     "execution_count": 122,
     "metadata": {},
     "output_type": "execute_result"
    }
   ],
   "source": [
    "[num for num in lst if num%2==0 ]"
   ]
  },
  {
   "cell_type": "code",
   "execution_count": 123,
   "id": "20252cd5-169b-4835-80b2-01f3dd595e2c",
   "metadata": {},
   "outputs": [
    {
     "data": {
      "text/plain": [
       "20"
      ]
     },
     "execution_count": 123,
     "metadata": {},
     "output_type": "execute_result"
    }
   ],
   "source": [
    "sum([num for num in lst if num%2==0 ])"
   ]
  },
  {
   "cell_type": "code",
   "execution_count": 125,
   "id": "828ff86e-520b-43f3-b2cd-d72bbd3b4872",
   "metadata": {},
   "outputs": [
    {
     "data": {
      "text/plain": [
       "[1, 3, 5, 7]"
      ]
     },
     "execution_count": 125,
     "metadata": {},
     "output_type": "execute_result"
    }
   ],
   "source": [
    "[num for num in lst if num%2!=0 ]"
   ]
  },
  {
   "cell_type": "code",
   "execution_count": 127,
   "id": "cc659eda-df90-4c3c-97a0-9417e0a1d828",
   "metadata": {},
   "outputs": [
    {
     "data": {
      "text/plain": [
       "16"
      ]
     },
     "execution_count": 127,
     "metadata": {},
     "output_type": "execute_result"
    }
   ],
   "source": [
    "sum([num for num in lst if num%2!=0 ])"
   ]
  },
  {
   "cell_type": "code",
   "execution_count": 128,
   "id": "c2c157b7-3ad4-4e4e-9cba-4e744dacab6a",
   "metadata": {},
   "outputs": [],
   "source": [
    "even_sum=sum([num for num in lst if num%2==0 ])"
   ]
  },
  {
   "cell_type": "code",
   "execution_count": 129,
   "id": "8a2de435-9b22-4acb-a797-bb2d1e4740a3",
   "metadata": {},
   "outputs": [],
   "source": [
    "odd_sum=sum([num for num in lst if num%2!=0 ])"
   ]
  },
  {
   "cell_type": "code",
   "execution_count": 130,
   "id": "b1ba9ff5-ddda-4d32-bffd-f1c25dd8d8ad",
   "metadata": {},
   "outputs": [
    {
     "data": {
      "text/plain": [
       "20"
      ]
     },
     "execution_count": 130,
     "metadata": {},
     "output_type": "execute_result"
    }
   ],
   "source": [
    "even_sum"
   ]
  },
  {
   "cell_type": "code",
   "execution_count": 131,
   "id": "79c9ee17-42a9-42fb-9ddc-49a30661b422",
   "metadata": {},
   "outputs": [
    {
     "data": {
      "text/plain": [
       "16"
      ]
     },
     "execution_count": 131,
     "metadata": {},
     "output_type": "execute_result"
    }
   ],
   "source": [
    "odd_sum"
   ]
  },
  {
   "cell_type": "code",
   "execution_count": 132,
   "id": "caeb487f-6b16-47b5-b90d-83e03ed1bdc2",
   "metadata": {},
   "outputs": [],
   "source": [
    "lst=[1,2,3,4,5,6,7,8,9,10]"
   ]
  },
  {
   "cell_type": "code",
   "execution_count": 134,
   "id": "e07c7021-f481-41c2-84a5-28f67655b48b",
   "metadata": {},
   "outputs": [
    {
     "data": {
      "text/plain": [
       "[1, 4, 9, 16, 25, 36, 49, 64, 81, 100]"
      ]
     },
     "execution_count": 134,
     "metadata": {},
     "output_type": "execute_result"
    }
   ],
   "source": [
    "#square of all numbers in the form of list comprehension\n",
    "[num**2 for num in lst]"
   ]
  },
  {
   "cell_type": "code",
   "execution_count": 135,
   "id": "0b0cdfc8-e572-49e0-9957-9721cb055ca9",
   "metadata": {},
   "outputs": [],
   "source": [
    "# Example 2: Create a list of only the positive numbers from a given list\n",
    "numbers = [-2, -1, 0, 1, 2, 3, 4]"
   ]
  },
  {
   "cell_type": "code",
   "execution_count": 136,
   "id": "dbe2e049-0e52-4e18-84a0-4890ee970a29",
   "metadata": {},
   "outputs": [
    {
     "data": {
      "text/plain": [
       "[1, 2, 3, 4]"
      ]
     },
     "execution_count": 136,
     "metadata": {},
     "output_type": "execute_result"
    }
   ],
   "source": [
    "[ num for num in numbers if num >0]"
   ]
  },
  {
   "cell_type": "code",
   "execution_count": 137,
   "id": "a77306d8-30d3-4315-abc3-afea1252d056",
   "metadata": {},
   "outputs": [],
   "source": [
    "# Example 3: Create a list of only the first letters of words in a list\n",
    "words = ['apple', 'banana', 'cherry', 'date']"
   ]
  },
  {
   "cell_type": "code",
   "execution_count": 138,
   "id": "65cd6983-3675-45c6-9ef7-b04c9fc16afa",
   "metadata": {},
   "outputs": [
    {
     "data": {
      "text/plain": [
       "['a', 'b', 'c', 'd']"
      ]
     },
     "execution_count": 138,
     "metadata": {},
     "output_type": "execute_result"
    }
   ],
   "source": [
    "[ word[0] for word in words]"
   ]
  },
  {
   "cell_type": "code",
   "execution_count": 139,
   "id": "86f2f783-69fa-4b7a-8760-5304183ea403",
   "metadata": {},
   "outputs": [],
   "source": [
    "# (9/5)*temp+32"
   ]
  },
  {
   "cell_type": "code",
   "execution_count": 140,
   "id": "fed227dd-44a1-4f99-bf7e-837f9022102e",
   "metadata": {},
   "outputs": [],
   "source": [
    "# Example 4: Convert a list of temperatures from Celsius to Fahrenheit uing list comprehesnion\n",
    "celsius_temperatures = [0, 10, 20, 30, 40, 50]"
   ]
  },
  {
   "cell_type": "code",
   "execution_count": 146,
   "id": "13589485-8f7d-4444-920e-d055c3724b9a",
   "metadata": {},
   "outputs": [
    {
     "data": {
      "text/plain": [
       "[32.0, 50.0, 68.0, 86.0, 104.0, 122.0]"
      ]
     },
     "execution_count": 146,
     "metadata": {},
     "output_type": "execute_result"
    }
   ],
   "source": [
    "[((9/5)*temp+32)for temp in celsius_temperatures]"
   ]
  },
  {
   "cell_type": "code",
   "execution_count": 147,
   "id": "4c381523-571e-4bfa-8380-d8f131dbd379",
   "metadata": {},
   "outputs": [],
   "source": [
    "# Example 5: Flatten a list of lists into a single list\n",
    "lists = [[1, 2, 3], [4, 5, 6], [7, 8, 9]]"
   ]
  },
  {
   "cell_type": "code",
   "execution_count": 150,
   "id": "9d986af8-cd62-47c4-bfd2-06ebb12fa1aa",
   "metadata": {},
   "outputs": [
    {
     "data": {
      "text/plain": [
       "[1, 2, 3, 4, 5, 6, 7, 8, 9]"
      ]
     },
     "execution_count": 150,
     "metadata": {},
     "output_type": "execute_result"
    }
   ],
   "source": [
    "[j for i in lists for j in i]"
   ]
  },
  {
   "cell_type": "code",
   "execution_count": 151,
   "id": "2bae2ef7-3f43-475c-b905-ba72205a70ae",
   "metadata": {},
   "outputs": [
    {
     "data": {
      "text/plain": [
       "[1, 2, 3, 4, 5, 6, 7, 8, 9]"
      ]
     },
     "execution_count": 151,
     "metadata": {},
     "output_type": "execute_result"
    }
   ],
   "source": [
    "[num for sublists in lists for num in sublists] "
   ]
  },
  {
   "cell_type": "markdown",
   "id": "b0b16d90-0b7d-469c-8bec-90053854618a",
   "metadata": {},
   "source": [
    "## Assignment \n",
    "## Using both code and list comprehesnion\n",
    "\n"
   ]
  },
  {
   "cell_type": "code",
   "execution_count": 153,
   "id": "5649414b-20d3-4354-9eac-491e060f02e8",
   "metadata": {},
   "outputs": [],
   "source": [
    "# Example 2: Create a list of only the prime numbers from a given list\n",
    "numbers = [1, 2, 3, 4, 5, 6, 7, 8, 9, 10]"
   ]
  },
  {
   "cell_type": "code",
   "execution_count": 4,
   "id": "fd8639bf-956e-4cfe-9ae6-768c204ed46c",
   "metadata": {},
   "outputs": [
    {
     "name": "stdout",
     "output_type": "stream",
     "text": [
      "[2, 3, 5, 7]\n"
     ]
    }
   ],
   "source": [
    "#using code\n",
    "def is_prime(n):\n",
    "    if n < 2:\n",
    "        return False\n",
    "    for i in range(2, int(n**0.5) + 1):\n",
    "        if n % i == 0:\n",
    "            return False\n",
    "    return True\n",
    "\n",
    "numbers = [1, 2, 3, 4, 5, 6, 7, 8, 9, 10]\n",
    "prime_numbers = []\n",
    "\n",
    "for n in numbers:\n",
    "    if is_prime(n):\n",
    "        prime_numbers.append(n)\n",
    "\n",
    "print(prime_numbers)\n"
   ]
  },
  {
   "cell_type": "code",
   "execution_count": 5,
   "id": "737711d7-6446-40e0-b6ca-68951b48607b",
   "metadata": {},
   "outputs": [
    {
     "name": "stdout",
     "output_type": "stream",
     "text": [
      "[2, 3, 5, 7]\n"
     ]
    }
   ],
   "source": [
    "# using list comprehension\n",
    "numbers = [1, 2, 3, 4, 5, 6, 7, 8, 9, 10]\n",
    "\n",
    "prime_numbers = [num for num in numbers if all(num % i != 0 for i in range(2, num)) and num > 1]\n",
    "\n",
    "print(prime_numbers)\n"
   ]
  },
  {
   "cell_type": "code",
   "execution_count": 6,
   "id": "824fd7f8-fbc5-4a14-bab9-ee398b075d57",
   "metadata": {},
   "outputs": [],
   "source": [
    "# Example 3: Create a list of all the possible combinations of 2 elements from a list\n",
    "numbers = [1, 2, 3, 4, 5]"
   ]
  },
  {
   "cell_type": "code",
   "execution_count": 7,
   "id": "aee87aff-6769-414c-91dd-ee0b04b9093c",
   "metadata": {},
   "outputs": [
    {
     "name": "stdout",
     "output_type": "stream",
     "text": [
      "[(1, 2), (1, 3), (1, 4), (1, 5), (2, 3), (2, 4), (2, 5), (3, 4), (3, 5), (4, 5)]\n"
     ]
    }
   ],
   "source": [
    "# using code\n",
    "from itertools import combinations\n",
    "\n",
    "numbers = [1, 2, 3, 4, 5]\n",
    "\n",
    "combinations_list = list(combinations(numbers, 2))\n",
    "\n",
    "print(combinations_list)\n"
   ]
  },
  {
   "cell_type": "code",
   "execution_count": 9,
   "id": "2910bb28-6402-4fd3-b493-24a85a225ccb",
   "metadata": {},
   "outputs": [
    {
     "name": "stdout",
     "output_type": "stream",
     "text": [
      "[(1, 2), (1, 3), (1, 4), (1, 5), (2, 3), (2, 4), (2, 5), (3, 4), (3, 5), (4, 5)]\n"
     ]
    }
   ],
   "source": [
    "# using list comprehension\n",
    "numbers = [1, 2, 3, 4, 5]\n",
    "\n",
    "combinations = [(numbers[i], numbers[j]) for i in range(len(numbers)) for j in range(i+1, len(numbers))]\n",
    "\n",
    "print(combinations)\n"
   ]
  },
  {
   "cell_type": "code",
   "execution_count": null,
   "id": "ebe18fe1-174b-4b99-a5a5-0f0dcc290cf2",
   "metadata": {},
   "outputs": [],
   "source": []
  }
 ],
 "metadata": {
  "kernelspec": {
   "display_name": "Python 3 (ipykernel)",
   "language": "python",
   "name": "python3"
  },
  "language_info": {
   "codemirror_mode": {
    "name": "ipython",
    "version": 3
   },
   "file_extension": ".py",
   "mimetype": "text/x-python",
   "name": "python",
   "nbconvert_exporter": "python",
   "pygments_lexer": "ipython3",
   "version": "3.10.8"
  }
 },
 "nbformat": 4,
 "nbformat_minor": 5
}
