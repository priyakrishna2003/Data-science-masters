{
 "cells": [
  {
   "cell_type": "markdown",
   "id": "b5a72a87-6123-434c-bfb2-6c82f55a91d2",
   "metadata": {},
   "source": [
    "# Tuples"
   ]
  },
  {
   "cell_type": "code",
   "execution_count": 1,
   "id": "020d68c4-d502-4a1c-8bb5-518fca1f73e8",
   "metadata": {},
   "outputs": [],
   "source": [
    "# represented with ()\n",
    "t=()"
   ]
  },
  {
   "cell_type": "code",
   "execution_count": 3,
   "id": "c1df1c77-717d-4048-8539-ace0282121e6",
   "metadata": {},
   "outputs": [
    {
     "data": {
      "text/plain": [
       "tuple"
      ]
     },
     "execution_count": 3,
     "metadata": {},
     "output_type": "execute_result"
    }
   ],
   "source": [
    "type(t)"
   ]
  },
  {
   "cell_type": "code",
   "execution_count": 4,
   "id": "1e97e1d1-fc63-4676-80a9-2dcd202b32de",
   "metadata": {},
   "outputs": [],
   "source": [
    "t1=(1,2,3,4,45.45,\"priya\",True) # any data can be stored"
   ]
  },
  {
   "cell_type": "code",
   "execution_count": 5,
   "id": "449339f7-d479-434d-8c35-85016853d4b6",
   "metadata": {},
   "outputs": [
    {
     "data": {
      "text/plain": [
       "tuple"
      ]
     },
     "execution_count": 5,
     "metadata": {},
     "output_type": "execute_result"
    }
   ],
   "source": [
    "type(t1)"
   ]
  },
  {
   "cell_type": "code",
   "execution_count": 7,
   "id": "a419d964-67ea-4586-bfc7-2666e690be08",
   "metadata": {},
   "outputs": [
    {
     "data": {
      "text/plain": [
       "list"
      ]
     },
     "execution_count": 7,
     "metadata": {},
     "output_type": "execute_result"
    }
   ],
   "source": [
    "# list is represented with []\n",
    "lst=[]\n",
    "type(lst)"
   ]
  },
  {
   "cell_type": "code",
   "execution_count": 8,
   "id": "93e871df-55c7-4507-8532-184d6347a82c",
   "metadata": {},
   "outputs": [
    {
     "data": {
      "text/plain": [
       "(1, 2, 3, 4, 45.45, 'priya', True)"
      ]
     },
     "execution_count": 8,
     "metadata": {},
     "output_type": "execute_result"
    }
   ],
   "source": [
    "t1"
   ]
  },
  {
   "cell_type": "code",
   "execution_count": 9,
   "id": "e8510323-0096-409e-b6eb-eee297e7b539",
   "metadata": {},
   "outputs": [
    {
     "data": {
      "text/plain": [
       "1"
      ]
     },
     "execution_count": 9,
     "metadata": {},
     "output_type": "execute_result"
    }
   ],
   "source": [
    "# extract 1 using index\n",
    "t1[0]"
   ]
  },
  {
   "cell_type": "code",
   "execution_count": 11,
   "id": "aa44337b-d391-4da8-a087-764030454a4f",
   "metadata": {},
   "outputs": [
    {
     "data": {
      "text/plain": [
       "True"
      ]
     },
     "execution_count": 11,
     "metadata": {},
     "output_type": "execute_result"
    }
   ],
   "source": [
    "t1[6]"
   ]
  },
  {
   "cell_type": "code",
   "execution_count": 12,
   "id": "08ed61bc-8d78-4414-94ea-845a1fe9f715",
   "metadata": {},
   "outputs": [
    {
     "data": {
      "text/plain": [
       "(True, 'priya', 45.45, 4, 3, 2, 1)"
      ]
     },
     "execution_count": 12,
     "metadata": {},
     "output_type": "execute_result"
    }
   ],
   "source": [
    "# extracting the data in tuple in reverse order\n",
    "t1[::-1]\n",
    "    "
   ]
  },
  {
   "cell_type": "code",
   "execution_count": 13,
   "id": "4ea4b371-4306-464d-97a7-3d324a76c6d4",
   "metadata": {},
   "outputs": [
    {
     "data": {
      "text/plain": [
       "(1, 2, 3, 4, 45.45, 'priya', True)"
      ]
     },
     "execution_count": 13,
     "metadata": {},
     "output_type": "execute_result"
    }
   ],
   "source": [
    "# original tuple data wont be changed after reversing\n",
    "t1"
   ]
  },
  {
   "cell_type": "code",
   "execution_count": 14,
   "id": "4ef99871-a0a0-4254-972a-35ab2151104d",
   "metadata": {},
   "outputs": [],
   "source": [
    "# if we want to make changes in original tuple then we re assign the tuple\n",
    "t1=t1[::-1]"
   ]
  },
  {
   "cell_type": "code",
   "execution_count": 15,
   "id": "d270c6b3-a1c8-405a-b1b5-64d371fc5d3c",
   "metadata": {},
   "outputs": [
    {
     "data": {
      "text/plain": [
       "(True, 'priya', 45.45, 4, 3, 2, 1)"
      ]
     },
     "execution_count": 15,
     "metadata": {},
     "output_type": "execute_result"
    }
   ],
   "source": [
    "t1    # here we assigned t1 with reverse order"
   ]
  },
  {
   "cell_type": "markdown",
   "id": "ed556564-0a2b-466c-85d2-74675dfc2497",
   "metadata": {},
   "source": [
    "### slicing operation in tuples\n"
   ]
  },
  {
   "cell_type": "code",
   "execution_count": 16,
   "id": "50b64bd1-1ee9-49ea-88c5-bea94ae75e60",
   "metadata": {},
   "outputs": [
    {
     "data": {
      "text/plain": [
       "(True, 'priya', 45.45)"
      ]
     },
     "execution_count": 16,
     "metadata": {},
     "output_type": "execute_result"
    }
   ],
   "source": [
    "t1[0:3]"
   ]
  },
  {
   "cell_type": "code",
   "execution_count": 17,
   "id": "654404b7-3174-4151-b3ee-1ae00d55279d",
   "metadata": {},
   "outputs": [
    {
     "data": {
      "text/plain": [
       "(True, 'priya', 45.45, 4, 3, 2, 1)"
      ]
     },
     "execution_count": 17,
     "metadata": {},
     "output_type": "execute_result"
    }
   ],
   "source": [
    "t1"
   ]
  },
  {
   "cell_type": "markdown",
   "id": "c4007971-b5db-405d-9f60-82c30bb0c4da",
   "metadata": {},
   "source": [
    "### inbuilt operations in tuple\n"
   ]
  },
  {
   "cell_type": "raw",
   "id": "adea36f3-17aa-475f-b45f-5ad13a3acb26",
   "metadata": {},
   "source": [
    "# only 2 inbuilt functions in tuples\n",
    "   * count\n",
    "    * index"
   ]
  },
  {
   "cell_type": "code",
   "execution_count": 21,
   "id": "175dec91-0585-45c9-876f-33061c066636",
   "metadata": {},
   "outputs": [
    {
     "data": {
      "text/plain": [
       "1"
      ]
     },
     "execution_count": 21,
     "metadata": {},
     "output_type": "execute_result"
    }
   ],
   "source": [
    "t1.count(4)         # counts no of times given data is repeated"
   ]
  },
  {
   "cell_type": "code",
   "execution_count": 23,
   "id": "52a3f6a4-9de2-4492-b7d5-576d505b8683",
   "metadata": {},
   "outputs": [
    {
     "data": {
      "text/plain": [
       "1"
      ]
     },
     "execution_count": 23,
     "metadata": {},
     "output_type": "execute_result"
    }
   ],
   "source": [
    "t1.count(45.45)"
   ]
  },
  {
   "cell_type": "code",
   "execution_count": 24,
   "id": "d24984db-11a9-4ee3-b26f-cc864b801ddd",
   "metadata": {},
   "outputs": [
    {
     "data": {
      "text/plain": [
       "0"
      ]
     },
     "execution_count": 24,
     "metadata": {},
     "output_type": "execute_result"
    }
   ],
   "source": [
    "t1.count(45)"
   ]
  },
  {
   "cell_type": "code",
   "execution_count": 26,
   "id": "8f7714c3-d7e3-4f9e-b4c0-b40fe730c46a",
   "metadata": {},
   "outputs": [
    {
     "data": {
      "text/plain": [
       "2"
      ]
     },
     "execution_count": 26,
     "metadata": {},
     "output_type": "execute_result"
    }
   ],
   "source": [
    "t1.count(1)    # true value is also stored as 1"
   ]
  },
  {
   "cell_type": "code",
   "execution_count": 29,
   "id": "b314d9c3-c6f4-454f-a9ed-0ad1063eb786",
   "metadata": {},
   "outputs": [
    {
     "data": {
      "text/plain": [
       "2"
      ]
     },
     "execution_count": 29,
     "metadata": {},
     "output_type": "execute_result"
    }
   ],
   "source": [
    "t1.count(True)"
   ]
  },
  {
   "cell_type": "code",
   "execution_count": 25,
   "id": "fd2f024a-b2cb-4334-9ba7-7b1c1811abf1",
   "metadata": {},
   "outputs": [
    {
     "data": {
      "text/plain": [
       "0"
      ]
     },
     "execution_count": 25,
     "metadata": {},
     "output_type": "execute_result"
    }
   ],
   "source": [
    "t1.index(1)                # gives very first index of given data"
   ]
  },
  {
   "cell_type": "code",
   "execution_count": 27,
   "id": "53a85fc4-7098-4477-9d67-42a7e05caca7",
   "metadata": {},
   "outputs": [
    {
     "data": {
      "text/plain": [
       "1"
      ]
     },
     "execution_count": 27,
     "metadata": {},
     "output_type": "execute_result"
    }
   ],
   "source": [
    "t1.index(\"priya\")"
   ]
  },
  {
   "cell_type": "code",
   "execution_count": 28,
   "id": "2b99d4a7-d5a2-4224-83ac-647e33653b6e",
   "metadata": {},
   "outputs": [
    {
     "data": {
      "text/plain": [
       "3"
      ]
     },
     "execution_count": 28,
     "metadata": {},
     "output_type": "execute_result"
    }
   ],
   "source": [
    "t1.index(4)"
   ]
  },
  {
   "cell_type": "markdown",
   "id": "7ed5fb59-ed3b-4165-b745-3ff5f9baae13",
   "metadata": {},
   "source": [
    "## differences between list and tuples"
   ]
  },
  {
   "cell_type": "code",
   "execution_count": 30,
   "id": "8e3a2bc8-620c-417e-a1a8-fef3fed39fe0",
   "metadata": {},
   "outputs": [],
   "source": [
    "t1=(True,'priya',(45+3j),45.45,45,4,3,2,1)"
   ]
  },
  {
   "cell_type": "code",
   "execution_count": 31,
   "id": "a6915622-0ff9-443f-b4fa-bf1e3638f20c",
   "metadata": {},
   "outputs": [],
   "source": [
    "lst=[1,2,3,4]"
   ]
  },
  {
   "cell_type": "markdown",
   "id": "75584cc4-6fc8-427b-8c1f-b031e1279047",
   "metadata": {},
   "source": [
    "#### mutability and immutability"
   ]
  },
  {
   "cell_type": "markdown",
   "id": "3f85d737-48cc-48f1-98e4-66ee1c3ca465",
   "metadata": {},
   "source": [
    "#### tuples are basically folows immutability concepts where it is not going to allow u to change any element at a particular index"
   ]
  },
  {
   "cell_type": "code",
   "execution_count": 32,
   "id": "7f39c5c3-22de-44e4-8054-c5d7256c45e8",
   "metadata": {},
   "outputs": [
    {
     "data": {
      "text/plain": [
       "True"
      ]
     },
     "execution_count": 32,
     "metadata": {},
     "output_type": "execute_result"
    }
   ],
   "source": [
    "# extract from tuple\n",
    "t1[0]"
   ]
  },
  {
   "cell_type": "code",
   "execution_count": 33,
   "id": "c6456a93-527d-42e2-b642-47a9d7911c99",
   "metadata": {},
   "outputs": [
    {
     "ename": "TypeError",
     "evalue": "'tuple' object does not support item assignment",
     "output_type": "error",
     "traceback": [
      "\u001b[0;31m---------------------------------------------------------------------------\u001b[0m",
      "\u001b[0;31mTypeError\u001b[0m                                 Traceback (most recent call last)",
      "Cell \u001b[0;32mIn[33], line 2\u001b[0m\n\u001b[1;32m      1\u001b[0m \u001b[38;5;66;03m# replacing element with another element in tuple\u001b[39;00m\n\u001b[0;32m----> 2\u001b[0m \u001b[43mt1\u001b[49m\u001b[43m[\u001b[49m\u001b[38;5;241;43m0\u001b[39;49m\u001b[43m]\u001b[49m\u001b[38;5;241m=\u001b[39m\u001b[38;5;28;01mFalse\u001b[39;00m\n",
      "\u001b[0;31mTypeError\u001b[0m: 'tuple' object does not support item assignment"
     ]
    }
   ],
   "source": [
    "# replacing element with another element in tuple\n",
    "t1[0]=False"
   ]
  },
  {
   "cell_type": "markdown",
   "id": "57c294a7-febe-49ad-9c48-d5d94658c23d",
   "metadata": {},
   "source": [
    "##### the above operation produced an error because tuples are immutable i.e the elements cannot replaced with another element"
   ]
  },
  {
   "cell_type": "code",
   "execution_count": 35,
   "id": "1277bb55-0a18-4a2d-bb2e-a86bcc00e84e",
   "metadata": {},
   "outputs": [
    {
     "data": {
      "text/plain": [
       "1"
      ]
     },
     "execution_count": 35,
     "metadata": {},
     "output_type": "execute_result"
    }
   ],
   "source": [
    "#extract from list\n",
    "lst[0]"
   ]
  },
  {
   "cell_type": "code",
   "execution_count": 36,
   "id": "ac64fb05-4858-4e52-b404-70ef7689a031",
   "metadata": {},
   "outputs": [],
   "source": [
    "# replacing element with another element in list\n",
    "lst[0]=5"
   ]
  },
  {
   "cell_type": "code",
   "execution_count": 38,
   "id": "6cc1fed9-6e62-4bae-87e6-542bbb37af4c",
   "metadata": {},
   "outputs": [
    {
     "data": {
      "text/plain": [
       "[5, 2, 3, 4]"
      ]
     },
     "execution_count": 38,
     "metadata": {},
     "output_type": "execute_result"
    }
   ],
   "source": [
    "lst     # lists are mutable"
   ]
  },
  {
   "cell_type": "code",
   "execution_count": 39,
   "id": "26afdfce-6d05-4c65-bef6-52d9b25835f9",
   "metadata": {},
   "outputs": [
    {
     "data": {
      "text/plain": [
       "(True, 'priya', (45+3j), 45.45, 45, 4, 3, 2, 1)"
      ]
     },
     "execution_count": 39,
     "metadata": {},
     "output_type": "execute_result"
    }
   ],
   "source": [
    "t1"
   ]
  },
  {
   "cell_type": "code",
   "execution_count": 40,
   "id": "e8fe5d1f-1028-4e75-8af1-53bdc4c52d89",
   "metadata": {},
   "outputs": [
    {
     "name": "stdout",
     "output_type": "stream",
     "text": [
      "True\n",
      "priya\n",
      "(45+3j)\n",
      "45.45\n",
      "45\n",
      "4\n",
      "3\n",
      "2\n",
      "1\n"
     ]
    }
   ],
   "source": [
    "# iterating tuples using for loop\n",
    "for i in t1:\n",
    "    print(i)"
   ]
  },
  {
   "cell_type": "code",
   "execution_count": 42,
   "id": "fba9b135-7c2b-49c3-8247-47e2f5d44a57",
   "metadata": {},
   "outputs": [
    {
     "name": "stdout",
     "output_type": "stream",
     "text": [
      "True <class 'bool'>\n",
      "priya <class 'str'>\n",
      "(45+3j) <class 'complex'>\n",
      "45.45 <class 'float'>\n",
      "45 <class 'int'>\n",
      "4 <class 'int'>\n",
      "3 <class 'int'>\n",
      "2 <class 'int'>\n",
      "1 <class 'int'>\n"
     ]
    }
   ],
   "source": [
    "# iterating elements and their data types in tuples\n",
    "for i in t1:\n",
    "    print(i,type(i))"
   ]
  },
  {
   "cell_type": "code",
   "execution_count": 43,
   "id": "1984480e-3d2e-4bcb-8af5-52c9310718d4",
   "metadata": {},
   "outputs": [],
   "source": [
    "t2=(1,2,3,4)"
   ]
  },
  {
   "cell_type": "code",
   "execution_count": 44,
   "id": "f04ffefd-0dce-40ca-8f77-48bc221683cb",
   "metadata": {},
   "outputs": [
    {
     "data": {
      "text/plain": [
       "(1, 2, 3, 4)"
      ]
     },
     "execution_count": 44,
     "metadata": {},
     "output_type": "execute_result"
    }
   ],
   "source": [
    "t2"
   ]
  },
  {
   "cell_type": "code",
   "execution_count": 45,
   "id": "c2cb1062-1d88-4858-a873-d2d5961452c5",
   "metadata": {},
   "outputs": [
    {
     "data": {
      "text/plain": [
       "(1, 2, 3, 4, 1, 2, 3, 4, 1, 2, 3, 4)"
      ]
     },
     "execution_count": 45,
     "metadata": {},
     "output_type": "execute_result"
    }
   ],
   "source": [
    "t2 * 3"
   ]
  },
  {
   "cell_type": "code",
   "execution_count": 47,
   "id": "89452471-87ce-4472-9ef5-824820697f06",
   "metadata": {},
   "outputs": [
    {
     "data": {
      "text/plain": [
       "4"
      ]
     },
     "execution_count": 47,
     "metadata": {},
     "output_type": "execute_result"
    }
   ],
   "source": [
    "max(t2)   # shows highest number"
   ]
  },
  {
   "cell_type": "code",
   "execution_count": 48,
   "id": "6187a1b5-9e83-4684-be90-2a39b7e4d192",
   "metadata": {},
   "outputs": [
    {
     "data": {
      "text/plain": [
       "1"
      ]
     },
     "execution_count": 48,
     "metadata": {},
     "output_type": "execute_result"
    }
   ],
   "source": [
    "min(t2)     # shows lowest number"
   ]
  },
  {
   "cell_type": "code",
   "execution_count": 61,
   "id": "9a8bde4e-a790-4aa2-ad51-9ffdf7da20c9",
   "metadata": {},
   "outputs": [],
   "source": [
    "t3=(\"naga\",\"priya\",\"krishna\",\"simha\")"
   ]
  },
  {
   "cell_type": "code",
   "execution_count": 62,
   "id": "2608edd0-611d-4ae2-9106-7a14db0b9247",
   "metadata": {},
   "outputs": [
    {
     "data": {
      "text/plain": [
       "'simha'"
      ]
     },
     "execution_count": 62,
     "metadata": {},
     "output_type": "execute_result"
    }
   ],
   "source": [
    "max(t3)        # shows the string with highest alphabet"
   ]
  },
  {
   "cell_type": "code",
   "execution_count": 64,
   "id": "a79000ee-a7a7-406e-9798-487c1b2d0c8f",
   "metadata": {},
   "outputs": [
    {
     "data": {
      "text/plain": [
       "'krishna'"
      ]
     },
     "execution_count": 64,
     "metadata": {},
     "output_type": "execute_result"
    }
   ],
   "source": [
    "min(t3)         # shows the string with lowest alphabet"
   ]
  },
  {
   "cell_type": "code",
   "execution_count": 65,
   "id": "93c97030-bb1b-4856-b817-35a85b95537f",
   "metadata": {},
   "outputs": [],
   "source": [
    "t4=(\"banana\",\"egg\",\"zip\",\"owl\",\"apple\",\"cat\")"
   ]
  },
  {
   "cell_type": "code",
   "execution_count": 67,
   "id": "d3dad008-bc6c-4bdb-a25e-1720d3e019ab",
   "metadata": {},
   "outputs": [
    {
     "data": {
      "text/plain": [
       "'zip'"
      ]
     },
     "execution_count": 67,
     "metadata": {},
     "output_type": "execute_result"
    }
   ],
   "source": [
    "max(t4)"
   ]
  },
  {
   "cell_type": "code",
   "execution_count": 68,
   "id": "43d99fb3-dfe5-43a1-990c-404ea5ef7361",
   "metadata": {},
   "outputs": [
    {
     "data": {
      "text/plain": [
       "'apple'"
      ]
     },
     "execution_count": 68,
     "metadata": {},
     "output_type": "execute_result"
    }
   ],
   "source": [
    "min(t4)"
   ]
  },
  {
   "cell_type": "code",
   "execution_count": 70,
   "id": "c0ea03ab-6e73-4970-9c3b-198bccf5da08",
   "metadata": {},
   "outputs": [],
   "source": [
    "# tuple inside a tuple\n",
    "t1=(1,2,3,4)\n",
    "t2=(4,5,6,7,8)"
   ]
  },
  {
   "cell_type": "code",
   "execution_count": 74,
   "id": "d30d2f09-c20e-4878-8521-639ac799cdf0",
   "metadata": {},
   "outputs": [],
   "source": [
    "t3=(t1,t2)"
   ]
  },
  {
   "cell_type": "code",
   "execution_count": 75,
   "id": "88ef9823-f924-4a5f-acb8-ac66b1bab94d",
   "metadata": {},
   "outputs": [
    {
     "data": {
      "text/plain": [
       "((1, 2, 3, 4), (4, 5, 6, 7, 8))"
      ]
     },
     "execution_count": 75,
     "metadata": {},
     "output_type": "execute_result"
    }
   ],
   "source": [
    "t3"
   ]
  },
  {
   "cell_type": "markdown",
   "id": "91bd6599-3e86-49d9-9a96-391808d32e21",
   "metadata": {},
   "source": [
    "### list inside a tuple or a tuple inside a list"
   ]
  },
  {
   "cell_type": "code",
   "execution_count": 77,
   "id": "924ef7fd-607a-4eda-972f-985aa038f67e",
   "metadata": {},
   "outputs": [],
   "source": [
    "t4=((1,2,3,4,5),[12,3,43,76])\n"
   ]
  },
  {
   "cell_type": "code",
   "execution_count": 78,
   "id": "94d6b88b-ad35-468a-94e7-bfa409f481ae",
   "metadata": {},
   "outputs": [
    {
     "data": {
      "text/plain": [
       "((1, 2, 3, 4, 5), [12, 3, 43, 76])"
      ]
     },
     "execution_count": 78,
     "metadata": {},
     "output_type": "execute_result"
    }
   ],
   "source": [
    "t4"
   ]
  },
  {
   "cell_type": "code",
   "execution_count": 79,
   "id": "813a6cc7-f292-4fa0-ba18-45fc0d548d2f",
   "metadata": {},
   "outputs": [],
   "source": [
    "t5=(1,2,3,4)"
   ]
  },
  {
   "cell_type": "code",
   "execution_count": 80,
   "id": "36efbe7f-5896-4161-8ba2-f7138a006b08",
   "metadata": {},
   "outputs": [],
   "source": [
    "t6=[1,2,34]"
   ]
  },
  {
   "cell_type": "code",
   "execution_count": 81,
   "id": "ad85a105-5cc6-4761-99dd-0c3f666829c8",
   "metadata": {},
   "outputs": [],
   "source": [
    "t7=(t5,t6)"
   ]
  },
  {
   "cell_type": "code",
   "execution_count": 82,
   "id": "a773f731-7cba-4f2b-8e7b-0951c393fca1",
   "metadata": {},
   "outputs": [
    {
     "data": {
      "text/plain": [
       "((1, 2, 3, 4), [1, 2, 34])"
      ]
     },
     "execution_count": 82,
     "metadata": {},
     "output_type": "execute_result"
    }
   ],
   "source": [
    "t7"
   ]
  },
  {
   "cell_type": "code",
   "execution_count": 83,
   "id": "76a4a3d1-5fb2-491d-a383-c95f3761e8c7",
   "metadata": {},
   "outputs": [],
   "source": [
    "t7=[t6,t5]"
   ]
  },
  {
   "cell_type": "code",
   "execution_count": 84,
   "id": "bb7b4cec-f78b-4cee-a5fe-e01b8a075836",
   "metadata": {},
   "outputs": [
    {
     "data": {
      "text/plain": [
       "[[1, 2, 34], (1, 2, 3, 4)]"
      ]
     },
     "execution_count": 84,
     "metadata": {},
     "output_type": "execute_result"
    }
   ],
   "source": [
    "t7"
   ]
  },
  {
   "cell_type": "code",
   "execution_count": 85,
   "id": "e2cd6d20-12c4-43f7-95f8-412d78104b1c",
   "metadata": {},
   "outputs": [],
   "source": [
    "# deleting a tuple\n",
    "t0=(1,2,3,4)"
   ]
  },
  {
   "cell_type": "code",
   "execution_count": 86,
   "id": "6bf9c5a7-965e-4205-9f44-a0f6d6c2b738",
   "metadata": {},
   "outputs": [
    {
     "data": {
      "text/plain": [
       "(1, 2, 3, 4)"
      ]
     },
     "execution_count": 86,
     "metadata": {},
     "output_type": "execute_result"
    }
   ],
   "source": [
    "t0"
   ]
  },
  {
   "cell_type": "code",
   "execution_count": 87,
   "id": "3bee9c7e-03e1-4f47-91fc-130082d10cda",
   "metadata": {},
   "outputs": [],
   "source": [
    "del t0"
   ]
  },
  {
   "cell_type": "code",
   "execution_count": 88,
   "id": "4eff22e9-750d-4509-84d1-a19394ce30ee",
   "metadata": {},
   "outputs": [
    {
     "ename": "NameError",
     "evalue": "name 't0' is not defined",
     "output_type": "error",
     "traceback": [
      "\u001b[0;31m---------------------------------------------------------------------------\u001b[0m",
      "\u001b[0;31mNameError\u001b[0m                                 Traceback (most recent call last)",
      "Cell \u001b[0;32mIn[88], line 1\u001b[0m\n\u001b[0;32m----> 1\u001b[0m \u001b[43mt0\u001b[49m\n",
      "\u001b[0;31mNameError\u001b[0m: name 't0' is not defined"
     ]
    }
   ],
   "source": [
    "t0       # t0 no longer exists"
   ]
  },
  {
   "cell_type": "code",
   "execution_count": 92,
   "id": "54054d8f-0ad8-445a-bddc-e58c7e2a5ada",
   "metadata": {},
   "outputs": [
    {
     "data": {
      "text/plain": [
       "4"
      ]
     },
     "execution_count": 92,
     "metadata": {},
     "output_type": "execute_result"
    }
   ],
   "source": [
    "t5=(1,2,3,4)\n",
    "len(t5)"
   ]
  },
  {
   "cell_type": "code",
   "execution_count": 93,
   "id": "1a7b0c9c-5489-4c75-a3fe-f7f9e9a4d8cb",
   "metadata": {},
   "outputs": [],
   "source": [
    "t1=(True,'priya',(45+3j),45.45,45,4,3,2,1)"
   ]
  },
  {
   "cell_type": "code",
   "execution_count": 94,
   "id": "98b93da3-939b-406a-9cf5-095ad0551635",
   "metadata": {},
   "outputs": [
    {
     "data": {
      "text/plain": [
       "True"
      ]
     },
     "execution_count": 94,
     "metadata": {},
     "output_type": "execute_result"
    }
   ],
   "source": [
    "\"priya\" in t1     # if elemen"
   ]
  },
  {
   "cell_type": "code",
   "execution_count": 95,
   "id": "bdc93fe2-14c6-4568-b995-643fedb2f52e",
   "metadata": {},
   "outputs": [
    {
     "data": {
      "text/plain": [
       "False"
      ]
     },
     "execution_count": 95,
     "metadata": {},
     "output_type": "execute_result"
    }
   ],
   "source": [
    "6 in t1"
   ]
  },
  {
   "cell_type": "code",
   "execution_count": null,
   "id": "909b7823-4547-4fd7-adaa-7ec6fbb62e60",
   "metadata": {},
   "outputs": [],
   "source": []
  }
 ],
 "metadata": {
  "kernelspec": {
   "display_name": "Python 3 (ipykernel)",
   "language": "python",
   "name": "python3"
  },
  "language_info": {
   "codemirror_mode": {
    "name": "ipython",
    "version": 3
   },
   "file_extension": ".py",
   "mimetype": "text/x-python",
   "name": "python",
   "nbconvert_exporter": "python",
   "pygments_lexer": "ipython3",
   "version": "3.10.8"
  }
 },
 "nbformat": 4,
 "nbformat_minor": 5
}
