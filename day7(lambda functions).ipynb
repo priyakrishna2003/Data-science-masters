{
 "cells": [
  {
   "cell_type": "markdown",
   "id": "351b45c0-d86a-4287-91a8-c017c0b490bc",
   "metadata": {},
   "source": [
    "# lambda functions"
   ]
  },
  {
   "cell_type": "code",
   "execution_count": 1,
   "id": "a82a66ab-0762-4678-adf8-3a3c25041596",
   "metadata": {},
   "outputs": [],
   "source": [
    "n=3\n",
    "p=2"
   ]
  },
  {
   "cell_type": "code",
   "execution_count": 5,
   "id": "4387d385-9087-4ba6-bc4a-0c748c6f92d9",
   "metadata": {},
   "outputs": [],
   "source": [
    "def test(n,p):\n",
    "    return n**p"
   ]
  },
  {
   "cell_type": "code",
   "execution_count": 6,
   "id": "a41ea02e-ce02-4fa3-8135-e746759ffca2",
   "metadata": {},
   "outputs": [
    {
     "data": {
      "text/plain": [
       "8"
      ]
     },
     "execution_count": 6,
     "metadata": {},
     "output_type": "execute_result"
    }
   ],
   "source": [
    "test(2,3)"
   ]
  },
  {
   "cell_type": "code",
   "execution_count": 7,
   "id": "88543f7b-82c2-434d-b43f-8f79e04e589c",
   "metadata": {},
   "outputs": [
    {
     "data": {
      "text/plain": [
       "387420489"
      ]
     },
     "execution_count": 7,
     "metadata": {},
     "output_type": "execute_result"
    }
   ],
   "source": [
    "test(9,9)"
   ]
  },
  {
   "cell_type": "code",
   "execution_count": 9,
   "id": "44ef63d4-dda9-47fd-84a5-905c040f8935",
   "metadata": {},
   "outputs": [],
   "source": [
    "a=lambda n,p:n**p\n"
   ]
  },
  {
   "cell_type": "code",
   "execution_count": 10,
   "id": "46f76ed1-dfec-4e0f-aa04-a61e7e243c4f",
   "metadata": {},
   "outputs": [
    {
     "data": {
      "text/plain": [
       "387420489"
      ]
     },
     "execution_count": 10,
     "metadata": {},
     "output_type": "execute_result"
    }
   ],
   "source": [
    "a(9,9)"
   ]
  },
  {
   "cell_type": "code",
   "execution_count": 11,
   "id": "2e425a86-e12f-4d07-a773-43d03aeb78be",
   "metadata": {},
   "outputs": [
    {
     "data": {
      "text/plain": [
       "8"
      ]
     },
     "execution_count": 11,
     "metadata": {},
     "output_type": "execute_result"
    }
   ],
   "source": [
    "a(2,3)"
   ]
  },
  {
   "cell_type": "code",
   "execution_count": 12,
   "id": "23a462a6-ebfd-4afc-b781-d3d6382deef8",
   "metadata": {},
   "outputs": [],
   "source": [
    "add=lambda x,y:x+y"
   ]
  },
  {
   "cell_type": "code",
   "execution_count": 13,
   "id": "b16eacd6-a246-4790-91f4-2f85eadefc23",
   "metadata": {},
   "outputs": [
    {
     "data": {
      "text/plain": [
       "17"
      ]
     },
     "execution_count": 13,
     "metadata": {},
     "output_type": "execute_result"
    }
   ],
   "source": [
    "add(9,8)"
   ]
  },
  {
   "cell_type": "code",
   "execution_count": 14,
   "id": "0990da7b-3c69-4460-911a-94216e76ed93",
   "metadata": {},
   "outputs": [],
   "source": [
    "sub=lambda x,y:x-y"
   ]
  },
  {
   "cell_type": "code",
   "execution_count": 15,
   "id": "3412e672-00ca-4f44-a516-ced2a1d2e82e",
   "metadata": {},
   "outputs": [
    {
     "data": {
      "text/plain": [
       "1"
      ]
     },
     "execution_count": 15,
     "metadata": {},
     "output_type": "execute_result"
    }
   ],
   "source": [
    "sub(9,8)"
   ]
  },
  {
   "cell_type": "code",
   "execution_count": 16,
   "id": "938302ee-b7bf-4d3b-b9a3-adbb13dc0164",
   "metadata": {},
   "outputs": [],
   "source": [
    "C_to_F=lambda C:(9/5)*C+32"
   ]
  },
  {
   "cell_type": "code",
   "execution_count": 17,
   "id": "346a8f23-95d6-46e0-a912-ea86c826e9af",
   "metadata": {},
   "outputs": [
    {
     "data": {
      "text/plain": [
       "46.4"
      ]
     },
     "execution_count": 17,
     "metadata": {},
     "output_type": "execute_result"
    }
   ],
   "source": [
    "C_to_F(8)"
   ]
  },
  {
   "cell_type": "code",
   "execution_count": 18,
   "id": "6fd508fe-793a-4dc0-aee0-95f17be24be5",
   "metadata": {},
   "outputs": [
    {
     "data": {
      "text/plain": [
       "93.2"
      ]
     },
     "execution_count": 18,
     "metadata": {},
     "output_type": "execute_result"
    }
   ],
   "source": [
    "C_to_F(34)"
   ]
  },
  {
   "cell_type": "code",
   "execution_count": 20,
   "id": "5ddd06e5-9d47-4bdb-877c-4b20a6bfb805",
   "metadata": {},
   "outputs": [],
   "source": [
    "max=lambda x,y: x if x > y else y"
   ]
  },
  {
   "cell_type": "code",
   "execution_count": 21,
   "id": "81bd70f0-3755-4061-beb6-7b1571c8b2aa",
   "metadata": {},
   "outputs": [
    {
     "data": {
      "text/plain": [
       "9"
      ]
     },
     "execution_count": 21,
     "metadata": {},
     "output_type": "execute_result"
    }
   ],
   "source": [
    "max(8,9)"
   ]
  },
  {
   "cell_type": "code",
   "execution_count": 22,
   "id": "6bc700b4-2165-4c50-acab-42b4a0c8df7c",
   "metadata": {},
   "outputs": [
    {
     "data": {
      "text/plain": [
       "7"
      ]
     },
     "execution_count": 22,
     "metadata": {},
     "output_type": "execute_result"
    }
   ],
   "source": [
    "max(7,4)"
   ]
  },
  {
   "cell_type": "code",
   "execution_count": null,
   "id": "8f4d54e0-50df-40de-89f5-cbf46f6713fb",
   "metadata": {},
   "outputs": [],
   "source": []
  }
 ],
 "metadata": {
  "kernelspec": {
   "display_name": "Python 3 (ipykernel)",
   "language": "python",
   "name": "python3"
  },
  "language_info": {
   "codemirror_mode": {
    "name": "ipython",
    "version": 3
   },
   "file_extension": ".py",
   "mimetype": "text/x-python",
   "name": "python",
   "nbconvert_exporter": "python",
   "pygments_lexer": "ipython3",
   "version": "3.10.8"
  }
 },
 "nbformat": 4,
 "nbformat_minor": 5
}
